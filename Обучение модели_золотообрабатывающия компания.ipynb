{
 "cells": [
  {
   "cell_type": "markdown",
   "metadata": {
    "toc": true
   },
   "source": [
    "<h1>Содержание<span class=\"tocSkip\"></span></h1>\n",
    "<div class=\"toc\"><ul class=\"toc-item\"><li><span><a href=\"#Подготовка-данных\" data-toc-modified-id=\"Подготовка-данных-1\"><span class=\"toc-item-num\">1&nbsp;&nbsp;</span>Подготовка данных</a></span><ul class=\"toc-item\"><li><span><a href=\"#Подключение-библиотек,-открытие-и-изучение-файла\" data-toc-modified-id=\"Подключение-библиотек,-открытие-и-изучение-файла-1.1\"><span class=\"toc-item-num\">1.1&nbsp;&nbsp;</span>Подключение библиотек, открытие и изучение файла</a></span></li><li><span><a href=\"#Проверка-правильности-расчета-эффективности-обогащения\" data-toc-modified-id=\"Проверка-правильности-расчета-эффективности-обогащения-1.2\"><span class=\"toc-item-num\">1.2&nbsp;&nbsp;</span>Проверка правильности расчета эффективности обогащения</a></span></li><li><span><a href=\"#Сравнение-обучающей-и-тестовой-выборок\" data-toc-modified-id=\"Сравнение-обучающей-и-тестовой-выборок-1.3\"><span class=\"toc-item-num\">1.3&nbsp;&nbsp;</span>Сравнение обучающей и тестовой выборок</a></span></li><li><span><a href=\"#Предобработка-данных\" data-toc-modified-id=\"Предобработка-данных-1.4\"><span class=\"toc-item-num\">1.4&nbsp;&nbsp;</span>Предобработка данных</a></span></li></ul></li><li><span><a href=\"#Анализ-данных\" data-toc-modified-id=\"Анализ-данных-2\"><span class=\"toc-item-num\">2&nbsp;&nbsp;</span>Анализ данных</a></span><ul class=\"toc-item\"><li><span><a href=\"#Оценка-изменения-параметра-концентрации\" data-toc-modified-id=\"Оценка-изменения-параметра-концентрации-2.1\"><span class=\"toc-item-num\">2.1&nbsp;&nbsp;</span>Оценка изменения параметра концентрации</a></span></li><li><span><a href=\"#Оценка-изменения-параметра-размера-гранул\" data-toc-modified-id=\"Оценка-изменения-параметра-размера-гранул-2.2\"><span class=\"toc-item-num\">2.2&nbsp;&nbsp;</span>Оценка изменения параметра размера гранул</a></span></li></ul></li><li><span><a href=\"#Модель\" data-toc-modified-id=\"Модель-3\"><span class=\"toc-item-num\">3&nbsp;&nbsp;</span>Модель</a></span><ul class=\"toc-item\"><li><span><a href=\"#Обозначаем-целевые-признаки-признаки\" data-toc-modified-id=\"Обозначаем-целевые-признаки-признаки-3.1\"><span class=\"toc-item-num\">3.1&nbsp;&nbsp;</span>Обозначаем целевые признаки признаки</a></span></li><li><span><a href=\"#Прописываем-sMAPE\" data-toc-modified-id=\"Прописываем-sMAPE-3.2\"><span class=\"toc-item-num\">3.2&nbsp;&nbsp;</span>Прописываем sMAPE</a></span></li><li><span><a href=\"#Модель-дерева-решений\" data-toc-modified-id=\"Модель-дерева-решений-3.3\"><span class=\"toc-item-num\">3.3&nbsp;&nbsp;</span>Модель дерева решений</a></span></li><li><span><a href=\"#Модель-линейной-регрессии\" data-toc-modified-id=\"Модель-линейной-регрессии-3.4\"><span class=\"toc-item-num\">3.4&nbsp;&nbsp;</span>Модель линейной регрессии</a></span></li><li><span><a href=\"#Модель-случайного-леса\" data-toc-modified-id=\"Модель-случайного-леса-3.5\"><span class=\"toc-item-num\">3.5&nbsp;&nbsp;</span>Модель случайного леса</a></span></li><li><span><a href=\"#Проверка-лучшей-модели-на-тестовой-выборке\" data-toc-modified-id=\"Проверка-лучшей-модели-на-тестовой-выборке-3.6\"><span class=\"toc-item-num\">3.6&nbsp;&nbsp;</span>Проверка лучшей модели на тестовой выборке</a></span></li></ul></li></ul></div>"
   ]
  },
  {
   "cell_type": "markdown",
   "metadata": {},
   "source": [
    "# Восстановление золота из руды"
   ]
  },
  {
   "cell_type": "markdown",
   "metadata": {},
   "source": [
    "Подготовьте прототип модели машинного обучения для «Цифры». Компания разрабатывает решения для эффективной работы промышленных предприятий.\n",
    "\n",
    "Модель должна предсказать коэффициент восстановления золота из золотосодержащей руды. Используйте данные с параметрами добычи и очистки. \n",
    "\n",
    "Модель поможет оптимизировать производство, чтобы не запускать предприятие с убыточными характеристиками.\n",
    "\n",
    "Нужно:\n",
    "\n",
    "1. Подготовить данные;\n",
    "2. Провести исследовательский анализ данных;\n",
    "3. Построить и обучить модель.\n"
   ]
  },
  {
   "cell_type": "markdown",
   "metadata": {},
   "source": [
    "## Подготовка данных"
   ]
  },
  {
   "cell_type": "markdown",
   "metadata": {},
   "source": [
    "### Подключение библиотек, открытие и изучение файла"
   ]
  },
  {
   "cell_type": "code",
   "execution_count": 131,
   "metadata": {},
   "outputs": [
    {
     "name": "stdout",
     "output_type": "stream",
     "text": [
      "Requirement already satisfied: scikit-learn in /Library/Frameworks/Python.framework/Versions/3.13/lib/python3.13/site-packages (1.5.2)\n",
      "Requirement already satisfied: numpy>=1.19.5 in /Library/Frameworks/Python.framework/Versions/3.13/lib/python3.13/site-packages (from scikit-learn) (2.1.3)\n",
      "Requirement already satisfied: scipy>=1.6.0 in /Library/Frameworks/Python.framework/Versions/3.13/lib/python3.13/site-packages (from scikit-learn) (1.14.1)\n",
      "Requirement already satisfied: joblib>=1.2.0 in /Library/Frameworks/Python.framework/Versions/3.13/lib/python3.13/site-packages (from scikit-learn) (1.4.2)\n",
      "Requirement already satisfied: threadpoolctl>=3.1.0 in /Library/Frameworks/Python.framework/Versions/3.13/lib/python3.13/site-packages (from scikit-learn) (3.5.0)\n",
      "\n",
      "\u001b[1m[\u001b[0m\u001b[34;49mnotice\u001b[0m\u001b[1;39;49m]\u001b[0m\u001b[39;49m A new release of pip is available: \u001b[0m\u001b[31;49m24.2\u001b[0m\u001b[39;49m -> \u001b[0m\u001b[32;49m24.3.1\u001b[0m\n",
      "\u001b[1m[\u001b[0m\u001b[34;49mnotice\u001b[0m\u001b[1;39;49m]\u001b[0m\u001b[39;49m To update, run: \u001b[0m\u001b[32;49mpip3 install --upgrade pip\u001b[0m\n"
     ]
    }
   ],
   "source": [
    "! /Library/Frameworks/Python.framework/Versions/3.13/bin/python3.13 -m pip install scikit-learn"
   ]
  },
  {
   "cell_type": "code",
   "execution_count": 132,
   "metadata": {},
   "outputs": [],
   "source": [
    "import pandas as pd\n",
    "import matplotlib.pyplot as plt \n",
    "import numpy as np\n",
    "import seaborn as sns\n",
    "\n",
    "from sklearn.dummy import DummyRegressor\n",
    "from sklearn.tree import DecisionTreeRegressor\n",
    "from sklearn.ensemble import RandomForestRegressor\n",
    "from sklearn.linear_model import LinearRegression\n",
    "\n",
    "from sklearn.metrics import mean_absolute_error\n",
    "from sklearn.metrics import mean_squared_error\n",
    "from sklearn.metrics import accuracy_score\n",
    "\n",
    "from sklearn.model_selection import train_test_split"
   ]
  },
  {
   "cell_type": "code",
   "execution_count": 133,
   "metadata": {},
   "outputs": [
    {
     "data": {
      "text/html": [
       "<div>\n",
       "<style scoped>\n",
       "    .dataframe tbody tr th:only-of-type {\n",
       "        vertical-align: middle;\n",
       "    }\n",
       "\n",
       "    .dataframe tbody tr th {\n",
       "        vertical-align: top;\n",
       "    }\n",
       "\n",
       "    .dataframe thead th {\n",
       "        text-align: right;\n",
       "    }\n",
       "</style>\n",
       "<table border=\"1\" class=\"dataframe\">\n",
       "  <thead>\n",
       "    <tr style=\"text-align: right;\">\n",
       "      <th></th>\n",
       "      <th>date</th>\n",
       "      <th>final.output.concentrate_ag</th>\n",
       "      <th>final.output.concentrate_pb</th>\n",
       "      <th>final.output.concentrate_sol</th>\n",
       "      <th>final.output.concentrate_au</th>\n",
       "      <th>final.output.recovery</th>\n",
       "      <th>final.output.tail_ag</th>\n",
       "      <th>final.output.tail_pb</th>\n",
       "      <th>final.output.tail_sol</th>\n",
       "      <th>final.output.tail_au</th>\n",
       "      <th>...</th>\n",
       "      <th>secondary_cleaner.state.floatbank4_a_air</th>\n",
       "      <th>secondary_cleaner.state.floatbank4_a_level</th>\n",
       "      <th>secondary_cleaner.state.floatbank4_b_air</th>\n",
       "      <th>secondary_cleaner.state.floatbank4_b_level</th>\n",
       "      <th>secondary_cleaner.state.floatbank5_a_air</th>\n",
       "      <th>secondary_cleaner.state.floatbank5_a_level</th>\n",
       "      <th>secondary_cleaner.state.floatbank5_b_air</th>\n",
       "      <th>secondary_cleaner.state.floatbank5_b_level</th>\n",
       "      <th>secondary_cleaner.state.floatbank6_a_air</th>\n",
       "      <th>secondary_cleaner.state.floatbank6_a_level</th>\n",
       "    </tr>\n",
       "  </thead>\n",
       "  <tbody>\n",
       "    <tr>\n",
       "      <th>0</th>\n",
       "      <td>2016-01-15 00:00:00</td>\n",
       "      <td>6.055403</td>\n",
       "      <td>9.889648</td>\n",
       "      <td>5.507324</td>\n",
       "      <td>42.192020</td>\n",
       "      <td>70.541216</td>\n",
       "      <td>10.411962</td>\n",
       "      <td>0.895447</td>\n",
       "      <td>16.904297</td>\n",
       "      <td>2.143149</td>\n",
       "      <td>...</td>\n",
       "      <td>14.016835</td>\n",
       "      <td>-502.488007</td>\n",
       "      <td>12.099931</td>\n",
       "      <td>-504.715942</td>\n",
       "      <td>9.925633</td>\n",
       "      <td>-498.310211</td>\n",
       "      <td>8.079666</td>\n",
       "      <td>-500.470978</td>\n",
       "      <td>14.151341</td>\n",
       "      <td>-605.841980</td>\n",
       "    </tr>\n",
       "    <tr>\n",
       "      <th>1</th>\n",
       "      <td>2016-01-15 01:00:00</td>\n",
       "      <td>6.029369</td>\n",
       "      <td>9.968944</td>\n",
       "      <td>5.257781</td>\n",
       "      <td>42.701629</td>\n",
       "      <td>69.266198</td>\n",
       "      <td>10.462676</td>\n",
       "      <td>0.927452</td>\n",
       "      <td>16.634514</td>\n",
       "      <td>2.224930</td>\n",
       "      <td>...</td>\n",
       "      <td>13.992281</td>\n",
       "      <td>-505.503262</td>\n",
       "      <td>11.950531</td>\n",
       "      <td>-501.331529</td>\n",
       "      <td>10.039245</td>\n",
       "      <td>-500.169983</td>\n",
       "      <td>7.984757</td>\n",
       "      <td>-500.582168</td>\n",
       "      <td>13.998353</td>\n",
       "      <td>-599.787184</td>\n",
       "    </tr>\n",
       "    <tr>\n",
       "      <th>2</th>\n",
       "      <td>2016-01-15 02:00:00</td>\n",
       "      <td>6.055926</td>\n",
       "      <td>10.213995</td>\n",
       "      <td>5.383759</td>\n",
       "      <td>42.657501</td>\n",
       "      <td>68.116445</td>\n",
       "      <td>10.507046</td>\n",
       "      <td>0.953716</td>\n",
       "      <td>16.208849</td>\n",
       "      <td>2.257889</td>\n",
       "      <td>...</td>\n",
       "      <td>14.015015</td>\n",
       "      <td>-502.520901</td>\n",
       "      <td>11.912783</td>\n",
       "      <td>-501.133383</td>\n",
       "      <td>10.070913</td>\n",
       "      <td>-500.129135</td>\n",
       "      <td>8.013877</td>\n",
       "      <td>-500.517572</td>\n",
       "      <td>14.028663</td>\n",
       "      <td>-601.427363</td>\n",
       "    </tr>\n",
       "    <tr>\n",
       "      <th>3</th>\n",
       "      <td>2016-01-15 03:00:00</td>\n",
       "      <td>6.047977</td>\n",
       "      <td>9.977019</td>\n",
       "      <td>4.858634</td>\n",
       "      <td>42.689819</td>\n",
       "      <td>68.347543</td>\n",
       "      <td>10.422762</td>\n",
       "      <td>0.883763</td>\n",
       "      <td>16.532835</td>\n",
       "      <td>2.146849</td>\n",
       "      <td>...</td>\n",
       "      <td>14.036510</td>\n",
       "      <td>-500.857308</td>\n",
       "      <td>11.999550</td>\n",
       "      <td>-501.193686</td>\n",
       "      <td>9.970366</td>\n",
       "      <td>-499.201640</td>\n",
       "      <td>7.977324</td>\n",
       "      <td>-500.255908</td>\n",
       "      <td>14.005551</td>\n",
       "      <td>-599.996129</td>\n",
       "    </tr>\n",
       "    <tr>\n",
       "      <th>4</th>\n",
       "      <td>2016-01-15 04:00:00</td>\n",
       "      <td>6.148599</td>\n",
       "      <td>10.142511</td>\n",
       "      <td>4.939416</td>\n",
       "      <td>42.774141</td>\n",
       "      <td>66.927016</td>\n",
       "      <td>10.360302</td>\n",
       "      <td>0.792826</td>\n",
       "      <td>16.525686</td>\n",
       "      <td>2.055292</td>\n",
       "      <td>...</td>\n",
       "      <td>14.027298</td>\n",
       "      <td>-499.838632</td>\n",
       "      <td>11.953070</td>\n",
       "      <td>-501.053894</td>\n",
       "      <td>9.925709</td>\n",
       "      <td>-501.686727</td>\n",
       "      <td>7.894242</td>\n",
       "      <td>-500.356035</td>\n",
       "      <td>13.996647</td>\n",
       "      <td>-601.496691</td>\n",
       "    </tr>\n",
       "    <tr>\n",
       "      <th>5</th>\n",
       "      <td>2016-01-15 05:00:00</td>\n",
       "      <td>6.482968</td>\n",
       "      <td>10.049416</td>\n",
       "      <td>5.480257</td>\n",
       "      <td>41.633678</td>\n",
       "      <td>69.465816</td>\n",
       "      <td>10.182708</td>\n",
       "      <td>0.664118</td>\n",
       "      <td>16.999638</td>\n",
       "      <td>1.918586</td>\n",
       "      <td>...</td>\n",
       "      <td>13.938497</td>\n",
       "      <td>-500.970168</td>\n",
       "      <td>11.883350</td>\n",
       "      <td>-500.395298</td>\n",
       "      <td>10.054147</td>\n",
       "      <td>-496.374715</td>\n",
       "      <td>7.965083</td>\n",
       "      <td>-499.364752</td>\n",
       "      <td>14.017067</td>\n",
       "      <td>-599.707915</td>\n",
       "    </tr>\n",
       "    <tr>\n",
       "      <th>6</th>\n",
       "      <td>2016-01-15 06:00:00</td>\n",
       "      <td>6.533849</td>\n",
       "      <td>10.058141</td>\n",
       "      <td>4.569100</td>\n",
       "      <td>41.995316</td>\n",
       "      <td>69.300835</td>\n",
       "      <td>10.304598</td>\n",
       "      <td>0.807342</td>\n",
       "      <td>16.723575</td>\n",
       "      <td>2.058913</td>\n",
       "      <td>...</td>\n",
       "      <td>14.046819</td>\n",
       "      <td>-500.971133</td>\n",
       "      <td>12.091543</td>\n",
       "      <td>-500.501426</td>\n",
       "      <td>10.003247</td>\n",
       "      <td>-497.083180</td>\n",
       "      <td>8.010890</td>\n",
       "      <td>-500.002423</td>\n",
       "      <td>14.029649</td>\n",
       "      <td>-600.905470</td>\n",
       "    </tr>\n",
       "    <tr>\n",
       "      <th>7</th>\n",
       "      <td>2016-01-15 07:00:00</td>\n",
       "      <td>6.130823</td>\n",
       "      <td>9.935481</td>\n",
       "      <td>4.389813</td>\n",
       "      <td>42.452727</td>\n",
       "      <td>70.230976</td>\n",
       "      <td>10.443288</td>\n",
       "      <td>0.949346</td>\n",
       "      <td>16.689959</td>\n",
       "      <td>2.143437</td>\n",
       "      <td>...</td>\n",
       "      <td>13.974691</td>\n",
       "      <td>-501.819696</td>\n",
       "      <td>12.101324</td>\n",
       "      <td>-500.583446</td>\n",
       "      <td>9.873169</td>\n",
       "      <td>-499.171928</td>\n",
       "      <td>7.993381</td>\n",
       "      <td>-499.794518</td>\n",
       "      <td>13.984498</td>\n",
       "      <td>-600.411070</td>\n",
       "    </tr>\n",
       "    <tr>\n",
       "      <th>8</th>\n",
       "      <td>2016-01-15 08:00:00</td>\n",
       "      <td>5.834140</td>\n",
       "      <td>10.071156</td>\n",
       "      <td>4.876389</td>\n",
       "      <td>43.404078</td>\n",
       "      <td>69.688595</td>\n",
       "      <td>10.420140</td>\n",
       "      <td>1.065453</td>\n",
       "      <td>17.201948</td>\n",
       "      <td>2.209881</td>\n",
       "      <td>...</td>\n",
       "      <td>13.964030</td>\n",
       "      <td>-504.252450</td>\n",
       "      <td>12.060738</td>\n",
       "      <td>-501.174549</td>\n",
       "      <td>10.033838</td>\n",
       "      <td>-501.178133</td>\n",
       "      <td>7.881604</td>\n",
       "      <td>-499.729434</td>\n",
       "      <td>13.967135</td>\n",
       "      <td>-599.061188</td>\n",
       "    </tr>\n",
       "    <tr>\n",
       "      <th>9</th>\n",
       "      <td>2016-01-15 09:00:00</td>\n",
       "      <td>5.687063</td>\n",
       "      <td>9.980404</td>\n",
       "      <td>5.282514</td>\n",
       "      <td>43.235220</td>\n",
       "      <td>70.279619</td>\n",
       "      <td>10.487013</td>\n",
       "      <td>1.159805</td>\n",
       "      <td>17.483979</td>\n",
       "      <td>2.209593</td>\n",
       "      <td>...</td>\n",
       "      <td>13.989632</td>\n",
       "      <td>-503.195299</td>\n",
       "      <td>12.052233</td>\n",
       "      <td>-500.928547</td>\n",
       "      <td>9.962574</td>\n",
       "      <td>-502.986357</td>\n",
       "      <td>7.979219</td>\n",
       "      <td>-500.146835</td>\n",
       "      <td>13.981614</td>\n",
       "      <td>-598.070855</td>\n",
       "    </tr>\n",
       "  </tbody>\n",
       "</table>\n",
       "<p>10 rows × 87 columns</p>\n",
       "</div>"
      ],
      "text/plain": [
       "                 date  final.output.concentrate_ag  \\\n",
       "0 2016-01-15 00:00:00                     6.055403   \n",
       "1 2016-01-15 01:00:00                     6.029369   \n",
       "2 2016-01-15 02:00:00                     6.055926   \n",
       "3 2016-01-15 03:00:00                     6.047977   \n",
       "4 2016-01-15 04:00:00                     6.148599   \n",
       "5 2016-01-15 05:00:00                     6.482968   \n",
       "6 2016-01-15 06:00:00                     6.533849   \n",
       "7 2016-01-15 07:00:00                     6.130823   \n",
       "8 2016-01-15 08:00:00                     5.834140   \n",
       "9 2016-01-15 09:00:00                     5.687063   \n",
       "\n",
       "   final.output.concentrate_pb  final.output.concentrate_sol  \\\n",
       "0                     9.889648                      5.507324   \n",
       "1                     9.968944                      5.257781   \n",
       "2                    10.213995                      5.383759   \n",
       "3                     9.977019                      4.858634   \n",
       "4                    10.142511                      4.939416   \n",
       "5                    10.049416                      5.480257   \n",
       "6                    10.058141                      4.569100   \n",
       "7                     9.935481                      4.389813   \n",
       "8                    10.071156                      4.876389   \n",
       "9                     9.980404                      5.282514   \n",
       "\n",
       "   final.output.concentrate_au  final.output.recovery  final.output.tail_ag  \\\n",
       "0                    42.192020              70.541216             10.411962   \n",
       "1                    42.701629              69.266198             10.462676   \n",
       "2                    42.657501              68.116445             10.507046   \n",
       "3                    42.689819              68.347543             10.422762   \n",
       "4                    42.774141              66.927016             10.360302   \n",
       "5                    41.633678              69.465816             10.182708   \n",
       "6                    41.995316              69.300835             10.304598   \n",
       "7                    42.452727              70.230976             10.443288   \n",
       "8                    43.404078              69.688595             10.420140   \n",
       "9                    43.235220              70.279619             10.487013   \n",
       "\n",
       "   final.output.tail_pb  final.output.tail_sol  final.output.tail_au  ...  \\\n",
       "0              0.895447              16.904297              2.143149  ...   \n",
       "1              0.927452              16.634514              2.224930  ...   \n",
       "2              0.953716              16.208849              2.257889  ...   \n",
       "3              0.883763              16.532835              2.146849  ...   \n",
       "4              0.792826              16.525686              2.055292  ...   \n",
       "5              0.664118              16.999638              1.918586  ...   \n",
       "6              0.807342              16.723575              2.058913  ...   \n",
       "7              0.949346              16.689959              2.143437  ...   \n",
       "8              1.065453              17.201948              2.209881  ...   \n",
       "9              1.159805              17.483979              2.209593  ...   \n",
       "\n",
       "   secondary_cleaner.state.floatbank4_a_air  \\\n",
       "0                                 14.016835   \n",
       "1                                 13.992281   \n",
       "2                                 14.015015   \n",
       "3                                 14.036510   \n",
       "4                                 14.027298   \n",
       "5                                 13.938497   \n",
       "6                                 14.046819   \n",
       "7                                 13.974691   \n",
       "8                                 13.964030   \n",
       "9                                 13.989632   \n",
       "\n",
       "   secondary_cleaner.state.floatbank4_a_level  \\\n",
       "0                                 -502.488007   \n",
       "1                                 -505.503262   \n",
       "2                                 -502.520901   \n",
       "3                                 -500.857308   \n",
       "4                                 -499.838632   \n",
       "5                                 -500.970168   \n",
       "6                                 -500.971133   \n",
       "7                                 -501.819696   \n",
       "8                                 -504.252450   \n",
       "9                                 -503.195299   \n",
       "\n",
       "   secondary_cleaner.state.floatbank4_b_air  \\\n",
       "0                                 12.099931   \n",
       "1                                 11.950531   \n",
       "2                                 11.912783   \n",
       "3                                 11.999550   \n",
       "4                                 11.953070   \n",
       "5                                 11.883350   \n",
       "6                                 12.091543   \n",
       "7                                 12.101324   \n",
       "8                                 12.060738   \n",
       "9                                 12.052233   \n",
       "\n",
       "   secondary_cleaner.state.floatbank4_b_level  \\\n",
       "0                                 -504.715942   \n",
       "1                                 -501.331529   \n",
       "2                                 -501.133383   \n",
       "3                                 -501.193686   \n",
       "4                                 -501.053894   \n",
       "5                                 -500.395298   \n",
       "6                                 -500.501426   \n",
       "7                                 -500.583446   \n",
       "8                                 -501.174549   \n",
       "9                                 -500.928547   \n",
       "\n",
       "   secondary_cleaner.state.floatbank5_a_air  \\\n",
       "0                                  9.925633   \n",
       "1                                 10.039245   \n",
       "2                                 10.070913   \n",
       "3                                  9.970366   \n",
       "4                                  9.925709   \n",
       "5                                 10.054147   \n",
       "6                                 10.003247   \n",
       "7                                  9.873169   \n",
       "8                                 10.033838   \n",
       "9                                  9.962574   \n",
       "\n",
       "   secondary_cleaner.state.floatbank5_a_level  \\\n",
       "0                                 -498.310211   \n",
       "1                                 -500.169983   \n",
       "2                                 -500.129135   \n",
       "3                                 -499.201640   \n",
       "4                                 -501.686727   \n",
       "5                                 -496.374715   \n",
       "6                                 -497.083180   \n",
       "7                                 -499.171928   \n",
       "8                                 -501.178133   \n",
       "9                                 -502.986357   \n",
       "\n",
       "   secondary_cleaner.state.floatbank5_b_air  \\\n",
       "0                                  8.079666   \n",
       "1                                  7.984757   \n",
       "2                                  8.013877   \n",
       "3                                  7.977324   \n",
       "4                                  7.894242   \n",
       "5                                  7.965083   \n",
       "6                                  8.010890   \n",
       "7                                  7.993381   \n",
       "8                                  7.881604   \n",
       "9                                  7.979219   \n",
       "\n",
       "   secondary_cleaner.state.floatbank5_b_level  \\\n",
       "0                                 -500.470978   \n",
       "1                                 -500.582168   \n",
       "2                                 -500.517572   \n",
       "3                                 -500.255908   \n",
       "4                                 -500.356035   \n",
       "5                                 -499.364752   \n",
       "6                                 -500.002423   \n",
       "7                                 -499.794518   \n",
       "8                                 -499.729434   \n",
       "9                                 -500.146835   \n",
       "\n",
       "   secondary_cleaner.state.floatbank6_a_air  \\\n",
       "0                                 14.151341   \n",
       "1                                 13.998353   \n",
       "2                                 14.028663   \n",
       "3                                 14.005551   \n",
       "4                                 13.996647   \n",
       "5                                 14.017067   \n",
       "6                                 14.029649   \n",
       "7                                 13.984498   \n",
       "8                                 13.967135   \n",
       "9                                 13.981614   \n",
       "\n",
       "   secondary_cleaner.state.floatbank6_a_level  \n",
       "0                                 -605.841980  \n",
       "1                                 -599.787184  \n",
       "2                                 -601.427363  \n",
       "3                                 -599.996129  \n",
       "4                                 -601.496691  \n",
       "5                                 -599.707915  \n",
       "6                                 -600.905470  \n",
       "7                                 -600.411070  \n",
       "8                                 -599.061188  \n",
       "9                                 -598.070855  \n",
       "\n",
       "[10 rows x 87 columns]"
      ]
     },
     "metadata": {},
     "output_type": "display_data"
    }
   ],
   "source": [
    "gold_recovery_full = pd.read_csv('study_datasets/gold_recovery_full_new.csv')\n",
    "\n",
    "gold_recovery_full['date'] = pd.to_datetime(gold_recovery_full['date'], format = '%Y-%m-%d %H:%M:%S')\n",
    "display(gold_recovery_full.head(10))"
   ]
  },
  {
   "cell_type": "code",
   "execution_count": 134,
   "metadata": {},
   "outputs": [
    {
     "name": "stdout",
     "output_type": "stream",
     "text": [
      "<class 'pandas.core.frame.DataFrame'>\n",
      "RangeIndex: 14149 entries, 0 to 14148\n",
      "Data columns (total 87 columns):\n",
      " #   Column                                              Non-Null Count  Dtype  \n",
      "---  ------                                              --------------  -----  \n",
      " 0   date                                                14149 non-null  object \n",
      " 1   final.output.concentrate_ag                         14148 non-null  float64\n",
      " 2   final.output.concentrate_pb                         14148 non-null  float64\n",
      " 3   final.output.concentrate_sol                        13938 non-null  float64\n",
      " 4   final.output.concentrate_au                         14149 non-null  float64\n",
      " 5   final.output.recovery                               14149 non-null  float64\n",
      " 6   final.output.tail_ag                                14149 non-null  float64\n",
      " 7   final.output.tail_pb                                14049 non-null  float64\n",
      " 8   final.output.tail_sol                               14144 non-null  float64\n",
      " 9   final.output.tail_au                                14149 non-null  float64\n",
      " 10  primary_cleaner.input.sulfate                       14129 non-null  float64\n",
      " 11  primary_cleaner.input.depressant                    14117 non-null  float64\n",
      " 12  primary_cleaner.input.feed_size                     14149 non-null  float64\n",
      " 13  primary_cleaner.input.xanthate                      14049 non-null  float64\n",
      " 14  primary_cleaner.output.concentrate_ag               14149 non-null  float64\n",
      " 15  primary_cleaner.output.concentrate_pb               14063 non-null  float64\n",
      " 16  primary_cleaner.output.concentrate_sol              13863 non-null  float64\n",
      " 17  primary_cleaner.output.concentrate_au               14149 non-null  float64\n",
      " 18  primary_cleaner.output.tail_ag                      14148 non-null  float64\n",
      " 19  primary_cleaner.output.tail_pb                      14134 non-null  float64\n",
      " 20  primary_cleaner.output.tail_sol                     14103 non-null  float64\n",
      " 21  primary_cleaner.output.tail_au                      14149 non-null  float64\n",
      " 22  primary_cleaner.state.floatbank8_a_air              14145 non-null  float64\n",
      " 23  primary_cleaner.state.floatbank8_a_level            14148 non-null  float64\n",
      " 24  primary_cleaner.state.floatbank8_b_air              14145 non-null  float64\n",
      " 25  primary_cleaner.state.floatbank8_b_level            14148 non-null  float64\n",
      " 26  primary_cleaner.state.floatbank8_c_air              14147 non-null  float64\n",
      " 27  primary_cleaner.state.floatbank8_c_level            14148 non-null  float64\n",
      " 28  primary_cleaner.state.floatbank8_d_air              14146 non-null  float64\n",
      " 29  primary_cleaner.state.floatbank8_d_level            14148 non-null  float64\n",
      " 30  rougher.calculation.sulfate_to_au_concentrate       14148 non-null  float64\n",
      " 31  rougher.calculation.floatbank10_sulfate_to_au_feed  14148 non-null  float64\n",
      " 32  rougher.calculation.floatbank11_sulfate_to_au_feed  14148 non-null  float64\n",
      " 33  rougher.calculation.au_pb_ratio                     14149 non-null  float64\n",
      " 34  rougher.input.feed_ag                               14149 non-null  float64\n",
      " 35  rougher.input.feed_pb                               14049 non-null  float64\n",
      " 36  rougher.input.feed_rate                             14141 non-null  float64\n",
      " 37  rougher.input.feed_size                             14005 non-null  float64\n",
      " 38  rougher.input.feed_sol                              14071 non-null  float64\n",
      " 39  rougher.input.feed_au                               14149 non-null  float64\n",
      " 40  rougher.input.floatbank10_sulfate                   14120 non-null  float64\n",
      " 41  rougher.input.floatbank10_xanthate                  14141 non-null  float64\n",
      " 42  rougher.input.floatbank11_sulfate                   14113 non-null  float64\n",
      " 43  rougher.input.floatbank11_xanthate                  13721 non-null  float64\n",
      " 44  rougher.output.concentrate_ag                       14149 non-null  float64\n",
      " 45  rougher.output.concentrate_pb                       14149 non-null  float64\n",
      " 46  rougher.output.concentrate_sol                      14127 non-null  float64\n",
      " 47  rougher.output.concentrate_au                       14149 non-null  float64\n",
      " 48  rougher.output.recovery                             14149 non-null  float64\n",
      " 49  rougher.output.tail_ag                              14148 non-null  float64\n",
      " 50  rougher.output.tail_pb                              14149 non-null  float64\n",
      " 51  rougher.output.tail_sol                             14149 non-null  float64\n",
      " 52  rougher.output.tail_au                              14149 non-null  float64\n",
      " 53  rougher.state.floatbank10_a_air                     14148 non-null  float64\n",
      " 54  rougher.state.floatbank10_a_level                   14148 non-null  float64\n",
      " 55  rougher.state.floatbank10_b_air                     14148 non-null  float64\n",
      " 56  rougher.state.floatbank10_b_level                   14148 non-null  float64\n",
      " 57  rougher.state.floatbank10_c_air                     14148 non-null  float64\n",
      " 58  rougher.state.floatbank10_c_level                   14148 non-null  float64\n",
      " 59  rougher.state.floatbank10_d_air                     14149 non-null  float64\n",
      " 60  rougher.state.floatbank10_d_level                   14149 non-null  float64\n",
      " 61  rougher.state.floatbank10_e_air                     13713 non-null  float64\n",
      " 62  rougher.state.floatbank10_e_level                   14149 non-null  float64\n",
      " 63  rougher.state.floatbank10_f_air                     14149 non-null  float64\n",
      " 64  rougher.state.floatbank10_f_level                   14149 non-null  float64\n",
      " 65  secondary_cleaner.output.tail_ag                    14147 non-null  float64\n",
      " 66  secondary_cleaner.output.tail_pb                    14139 non-null  float64\n",
      " 67  secondary_cleaner.output.tail_sol                   12544 non-null  float64\n",
      " 68  secondary_cleaner.output.tail_au                    14149 non-null  float64\n",
      " 69  secondary_cleaner.state.floatbank2_a_air            13932 non-null  float64\n",
      " 70  secondary_cleaner.state.floatbank2_a_level          14148 non-null  float64\n",
      " 71  secondary_cleaner.state.floatbank2_b_air            14128 non-null  float64\n",
      " 72  secondary_cleaner.state.floatbank2_b_level          14148 non-null  float64\n",
      " 73  secondary_cleaner.state.floatbank3_a_air            14145 non-null  float64\n",
      " 74  secondary_cleaner.state.floatbank3_a_level          14148 non-null  float64\n",
      " 75  secondary_cleaner.state.floatbank3_b_air            14148 non-null  float64\n",
      " 76  secondary_cleaner.state.floatbank3_b_level          14148 non-null  float64\n",
      " 77  secondary_cleaner.state.floatbank4_a_air            14143 non-null  float64\n",
      " 78  secondary_cleaner.state.floatbank4_a_level          14148 non-null  float64\n",
      " 79  secondary_cleaner.state.floatbank4_b_air            14148 non-null  float64\n",
      " 80  secondary_cleaner.state.floatbank4_b_level          14148 non-null  float64\n",
      " 81  secondary_cleaner.state.floatbank5_a_air            14148 non-null  float64\n",
      " 82  secondary_cleaner.state.floatbank5_a_level          14148 non-null  float64\n",
      " 83  secondary_cleaner.state.floatbank5_b_air            14148 non-null  float64\n",
      " 84  secondary_cleaner.state.floatbank5_b_level          14148 non-null  float64\n",
      " 85  secondary_cleaner.state.floatbank6_a_air            14147 non-null  float64\n",
      " 86  secondary_cleaner.state.floatbank6_a_level          14148 non-null  float64\n",
      "dtypes: float64(86), object(1)\n",
      "memory usage: 9.4+ MB\n"
     ]
    }
   ],
   "source": [
    "# Открываем файл\n",
    "gold_recovery_tr = pd.read_csv('study_datasets/gold_recovery_train_new.csv')\n",
    "\n",
    "# Выводим общую информацию о данных\n",
    "gold_recovery_tr.info()"
   ]
  },
  {
   "cell_type": "code",
   "execution_count": 135,
   "metadata": {},
   "outputs": [
    {
     "data": {
      "text/html": [
       "<div>\n",
       "<style scoped>\n",
       "    .dataframe tbody tr th:only-of-type {\n",
       "        vertical-align: middle;\n",
       "    }\n",
       "\n",
       "    .dataframe tbody tr th {\n",
       "        vertical-align: top;\n",
       "    }\n",
       "\n",
       "    .dataframe thead th {\n",
       "        text-align: right;\n",
       "    }\n",
       "</style>\n",
       "<table border=\"1\" class=\"dataframe\">\n",
       "  <thead>\n",
       "    <tr style=\"text-align: right;\">\n",
       "      <th></th>\n",
       "      <th>date</th>\n",
       "      <th>final.output.concentrate_ag</th>\n",
       "      <th>final.output.concentrate_pb</th>\n",
       "      <th>final.output.concentrate_sol</th>\n",
       "      <th>final.output.concentrate_au</th>\n",
       "      <th>final.output.recovery</th>\n",
       "      <th>final.output.tail_ag</th>\n",
       "      <th>final.output.tail_pb</th>\n",
       "      <th>final.output.tail_sol</th>\n",
       "      <th>final.output.tail_au</th>\n",
       "      <th>...</th>\n",
       "      <th>secondary_cleaner.state.floatbank4_a_air</th>\n",
       "      <th>secondary_cleaner.state.floatbank4_a_level</th>\n",
       "      <th>secondary_cleaner.state.floatbank4_b_air</th>\n",
       "      <th>secondary_cleaner.state.floatbank4_b_level</th>\n",
       "      <th>secondary_cleaner.state.floatbank5_a_air</th>\n",
       "      <th>secondary_cleaner.state.floatbank5_a_level</th>\n",
       "      <th>secondary_cleaner.state.floatbank5_b_air</th>\n",
       "      <th>secondary_cleaner.state.floatbank5_b_level</th>\n",
       "      <th>secondary_cleaner.state.floatbank6_a_air</th>\n",
       "      <th>secondary_cleaner.state.floatbank6_a_level</th>\n",
       "    </tr>\n",
       "  </thead>\n",
       "  <tbody>\n",
       "    <tr>\n",
       "      <th>0</th>\n",
       "      <td>2016-01-15 00:00:00</td>\n",
       "      <td>6.055403</td>\n",
       "      <td>9.889648</td>\n",
       "      <td>5.507324</td>\n",
       "      <td>42.192020</td>\n",
       "      <td>70.541216</td>\n",
       "      <td>10.411962</td>\n",
       "      <td>0.895447</td>\n",
       "      <td>16.904297</td>\n",
       "      <td>2.143149</td>\n",
       "      <td>...</td>\n",
       "      <td>14.016835</td>\n",
       "      <td>-502.488007</td>\n",
       "      <td>12.099931</td>\n",
       "      <td>-504.715942</td>\n",
       "      <td>9.925633</td>\n",
       "      <td>-498.310211</td>\n",
       "      <td>8.079666</td>\n",
       "      <td>-500.470978</td>\n",
       "      <td>14.151341</td>\n",
       "      <td>-605.841980</td>\n",
       "    </tr>\n",
       "    <tr>\n",
       "      <th>1</th>\n",
       "      <td>2016-01-15 01:00:00</td>\n",
       "      <td>6.029369</td>\n",
       "      <td>9.968944</td>\n",
       "      <td>5.257781</td>\n",
       "      <td>42.701629</td>\n",
       "      <td>69.266198</td>\n",
       "      <td>10.462676</td>\n",
       "      <td>0.927452</td>\n",
       "      <td>16.634514</td>\n",
       "      <td>2.224930</td>\n",
       "      <td>...</td>\n",
       "      <td>13.992281</td>\n",
       "      <td>-505.503262</td>\n",
       "      <td>11.950531</td>\n",
       "      <td>-501.331529</td>\n",
       "      <td>10.039245</td>\n",
       "      <td>-500.169983</td>\n",
       "      <td>7.984757</td>\n",
       "      <td>-500.582168</td>\n",
       "      <td>13.998353</td>\n",
       "      <td>-599.787184</td>\n",
       "    </tr>\n",
       "    <tr>\n",
       "      <th>2</th>\n",
       "      <td>2016-01-15 02:00:00</td>\n",
       "      <td>6.055926</td>\n",
       "      <td>10.213995</td>\n",
       "      <td>5.383759</td>\n",
       "      <td>42.657501</td>\n",
       "      <td>68.116445</td>\n",
       "      <td>10.507046</td>\n",
       "      <td>0.953716</td>\n",
       "      <td>16.208849</td>\n",
       "      <td>2.257889</td>\n",
       "      <td>...</td>\n",
       "      <td>14.015015</td>\n",
       "      <td>-502.520901</td>\n",
       "      <td>11.912783</td>\n",
       "      <td>-501.133383</td>\n",
       "      <td>10.070913</td>\n",
       "      <td>-500.129135</td>\n",
       "      <td>8.013877</td>\n",
       "      <td>-500.517572</td>\n",
       "      <td>14.028663</td>\n",
       "      <td>-601.427363</td>\n",
       "    </tr>\n",
       "    <tr>\n",
       "      <th>3</th>\n",
       "      <td>2016-01-15 03:00:00</td>\n",
       "      <td>6.047977</td>\n",
       "      <td>9.977019</td>\n",
       "      <td>4.858634</td>\n",
       "      <td>42.689819</td>\n",
       "      <td>68.347543</td>\n",
       "      <td>10.422762</td>\n",
       "      <td>0.883763</td>\n",
       "      <td>16.532835</td>\n",
       "      <td>2.146849</td>\n",
       "      <td>...</td>\n",
       "      <td>14.036510</td>\n",
       "      <td>-500.857308</td>\n",
       "      <td>11.999550</td>\n",
       "      <td>-501.193686</td>\n",
       "      <td>9.970366</td>\n",
       "      <td>-499.201640</td>\n",
       "      <td>7.977324</td>\n",
       "      <td>-500.255908</td>\n",
       "      <td>14.005551</td>\n",
       "      <td>-599.996129</td>\n",
       "    </tr>\n",
       "    <tr>\n",
       "      <th>4</th>\n",
       "      <td>2016-01-15 04:00:00</td>\n",
       "      <td>6.148599</td>\n",
       "      <td>10.142511</td>\n",
       "      <td>4.939416</td>\n",
       "      <td>42.774141</td>\n",
       "      <td>66.927016</td>\n",
       "      <td>10.360302</td>\n",
       "      <td>0.792826</td>\n",
       "      <td>16.525686</td>\n",
       "      <td>2.055292</td>\n",
       "      <td>...</td>\n",
       "      <td>14.027298</td>\n",
       "      <td>-499.838632</td>\n",
       "      <td>11.953070</td>\n",
       "      <td>-501.053894</td>\n",
       "      <td>9.925709</td>\n",
       "      <td>-501.686727</td>\n",
       "      <td>7.894242</td>\n",
       "      <td>-500.356035</td>\n",
       "      <td>13.996647</td>\n",
       "      <td>-601.496691</td>\n",
       "    </tr>\n",
       "    <tr>\n",
       "      <th>...</th>\n",
       "      <td>...</td>\n",
       "      <td>...</td>\n",
       "      <td>...</td>\n",
       "      <td>...</td>\n",
       "      <td>...</td>\n",
       "      <td>...</td>\n",
       "      <td>...</td>\n",
       "      <td>...</td>\n",
       "      <td>...</td>\n",
       "      <td>...</td>\n",
       "      <td>...</td>\n",
       "      <td>...</td>\n",
       "      <td>...</td>\n",
       "      <td>...</td>\n",
       "      <td>...</td>\n",
       "      <td>...</td>\n",
       "      <td>...</td>\n",
       "      <td>...</td>\n",
       "      <td>...</td>\n",
       "      <td>...</td>\n",
       "      <td>...</td>\n",
       "    </tr>\n",
       "    <tr>\n",
       "      <th>14144</th>\n",
       "      <td>2018-08-18 06:59:59</td>\n",
       "      <td>3.224920</td>\n",
       "      <td>11.356233</td>\n",
       "      <td>6.803482</td>\n",
       "      <td>46.713954</td>\n",
       "      <td>73.755150</td>\n",
       "      <td>8.769645</td>\n",
       "      <td>3.141541</td>\n",
       "      <td>10.403181</td>\n",
       "      <td>1.529220</td>\n",
       "      <td>...</td>\n",
       "      <td>23.031497</td>\n",
       "      <td>-501.167942</td>\n",
       "      <td>20.007571</td>\n",
       "      <td>-499.740028</td>\n",
       "      <td>18.006038</td>\n",
       "      <td>-499.834374</td>\n",
       "      <td>13.001114</td>\n",
       "      <td>-500.155694</td>\n",
       "      <td>20.007840</td>\n",
       "      <td>-501.296428</td>\n",
       "    </tr>\n",
       "    <tr>\n",
       "      <th>14145</th>\n",
       "      <td>2018-08-18 07:59:59</td>\n",
       "      <td>3.195978</td>\n",
       "      <td>11.349355</td>\n",
       "      <td>6.862249</td>\n",
       "      <td>46.866780</td>\n",
       "      <td>69.049291</td>\n",
       "      <td>8.897321</td>\n",
       "      <td>3.130493</td>\n",
       "      <td>10.549470</td>\n",
       "      <td>1.612542</td>\n",
       "      <td>...</td>\n",
       "      <td>22.960095</td>\n",
       "      <td>-501.612783</td>\n",
       "      <td>20.035660</td>\n",
       "      <td>-500.251357</td>\n",
       "      <td>17.998535</td>\n",
       "      <td>-500.395178</td>\n",
       "      <td>12.954048</td>\n",
       "      <td>-499.895163</td>\n",
       "      <td>19.968498</td>\n",
       "      <td>-501.041608</td>\n",
       "    </tr>\n",
       "    <tr>\n",
       "      <th>14146</th>\n",
       "      <td>2018-08-18 08:59:59</td>\n",
       "      <td>3.109998</td>\n",
       "      <td>11.434366</td>\n",
       "      <td>6.886013</td>\n",
       "      <td>46.795691</td>\n",
       "      <td>67.002189</td>\n",
       "      <td>8.529606</td>\n",
       "      <td>2.911418</td>\n",
       "      <td>11.115147</td>\n",
       "      <td>1.596616</td>\n",
       "      <td>...</td>\n",
       "      <td>23.015718</td>\n",
       "      <td>-501.711599</td>\n",
       "      <td>19.951231</td>\n",
       "      <td>-499.857027</td>\n",
       "      <td>18.019543</td>\n",
       "      <td>-500.451156</td>\n",
       "      <td>13.023431</td>\n",
       "      <td>-499.914391</td>\n",
       "      <td>19.990885</td>\n",
       "      <td>-501.518452</td>\n",
       "    </tr>\n",
       "    <tr>\n",
       "      <th>14147</th>\n",
       "      <td>2018-08-18 09:59:59</td>\n",
       "      <td>3.367241</td>\n",
       "      <td>11.625587</td>\n",
       "      <td>6.799433</td>\n",
       "      <td>46.408188</td>\n",
       "      <td>65.523246</td>\n",
       "      <td>8.777171</td>\n",
       "      <td>2.819214</td>\n",
       "      <td>10.463847</td>\n",
       "      <td>1.602879</td>\n",
       "      <td>...</td>\n",
       "      <td>23.024963</td>\n",
       "      <td>-501.153409</td>\n",
       "      <td>20.054122</td>\n",
       "      <td>-500.314711</td>\n",
       "      <td>17.979515</td>\n",
       "      <td>-499.272871</td>\n",
       "      <td>12.992404</td>\n",
       "      <td>-499.976268</td>\n",
       "      <td>20.013986</td>\n",
       "      <td>-500.625471</td>\n",
       "    </tr>\n",
       "    <tr>\n",
       "      <th>14148</th>\n",
       "      <td>2018-08-18 10:59:59</td>\n",
       "      <td>3.598375</td>\n",
       "      <td>11.737832</td>\n",
       "      <td>6.717509</td>\n",
       "      <td>46.299438</td>\n",
       "      <td>70.281454</td>\n",
       "      <td>8.406690</td>\n",
       "      <td>2.517518</td>\n",
       "      <td>10.652193</td>\n",
       "      <td>1.389434</td>\n",
       "      <td>...</td>\n",
       "      <td>23.018622</td>\n",
       "      <td>-500.492702</td>\n",
       "      <td>20.020205</td>\n",
       "      <td>-500.220296</td>\n",
       "      <td>17.963512</td>\n",
       "      <td>-499.939490</td>\n",
       "      <td>12.990306</td>\n",
       "      <td>-500.080993</td>\n",
       "      <td>19.990336</td>\n",
       "      <td>-499.191575</td>\n",
       "    </tr>\n",
       "  </tbody>\n",
       "</table>\n",
       "<p>14149 rows × 87 columns</p>\n",
       "</div>"
      ],
      "text/plain": [
       "                      date  final.output.concentrate_ag  \\\n",
       "0      2016-01-15 00:00:00                     6.055403   \n",
       "1      2016-01-15 01:00:00                     6.029369   \n",
       "2      2016-01-15 02:00:00                     6.055926   \n",
       "3      2016-01-15 03:00:00                     6.047977   \n",
       "4      2016-01-15 04:00:00                     6.148599   \n",
       "...                    ...                          ...   \n",
       "14144  2018-08-18 06:59:59                     3.224920   \n",
       "14145  2018-08-18 07:59:59                     3.195978   \n",
       "14146  2018-08-18 08:59:59                     3.109998   \n",
       "14147  2018-08-18 09:59:59                     3.367241   \n",
       "14148  2018-08-18 10:59:59                     3.598375   \n",
       "\n",
       "       final.output.concentrate_pb  final.output.concentrate_sol  \\\n",
       "0                         9.889648                      5.507324   \n",
       "1                         9.968944                      5.257781   \n",
       "2                        10.213995                      5.383759   \n",
       "3                         9.977019                      4.858634   \n",
       "4                        10.142511                      4.939416   \n",
       "...                            ...                           ...   \n",
       "14144                    11.356233                      6.803482   \n",
       "14145                    11.349355                      6.862249   \n",
       "14146                    11.434366                      6.886013   \n",
       "14147                    11.625587                      6.799433   \n",
       "14148                    11.737832                      6.717509   \n",
       "\n",
       "       final.output.concentrate_au  final.output.recovery  \\\n",
       "0                        42.192020              70.541216   \n",
       "1                        42.701629              69.266198   \n",
       "2                        42.657501              68.116445   \n",
       "3                        42.689819              68.347543   \n",
       "4                        42.774141              66.927016   \n",
       "...                            ...                    ...   \n",
       "14144                    46.713954              73.755150   \n",
       "14145                    46.866780              69.049291   \n",
       "14146                    46.795691              67.002189   \n",
       "14147                    46.408188              65.523246   \n",
       "14148                    46.299438              70.281454   \n",
       "\n",
       "       final.output.tail_ag  final.output.tail_pb  final.output.tail_sol  \\\n",
       "0                 10.411962              0.895447              16.904297   \n",
       "1                 10.462676              0.927452              16.634514   \n",
       "2                 10.507046              0.953716              16.208849   \n",
       "3                 10.422762              0.883763              16.532835   \n",
       "4                 10.360302              0.792826              16.525686   \n",
       "...                     ...                   ...                    ...   \n",
       "14144              8.769645              3.141541              10.403181   \n",
       "14145              8.897321              3.130493              10.549470   \n",
       "14146              8.529606              2.911418              11.115147   \n",
       "14147              8.777171              2.819214              10.463847   \n",
       "14148              8.406690              2.517518              10.652193   \n",
       "\n",
       "       final.output.tail_au  ...  secondary_cleaner.state.floatbank4_a_air  \\\n",
       "0                  2.143149  ...                                 14.016835   \n",
       "1                  2.224930  ...                                 13.992281   \n",
       "2                  2.257889  ...                                 14.015015   \n",
       "3                  2.146849  ...                                 14.036510   \n",
       "4                  2.055292  ...                                 14.027298   \n",
       "...                     ...  ...                                       ...   \n",
       "14144              1.529220  ...                                 23.031497   \n",
       "14145              1.612542  ...                                 22.960095   \n",
       "14146              1.596616  ...                                 23.015718   \n",
       "14147              1.602879  ...                                 23.024963   \n",
       "14148              1.389434  ...                                 23.018622   \n",
       "\n",
       "       secondary_cleaner.state.floatbank4_a_level  \\\n",
       "0                                     -502.488007   \n",
       "1                                     -505.503262   \n",
       "2                                     -502.520901   \n",
       "3                                     -500.857308   \n",
       "4                                     -499.838632   \n",
       "...                                           ...   \n",
       "14144                                 -501.167942   \n",
       "14145                                 -501.612783   \n",
       "14146                                 -501.711599   \n",
       "14147                                 -501.153409   \n",
       "14148                                 -500.492702   \n",
       "\n",
       "       secondary_cleaner.state.floatbank4_b_air  \\\n",
       "0                                     12.099931   \n",
       "1                                     11.950531   \n",
       "2                                     11.912783   \n",
       "3                                     11.999550   \n",
       "4                                     11.953070   \n",
       "...                                         ...   \n",
       "14144                                 20.007571   \n",
       "14145                                 20.035660   \n",
       "14146                                 19.951231   \n",
       "14147                                 20.054122   \n",
       "14148                                 20.020205   \n",
       "\n",
       "       secondary_cleaner.state.floatbank4_b_level  \\\n",
       "0                                     -504.715942   \n",
       "1                                     -501.331529   \n",
       "2                                     -501.133383   \n",
       "3                                     -501.193686   \n",
       "4                                     -501.053894   \n",
       "...                                           ...   \n",
       "14144                                 -499.740028   \n",
       "14145                                 -500.251357   \n",
       "14146                                 -499.857027   \n",
       "14147                                 -500.314711   \n",
       "14148                                 -500.220296   \n",
       "\n",
       "       secondary_cleaner.state.floatbank5_a_air  \\\n",
       "0                                      9.925633   \n",
       "1                                     10.039245   \n",
       "2                                     10.070913   \n",
       "3                                      9.970366   \n",
       "4                                      9.925709   \n",
       "...                                         ...   \n",
       "14144                                 18.006038   \n",
       "14145                                 17.998535   \n",
       "14146                                 18.019543   \n",
       "14147                                 17.979515   \n",
       "14148                                 17.963512   \n",
       "\n",
       "       secondary_cleaner.state.floatbank5_a_level  \\\n",
       "0                                     -498.310211   \n",
       "1                                     -500.169983   \n",
       "2                                     -500.129135   \n",
       "3                                     -499.201640   \n",
       "4                                     -501.686727   \n",
       "...                                           ...   \n",
       "14144                                 -499.834374   \n",
       "14145                                 -500.395178   \n",
       "14146                                 -500.451156   \n",
       "14147                                 -499.272871   \n",
       "14148                                 -499.939490   \n",
       "\n",
       "       secondary_cleaner.state.floatbank5_b_air  \\\n",
       "0                                      8.079666   \n",
       "1                                      7.984757   \n",
       "2                                      8.013877   \n",
       "3                                      7.977324   \n",
       "4                                      7.894242   \n",
       "...                                         ...   \n",
       "14144                                 13.001114   \n",
       "14145                                 12.954048   \n",
       "14146                                 13.023431   \n",
       "14147                                 12.992404   \n",
       "14148                                 12.990306   \n",
       "\n",
       "       secondary_cleaner.state.floatbank5_b_level  \\\n",
       "0                                     -500.470978   \n",
       "1                                     -500.582168   \n",
       "2                                     -500.517572   \n",
       "3                                     -500.255908   \n",
       "4                                     -500.356035   \n",
       "...                                           ...   \n",
       "14144                                 -500.155694   \n",
       "14145                                 -499.895163   \n",
       "14146                                 -499.914391   \n",
       "14147                                 -499.976268   \n",
       "14148                                 -500.080993   \n",
       "\n",
       "       secondary_cleaner.state.floatbank6_a_air  \\\n",
       "0                                     14.151341   \n",
       "1                                     13.998353   \n",
       "2                                     14.028663   \n",
       "3                                     14.005551   \n",
       "4                                     13.996647   \n",
       "...                                         ...   \n",
       "14144                                 20.007840   \n",
       "14145                                 19.968498   \n",
       "14146                                 19.990885   \n",
       "14147                                 20.013986   \n",
       "14148                                 19.990336   \n",
       "\n",
       "       secondary_cleaner.state.floatbank6_a_level  \n",
       "0                                     -605.841980  \n",
       "1                                     -599.787184  \n",
       "2                                     -601.427363  \n",
       "3                                     -599.996129  \n",
       "4                                     -601.496691  \n",
       "...                                           ...  \n",
       "14144                                 -501.296428  \n",
       "14145                                 -501.041608  \n",
       "14146                                 -501.518452  \n",
       "14147                                 -500.625471  \n",
       "14148                                 -499.191575  \n",
       "\n",
       "[14149 rows x 87 columns]"
      ]
     },
     "metadata": {},
     "output_type": "display_data"
    }
   ],
   "source": [
    "# Выводим таблицу, чтобы оценить в целом данные, а также обращаем внимание на стобец date \n",
    "display(gold_recovery_tr)"
   ]
  },
  {
   "cell_type": "code",
   "execution_count": 136,
   "metadata": {},
   "outputs": [
    {
     "name": "stdout",
     "output_type": "stream",
     "text": [
      "<class 'pandas.core.frame.DataFrame'>\n",
      "RangeIndex: 14149 entries, 0 to 14148\n",
      "Data columns (total 87 columns):\n",
      " #   Column                                              Non-Null Count  Dtype         \n",
      "---  ------                                              --------------  -----         \n",
      " 0   date                                                14149 non-null  datetime64[ns]\n",
      " 1   final.output.concentrate_ag                         14148 non-null  float64       \n",
      " 2   final.output.concentrate_pb                         14148 non-null  float64       \n",
      " 3   final.output.concentrate_sol                        13938 non-null  float64       \n",
      " 4   final.output.concentrate_au                         14149 non-null  float64       \n",
      " 5   final.output.recovery                               14149 non-null  float64       \n",
      " 6   final.output.tail_ag                                14149 non-null  float64       \n",
      " 7   final.output.tail_pb                                14049 non-null  float64       \n",
      " 8   final.output.tail_sol                               14144 non-null  float64       \n",
      " 9   final.output.tail_au                                14149 non-null  float64       \n",
      " 10  primary_cleaner.input.sulfate                       14129 non-null  float64       \n",
      " 11  primary_cleaner.input.depressant                    14117 non-null  float64       \n",
      " 12  primary_cleaner.input.feed_size                     14149 non-null  float64       \n",
      " 13  primary_cleaner.input.xanthate                      14049 non-null  float64       \n",
      " 14  primary_cleaner.output.concentrate_ag               14149 non-null  float64       \n",
      " 15  primary_cleaner.output.concentrate_pb               14063 non-null  float64       \n",
      " 16  primary_cleaner.output.concentrate_sol              13863 non-null  float64       \n",
      " 17  primary_cleaner.output.concentrate_au               14149 non-null  float64       \n",
      " 18  primary_cleaner.output.tail_ag                      14148 non-null  float64       \n",
      " 19  primary_cleaner.output.tail_pb                      14134 non-null  float64       \n",
      " 20  primary_cleaner.output.tail_sol                     14103 non-null  float64       \n",
      " 21  primary_cleaner.output.tail_au                      14149 non-null  float64       \n",
      " 22  primary_cleaner.state.floatbank8_a_air              14145 non-null  float64       \n",
      " 23  primary_cleaner.state.floatbank8_a_level            14148 non-null  float64       \n",
      " 24  primary_cleaner.state.floatbank8_b_air              14145 non-null  float64       \n",
      " 25  primary_cleaner.state.floatbank8_b_level            14148 non-null  float64       \n",
      " 26  primary_cleaner.state.floatbank8_c_air              14147 non-null  float64       \n",
      " 27  primary_cleaner.state.floatbank8_c_level            14148 non-null  float64       \n",
      " 28  primary_cleaner.state.floatbank8_d_air              14146 non-null  float64       \n",
      " 29  primary_cleaner.state.floatbank8_d_level            14148 non-null  float64       \n",
      " 30  rougher.calculation.sulfate_to_au_concentrate       14148 non-null  float64       \n",
      " 31  rougher.calculation.floatbank10_sulfate_to_au_feed  14148 non-null  float64       \n",
      " 32  rougher.calculation.floatbank11_sulfate_to_au_feed  14148 non-null  float64       \n",
      " 33  rougher.calculation.au_pb_ratio                     14149 non-null  float64       \n",
      " 34  rougher.input.feed_ag                               14149 non-null  float64       \n",
      " 35  rougher.input.feed_pb                               14049 non-null  float64       \n",
      " 36  rougher.input.feed_rate                             14141 non-null  float64       \n",
      " 37  rougher.input.feed_size                             14005 non-null  float64       \n",
      " 38  rougher.input.feed_sol                              14071 non-null  float64       \n",
      " 39  rougher.input.feed_au                               14149 non-null  float64       \n",
      " 40  rougher.input.floatbank10_sulfate                   14120 non-null  float64       \n",
      " 41  rougher.input.floatbank10_xanthate                  14141 non-null  float64       \n",
      " 42  rougher.input.floatbank11_sulfate                   14113 non-null  float64       \n",
      " 43  rougher.input.floatbank11_xanthate                  13721 non-null  float64       \n",
      " 44  rougher.output.concentrate_ag                       14149 non-null  float64       \n",
      " 45  rougher.output.concentrate_pb                       14149 non-null  float64       \n",
      " 46  rougher.output.concentrate_sol                      14127 non-null  float64       \n",
      " 47  rougher.output.concentrate_au                       14149 non-null  float64       \n",
      " 48  rougher.output.recovery                             14149 non-null  float64       \n",
      " 49  rougher.output.tail_ag                              14148 non-null  float64       \n",
      " 50  rougher.output.tail_pb                              14149 non-null  float64       \n",
      " 51  rougher.output.tail_sol                             14149 non-null  float64       \n",
      " 52  rougher.output.tail_au                              14149 non-null  float64       \n",
      " 53  rougher.state.floatbank10_a_air                     14148 non-null  float64       \n",
      " 54  rougher.state.floatbank10_a_level                   14148 non-null  float64       \n",
      " 55  rougher.state.floatbank10_b_air                     14148 non-null  float64       \n",
      " 56  rougher.state.floatbank10_b_level                   14148 non-null  float64       \n",
      " 57  rougher.state.floatbank10_c_air                     14148 non-null  float64       \n",
      " 58  rougher.state.floatbank10_c_level                   14148 non-null  float64       \n",
      " 59  rougher.state.floatbank10_d_air                     14149 non-null  float64       \n",
      " 60  rougher.state.floatbank10_d_level                   14149 non-null  float64       \n",
      " 61  rougher.state.floatbank10_e_air                     13713 non-null  float64       \n",
      " 62  rougher.state.floatbank10_e_level                   14149 non-null  float64       \n",
      " 63  rougher.state.floatbank10_f_air                     14149 non-null  float64       \n",
      " 64  rougher.state.floatbank10_f_level                   14149 non-null  float64       \n",
      " 65  secondary_cleaner.output.tail_ag                    14147 non-null  float64       \n",
      " 66  secondary_cleaner.output.tail_pb                    14139 non-null  float64       \n",
      " 67  secondary_cleaner.output.tail_sol                   12544 non-null  float64       \n",
      " 68  secondary_cleaner.output.tail_au                    14149 non-null  float64       \n",
      " 69  secondary_cleaner.state.floatbank2_a_air            13932 non-null  float64       \n",
      " 70  secondary_cleaner.state.floatbank2_a_level          14148 non-null  float64       \n",
      " 71  secondary_cleaner.state.floatbank2_b_air            14128 non-null  float64       \n",
      " 72  secondary_cleaner.state.floatbank2_b_level          14148 non-null  float64       \n",
      " 73  secondary_cleaner.state.floatbank3_a_air            14145 non-null  float64       \n",
      " 74  secondary_cleaner.state.floatbank3_a_level          14148 non-null  float64       \n",
      " 75  secondary_cleaner.state.floatbank3_b_air            14148 non-null  float64       \n",
      " 76  secondary_cleaner.state.floatbank3_b_level          14148 non-null  float64       \n",
      " 77  secondary_cleaner.state.floatbank4_a_air            14143 non-null  float64       \n",
      " 78  secondary_cleaner.state.floatbank4_a_level          14148 non-null  float64       \n",
      " 79  secondary_cleaner.state.floatbank4_b_air            14148 non-null  float64       \n",
      " 80  secondary_cleaner.state.floatbank4_b_level          14148 non-null  float64       \n",
      " 81  secondary_cleaner.state.floatbank5_a_air            14148 non-null  float64       \n",
      " 82  secondary_cleaner.state.floatbank5_a_level          14148 non-null  float64       \n",
      " 83  secondary_cleaner.state.floatbank5_b_air            14148 non-null  float64       \n",
      " 84  secondary_cleaner.state.floatbank5_b_level          14148 non-null  float64       \n",
      " 85  secondary_cleaner.state.floatbank6_a_air            14147 non-null  float64       \n",
      " 86  secondary_cleaner.state.floatbank6_a_level          14148 non-null  float64       \n",
      "dtypes: datetime64[ns](1), float64(86)\n",
      "memory usage: 9.4 MB\n"
     ]
    }
   ],
   "source": [
    "# Меняем тип данных столбца date \n",
    "gold_recovery_tr['date'] = pd.to_datetime(gold_recovery_tr['date'], format = '%Y-%m-%d %H:%M:%S')\n",
    "\n",
    "# Проверка\n",
    "gold_recovery_tr.info()"
   ]
  },
  {
   "cell_type": "code",
   "execution_count": 137,
   "metadata": {},
   "outputs": [
    {
     "name": "stdout",
     "output_type": "stream",
     "text": [
      "<class 'pandas.core.frame.DataFrame'>\n",
      "RangeIndex: 5290 entries, 0 to 5289\n",
      "Data columns (total 53 columns):\n",
      " #   Column                                      Non-Null Count  Dtype         \n",
      "---  ------                                      --------------  -----         \n",
      " 0   date                                        5290 non-null   datetime64[ns]\n",
      " 1   primary_cleaner.input.sulfate               5286 non-null   float64       \n",
      " 2   primary_cleaner.input.depressant            5285 non-null   float64       \n",
      " 3   primary_cleaner.input.feed_size             5290 non-null   float64       \n",
      " 4   primary_cleaner.input.xanthate              5286 non-null   float64       \n",
      " 5   primary_cleaner.state.floatbank8_a_air      5290 non-null   float64       \n",
      " 6   primary_cleaner.state.floatbank8_a_level    5290 non-null   float64       \n",
      " 7   primary_cleaner.state.floatbank8_b_air      5290 non-null   float64       \n",
      " 8   primary_cleaner.state.floatbank8_b_level    5290 non-null   float64       \n",
      " 9   primary_cleaner.state.floatbank8_c_air      5290 non-null   float64       \n",
      " 10  primary_cleaner.state.floatbank8_c_level    5290 non-null   float64       \n",
      " 11  primary_cleaner.state.floatbank8_d_air      5290 non-null   float64       \n",
      " 12  primary_cleaner.state.floatbank8_d_level    5290 non-null   float64       \n",
      " 13  rougher.input.feed_ag                       5290 non-null   float64       \n",
      " 14  rougher.input.feed_pb                       5290 non-null   float64       \n",
      " 15  rougher.input.feed_rate                     5287 non-null   float64       \n",
      " 16  rougher.input.feed_size                     5289 non-null   float64       \n",
      " 17  rougher.input.feed_sol                      5269 non-null   float64       \n",
      " 18  rougher.input.feed_au                       5290 non-null   float64       \n",
      " 19  rougher.input.floatbank10_sulfate           5285 non-null   float64       \n",
      " 20  rougher.input.floatbank10_xanthate          5290 non-null   float64       \n",
      " 21  rougher.input.floatbank11_sulfate           5282 non-null   float64       \n",
      " 22  rougher.input.floatbank11_xanthate          5265 non-null   float64       \n",
      " 23  rougher.state.floatbank10_a_air             5290 non-null   float64       \n",
      " 24  rougher.state.floatbank10_a_level           5290 non-null   float64       \n",
      " 25  rougher.state.floatbank10_b_air             5290 non-null   float64       \n",
      " 26  rougher.state.floatbank10_b_level           5290 non-null   float64       \n",
      " 27  rougher.state.floatbank10_c_air             5290 non-null   float64       \n",
      " 28  rougher.state.floatbank10_c_level           5290 non-null   float64       \n",
      " 29  rougher.state.floatbank10_d_air             5290 non-null   float64       \n",
      " 30  rougher.state.floatbank10_d_level           5290 non-null   float64       \n",
      " 31  rougher.state.floatbank10_e_air             5290 non-null   float64       \n",
      " 32  rougher.state.floatbank10_e_level           5290 non-null   float64       \n",
      " 33  rougher.state.floatbank10_f_air             5290 non-null   float64       \n",
      " 34  rougher.state.floatbank10_f_level           5290 non-null   float64       \n",
      " 35  secondary_cleaner.state.floatbank2_a_air    5287 non-null   float64       \n",
      " 36  secondary_cleaner.state.floatbank2_a_level  5290 non-null   float64       \n",
      " 37  secondary_cleaner.state.floatbank2_b_air    5288 non-null   float64       \n",
      " 38  secondary_cleaner.state.floatbank2_b_level  5290 non-null   float64       \n",
      " 39  secondary_cleaner.state.floatbank3_a_air    5281 non-null   float64       \n",
      " 40  secondary_cleaner.state.floatbank3_a_level  5290 non-null   float64       \n",
      " 41  secondary_cleaner.state.floatbank3_b_air    5290 non-null   float64       \n",
      " 42  secondary_cleaner.state.floatbank3_b_level  5290 non-null   float64       \n",
      " 43  secondary_cleaner.state.floatbank4_a_air    5290 non-null   float64       \n",
      " 44  secondary_cleaner.state.floatbank4_a_level  5290 non-null   float64       \n",
      " 45  secondary_cleaner.state.floatbank4_b_air    5290 non-null   float64       \n",
      " 46  secondary_cleaner.state.floatbank4_b_level  5290 non-null   float64       \n",
      " 47  secondary_cleaner.state.floatbank5_a_air    5290 non-null   float64       \n",
      " 48  secondary_cleaner.state.floatbank5_a_level  5290 non-null   float64       \n",
      " 49  secondary_cleaner.state.floatbank5_b_air    5290 non-null   float64       \n",
      " 50  secondary_cleaner.state.floatbank5_b_level  5290 non-null   float64       \n",
      " 51  secondary_cleaner.state.floatbank6_a_air    5290 non-null   float64       \n",
      " 52  secondary_cleaner.state.floatbank6_a_level  5290 non-null   float64       \n",
      "dtypes: datetime64[ns](1), float64(52)\n",
      "memory usage: 2.1 MB\n"
     ]
    }
   ],
   "source": [
    "# Переводим дату в соответствующий формат данных \n",
    "gold_recovery_test = pd.read_csv('study_datasets/gold_recovery_test_new.csv')\n",
    "gold_recovery_test['date'] = pd.to_datetime(gold_recovery_test['date'], format = '%Y-%m-%d %H:%M:%S')\n",
    "gold_recovery_test.info()"
   ]
  },
  {
   "cell_type": "markdown",
   "metadata": {},
   "source": [
    "### Проверка правильности расчета эффективности обогащения"
   ]
  },
  {
   "cell_type": "code",
   "execution_count": 138,
   "metadata": {},
   "outputs": [
    {
     "name": "stdout",
     "output_type": "stream",
     "text": [
      "MAE = 1.0748911125799084e-14\n"
     ]
    }
   ],
   "source": [
    "rougher_output_concentrate_au = gold_recovery_tr['rougher.output.concentrate_au']\n",
    "rougher_input_feed_au = gold_recovery_tr['rougher.input.feed_au']\n",
    "rougher_output_tail_au = gold_recovery_tr['rougher.output.tail_au']\n",
    "rougher_output_recovery = gold_recovery_tr['rougher.output.recovery']\n",
    "rougher_output_recovery_calc = rougher_output_concentrate_au * (rougher_input_feed_au - rougher_output_tail_au) / rougher_input_feed_au / (rougher_output_concentrate_au - rougher_output_tail_au) * 100\n",
    "print('MAE =', mean_absolute_error(rougher_output_recovery, rougher_output_recovery_calc))"
   ]
  },
  {
   "cell_type": "markdown",
   "metadata": {},
   "source": [
    "Значение средней абсолютной ошибки крайне мало. Значение, представленное в таблице рассчитано верно, можно продолжать исследование."
   ]
  },
  {
   "cell_type": "markdown",
   "metadata": {},
   "source": [
    "### Сравнение обучающей и тестовой выборок"
   ]
  },
  {
   "cell_type": "markdown",
   "metadata": {},
   "source": [
    "В тестовой выброке отсутствуют все столбцы, данные которых касатются финальных значений после процесса (все столбцы с названиями типа \"-----.output.-----\"). Следовательно, их при дальнейшем построении моделей - не рассматриваем в качестве признака.\n",
    "\n",
    "Отсутствующие в тестовой выборке столбцы включают данные, которые невозможно получить до реализации каждой отдельной стадии процесса. То есть, в тестовой выборке только исходные данные, отсутствуют данные о результатах процесса."
   ]
  },
  {
   "cell_type": "markdown",
   "metadata": {},
   "source": [
    "### Предобработка данных"
   ]
  },
  {
   "cell_type": "code",
   "execution_count": 139,
   "metadata": {},
   "outputs": [
    {
     "name": "stdout",
     "output_type": "stream",
     "text": [
      "<class 'pandas.core.frame.DataFrame'>\n",
      "RangeIndex: 14149 entries, 0 to 14148\n",
      "Data columns (total 87 columns):\n",
      " #   Column                                              Non-Null Count  Dtype         \n",
      "---  ------                                              --------------  -----         \n",
      " 0   date                                                14149 non-null  datetime64[ns]\n",
      " 1   final.output.concentrate_ag                         14149 non-null  float64       \n",
      " 2   final.output.concentrate_pb                         14149 non-null  float64       \n",
      " 3   final.output.concentrate_sol                        14149 non-null  float64       \n",
      " 4   final.output.concentrate_au                         14149 non-null  float64       \n",
      " 5   final.output.recovery                               14149 non-null  float64       \n",
      " 6   final.output.tail_ag                                14149 non-null  float64       \n",
      " 7   final.output.tail_pb                                14149 non-null  float64       \n",
      " 8   final.output.tail_sol                               14149 non-null  float64       \n",
      " 9   final.output.tail_au                                14149 non-null  float64       \n",
      " 10  primary_cleaner.input.sulfate                       14149 non-null  float64       \n",
      " 11  primary_cleaner.input.depressant                    14149 non-null  float64       \n",
      " 12  primary_cleaner.input.feed_size                     14149 non-null  float64       \n",
      " 13  primary_cleaner.input.xanthate                      14149 non-null  float64       \n",
      " 14  primary_cleaner.output.concentrate_ag               14149 non-null  float64       \n",
      " 15  primary_cleaner.output.concentrate_pb               14149 non-null  float64       \n",
      " 16  primary_cleaner.output.concentrate_sol              14149 non-null  float64       \n",
      " 17  primary_cleaner.output.concentrate_au               14149 non-null  float64       \n",
      " 18  primary_cleaner.output.tail_ag                      14149 non-null  float64       \n",
      " 19  primary_cleaner.output.tail_pb                      14149 non-null  float64       \n",
      " 20  primary_cleaner.output.tail_sol                     14149 non-null  float64       \n",
      " 21  primary_cleaner.output.tail_au                      14149 non-null  float64       \n",
      " 22  primary_cleaner.state.floatbank8_a_air              14149 non-null  float64       \n",
      " 23  primary_cleaner.state.floatbank8_a_level            14149 non-null  float64       \n",
      " 24  primary_cleaner.state.floatbank8_b_air              14149 non-null  float64       \n",
      " 25  primary_cleaner.state.floatbank8_b_level            14149 non-null  float64       \n",
      " 26  primary_cleaner.state.floatbank8_c_air              14149 non-null  float64       \n",
      " 27  primary_cleaner.state.floatbank8_c_level            14149 non-null  float64       \n",
      " 28  primary_cleaner.state.floatbank8_d_air              14149 non-null  float64       \n",
      " 29  primary_cleaner.state.floatbank8_d_level            14149 non-null  float64       \n",
      " 30  rougher.calculation.sulfate_to_au_concentrate       14149 non-null  float64       \n",
      " 31  rougher.calculation.floatbank10_sulfate_to_au_feed  14149 non-null  float64       \n",
      " 32  rougher.calculation.floatbank11_sulfate_to_au_feed  14149 non-null  float64       \n",
      " 33  rougher.calculation.au_pb_ratio                     14149 non-null  float64       \n",
      " 34  rougher.input.feed_ag                               14149 non-null  float64       \n",
      " 35  rougher.input.feed_pb                               14149 non-null  float64       \n",
      " 36  rougher.input.feed_rate                             14149 non-null  float64       \n",
      " 37  rougher.input.feed_size                             14149 non-null  float64       \n",
      " 38  rougher.input.feed_sol                              14149 non-null  float64       \n",
      " 39  rougher.input.feed_au                               14149 non-null  float64       \n",
      " 40  rougher.input.floatbank10_sulfate                   14149 non-null  float64       \n",
      " 41  rougher.input.floatbank10_xanthate                  14149 non-null  float64       \n",
      " 42  rougher.input.floatbank11_sulfate                   14149 non-null  float64       \n",
      " 43  rougher.input.floatbank11_xanthate                  14149 non-null  float64       \n",
      " 44  rougher.output.concentrate_ag                       14149 non-null  float64       \n",
      " 45  rougher.output.concentrate_pb                       14149 non-null  float64       \n",
      " 46  rougher.output.concentrate_sol                      14149 non-null  float64       \n",
      " 47  rougher.output.concentrate_au                       14149 non-null  float64       \n",
      " 48  rougher.output.recovery                             14149 non-null  float64       \n",
      " 49  rougher.output.tail_ag                              14149 non-null  float64       \n",
      " 50  rougher.output.tail_pb                              14149 non-null  float64       \n",
      " 51  rougher.output.tail_sol                             14149 non-null  float64       \n",
      " 52  rougher.output.tail_au                              14149 non-null  float64       \n",
      " 53  rougher.state.floatbank10_a_air                     14149 non-null  float64       \n",
      " 54  rougher.state.floatbank10_a_level                   14149 non-null  float64       \n",
      " 55  rougher.state.floatbank10_b_air                     14149 non-null  float64       \n",
      " 56  rougher.state.floatbank10_b_level                   14149 non-null  float64       \n",
      " 57  rougher.state.floatbank10_c_air                     14149 non-null  float64       \n",
      " 58  rougher.state.floatbank10_c_level                   14149 non-null  float64       \n",
      " 59  rougher.state.floatbank10_d_air                     14149 non-null  float64       \n",
      " 60  rougher.state.floatbank10_d_level                   14149 non-null  float64       \n",
      " 61  rougher.state.floatbank10_e_air                     14149 non-null  float64       \n",
      " 62  rougher.state.floatbank10_e_level                   14149 non-null  float64       \n",
      " 63  rougher.state.floatbank10_f_air                     14149 non-null  float64       \n",
      " 64  rougher.state.floatbank10_f_level                   14149 non-null  float64       \n",
      " 65  secondary_cleaner.output.tail_ag                    14149 non-null  float64       \n",
      " 66  secondary_cleaner.output.tail_pb                    14149 non-null  float64       \n",
      " 67  secondary_cleaner.output.tail_sol                   14149 non-null  float64       \n",
      " 68  secondary_cleaner.output.tail_au                    14149 non-null  float64       \n",
      " 69  secondary_cleaner.state.floatbank2_a_air            14149 non-null  float64       \n",
      " 70  secondary_cleaner.state.floatbank2_a_level          14149 non-null  float64       \n",
      " 71  secondary_cleaner.state.floatbank2_b_air            14149 non-null  float64       \n",
      " 72  secondary_cleaner.state.floatbank2_b_level          14149 non-null  float64       \n",
      " 73  secondary_cleaner.state.floatbank3_a_air            14149 non-null  float64       \n",
      " 74  secondary_cleaner.state.floatbank3_a_level          14149 non-null  float64       \n",
      " 75  secondary_cleaner.state.floatbank3_b_air            14149 non-null  float64       \n",
      " 76  secondary_cleaner.state.floatbank3_b_level          14149 non-null  float64       \n",
      " 77  secondary_cleaner.state.floatbank4_a_air            14149 non-null  float64       \n",
      " 78  secondary_cleaner.state.floatbank4_a_level          14149 non-null  float64       \n",
      " 79  secondary_cleaner.state.floatbank4_b_air            14149 non-null  float64       \n",
      " 80  secondary_cleaner.state.floatbank4_b_level          14149 non-null  float64       \n",
      " 81  secondary_cleaner.state.floatbank5_a_air            14149 non-null  float64       \n",
      " 82  secondary_cleaner.state.floatbank5_a_level          14149 non-null  float64       \n",
      " 83  secondary_cleaner.state.floatbank5_b_air            14149 non-null  float64       \n",
      " 84  secondary_cleaner.state.floatbank5_b_level          14149 non-null  float64       \n",
      " 85  secondary_cleaner.state.floatbank6_a_air            14149 non-null  float64       \n",
      " 86  secondary_cleaner.state.floatbank6_a_level          14149 non-null  float64       \n",
      "dtypes: datetime64[ns](1), float64(86)\n",
      "memory usage: 9.4 MB\n"
     ]
    },
    {
     "name": "stderr",
     "output_type": "stream",
     "text": [
      "/var/folders/81/9w5c_xxd2ls4mkwjtz5p891c0000gn/T/ipykernel_1077/780160858.py:2: FutureWarning: DataFrame.fillna with 'method' is deprecated and will raise in a future version. Use obj.ffill() or obj.bfill() instead.\n",
      "  gold_recovery_tr = gold_recovery_tr.fillna(method = 'bfill')\n"
     ]
    }
   ],
   "source": [
    "# Заполняем ближайшими значениями \n",
    "gold_recovery_tr = gold_recovery_tr.fillna(method = 'bfill')\n",
    "# gold_recovery_tr.bfill() - не работает \n",
    "# Проверка\n",
    "gold_recovery_tr.info()"
   ]
  },
  {
   "cell_type": "markdown",
   "metadata": {},
   "source": [
    "Получается, что разом удаляется 22% данных. Может быть иммет смысл заполнить пропуски значениями из ближайщих ячеек, так как все равно ближайщие значения могут быть очень похожи, что указано в предпроектном описании данных. "
   ]
  },
  {
   "cell_type": "code",
   "execution_count": 140,
   "metadata": {},
   "outputs": [
    {
     "name": "stdout",
     "output_type": "stream",
     "text": [
      "<class 'pandas.core.frame.DataFrame'>\n",
      "RangeIndex: 5290 entries, 0 to 5289\n",
      "Data columns (total 53 columns):\n",
      " #   Column                                      Non-Null Count  Dtype         \n",
      "---  ------                                      --------------  -----         \n",
      " 0   date                                        5290 non-null   datetime64[ns]\n",
      " 1   primary_cleaner.input.sulfate               5290 non-null   float64       \n",
      " 2   primary_cleaner.input.depressant            5290 non-null   float64       \n",
      " 3   primary_cleaner.input.feed_size             5290 non-null   float64       \n",
      " 4   primary_cleaner.input.xanthate              5290 non-null   float64       \n",
      " 5   primary_cleaner.state.floatbank8_a_air      5290 non-null   float64       \n",
      " 6   primary_cleaner.state.floatbank8_a_level    5290 non-null   float64       \n",
      " 7   primary_cleaner.state.floatbank8_b_air      5290 non-null   float64       \n",
      " 8   primary_cleaner.state.floatbank8_b_level    5290 non-null   float64       \n",
      " 9   primary_cleaner.state.floatbank8_c_air      5290 non-null   float64       \n",
      " 10  primary_cleaner.state.floatbank8_c_level    5290 non-null   float64       \n",
      " 11  primary_cleaner.state.floatbank8_d_air      5290 non-null   float64       \n",
      " 12  primary_cleaner.state.floatbank8_d_level    5290 non-null   float64       \n",
      " 13  rougher.input.feed_ag                       5290 non-null   float64       \n",
      " 14  rougher.input.feed_pb                       5290 non-null   float64       \n",
      " 15  rougher.input.feed_rate                     5290 non-null   float64       \n",
      " 16  rougher.input.feed_size                     5290 non-null   float64       \n",
      " 17  rougher.input.feed_sol                      5290 non-null   float64       \n",
      " 18  rougher.input.feed_au                       5290 non-null   float64       \n",
      " 19  rougher.input.floatbank10_sulfate           5290 non-null   float64       \n",
      " 20  rougher.input.floatbank10_xanthate          5290 non-null   float64       \n",
      " 21  rougher.input.floatbank11_sulfate           5290 non-null   float64       \n",
      " 22  rougher.input.floatbank11_xanthate          5290 non-null   float64       \n",
      " 23  rougher.state.floatbank10_a_air             5290 non-null   float64       \n",
      " 24  rougher.state.floatbank10_a_level           5290 non-null   float64       \n",
      " 25  rougher.state.floatbank10_b_air             5290 non-null   float64       \n",
      " 26  rougher.state.floatbank10_b_level           5290 non-null   float64       \n",
      " 27  rougher.state.floatbank10_c_air             5290 non-null   float64       \n",
      " 28  rougher.state.floatbank10_c_level           5290 non-null   float64       \n",
      " 29  rougher.state.floatbank10_d_air             5290 non-null   float64       \n",
      " 30  rougher.state.floatbank10_d_level           5290 non-null   float64       \n",
      " 31  rougher.state.floatbank10_e_air             5290 non-null   float64       \n",
      " 32  rougher.state.floatbank10_e_level           5290 non-null   float64       \n",
      " 33  rougher.state.floatbank10_f_air             5290 non-null   float64       \n",
      " 34  rougher.state.floatbank10_f_level           5290 non-null   float64       \n",
      " 35  secondary_cleaner.state.floatbank2_a_air    5290 non-null   float64       \n",
      " 36  secondary_cleaner.state.floatbank2_a_level  5290 non-null   float64       \n",
      " 37  secondary_cleaner.state.floatbank2_b_air    5290 non-null   float64       \n",
      " 38  secondary_cleaner.state.floatbank2_b_level  5290 non-null   float64       \n",
      " 39  secondary_cleaner.state.floatbank3_a_air    5290 non-null   float64       \n",
      " 40  secondary_cleaner.state.floatbank3_a_level  5290 non-null   float64       \n",
      " 41  secondary_cleaner.state.floatbank3_b_air    5290 non-null   float64       \n",
      " 42  secondary_cleaner.state.floatbank3_b_level  5290 non-null   float64       \n",
      " 43  secondary_cleaner.state.floatbank4_a_air    5290 non-null   float64       \n",
      " 44  secondary_cleaner.state.floatbank4_a_level  5290 non-null   float64       \n",
      " 45  secondary_cleaner.state.floatbank4_b_air    5290 non-null   float64       \n",
      " 46  secondary_cleaner.state.floatbank4_b_level  5290 non-null   float64       \n",
      " 47  secondary_cleaner.state.floatbank5_a_air    5290 non-null   float64       \n",
      " 48  secondary_cleaner.state.floatbank5_a_level  5290 non-null   float64       \n",
      " 49  secondary_cleaner.state.floatbank5_b_air    5290 non-null   float64       \n",
      " 50  secondary_cleaner.state.floatbank5_b_level  5290 non-null   float64       \n",
      " 51  secondary_cleaner.state.floatbank6_a_air    5290 non-null   float64       \n",
      " 52  secondary_cleaner.state.floatbank6_a_level  5290 non-null   float64       \n",
      "dtypes: datetime64[ns](1), float64(52)\n",
      "memory usage: 2.1 MB\n"
     ]
    },
    {
     "name": "stderr",
     "output_type": "stream",
     "text": [
      "/var/folders/81/9w5c_xxd2ls4mkwjtz5p891c0000gn/T/ipykernel_1077/3142389320.py:2: FutureWarning: DataFrame.fillna with 'method' is deprecated and will raise in a future version. Use obj.ffill() or obj.bfill() instead.\n",
      "  gold_recovery_test = gold_recovery_test.fillna(method = 'bfill')\n"
     ]
    }
   ],
   "source": [
    "# Также поступим и с тестовой выборкой\n",
    "gold_recovery_test = gold_recovery_test.fillna(method = 'bfill')\n",
    "\n",
    "# gold_recovery_test.bfill() - не работает \n",
    "\n",
    "# Проверка\n",
    "gold_recovery_test.info()"
   ]
  },
  {
   "cell_type": "markdown",
   "metadata": {},
   "source": [
    "## Анализ данных"
   ]
  },
  {
   "cell_type": "markdown",
   "metadata": {},
   "source": [
    "### Оценка изменения параметра концентрации "
   ]
  },
  {
   "cell_type": "markdown",
   "metadata": {},
   "source": [
    "Для оценки адекватности данных проведем их визуализацию."
   ]
  },
  {
   "cell_type": "code",
   "execution_count": 141,
   "metadata": {},
   "outputs": [
    {
     "data": {
      "image/png": "[encoded data removed]",
      "text/plain": [
       "<Figure size 1000x700 with 1 Axes>"
      ]
     },
     "metadata": {},
     "output_type": "display_data"
    }
   ],
   "source": [
    "# Диаграммы распределения концентрации золота в целевом продукте на разных стадяих обработки\n",
    "plt.figure(figsize = (10,7))\n",
    "\n",
    "gold_recovery_tr['rougher.input.feed_au'].hist(bins = 50, label = 'Концентрация Au на входе в процесс', alpha = 0.5)\n",
    "gold_recovery_tr['rougher.output.concentrate_au'].hist(bins = 50, label = 'Концентрация Au после флотации', alpha = 0.5)\n",
    "gold_recovery_tr['primary_cleaner.output.concentrate_au'].hist(bins = 50, label = 'Концентрация Au после первого этапа очистки', alpha = 0.5)\n",
    "gold_recovery_tr['final.output.concentrate_au'].hist(bins = 50, label = 'Концентрация Au после второго этапа очистки', alpha = 0.5)\n",
    "\n",
    "plt.title('Гистограмма концентраций золота на разных стадиях технологического процесса')\n",
    "plt.xlabel('Концентрация')\n",
    "plt.ylabel('Частота')\n",
    "plt.legend(loc = 'upper left')\n",
    "\n",
    "plt.show()"
   ]
  },
  {
   "cell_type": "markdown",
   "metadata": {},
   "source": [
    "На совмещенной гистограме видно, что во всех случаях распределение близко к нормальному. Но также видно как коцентрации после флотации, после первого, а также после второго этапа очистки, есть аномальные значения, меньше 1 (предположительно, по графику).\n",
    "Предлагается подсчитать такие значения и убрать их из датасета. "
   ]
  },
  {
   "cell_type": "code",
   "execution_count": 142,
   "metadata": {},
   "outputs": [
    {
     "name": "stdout",
     "output_type": "stream",
     "text": [
      "19\n",
      "303\n",
      "199\n",
      "59\n"
     ]
    }
   ],
   "source": [
    "# Исключим значения \n",
    "print(gold_recovery_tr[gold_recovery_tr['rougher.input.feed_au'] < 1]['rougher.input.feed_au'].count())\n",
    "print(gold_recovery_tr[gold_recovery_tr['rougher.output.concentrate_au'] < 1]['rougher.output.concentrate_au'].count())\n",
    "print(gold_recovery_tr[gold_recovery_tr['primary_cleaner.output.concentrate_au'] < 1]['primary_cleaner.output.concentrate_au'].count())\n",
    "print(gold_recovery_tr[gold_recovery_tr['final.output.concentrate_au'] < 1]['final.output.concentrate_au'].count())"
   ]
  },
  {
   "cell_type": "markdown",
   "metadata": {},
   "source": [
    "Так как количество не значительно относительно общей выборки, предлагается исключить данные значения. Чтобы исключить искажения при дальшейшем построении моделей."
   ]
  },
  {
   "cell_type": "code",
   "execution_count": 143,
   "metadata": {},
   "outputs": [],
   "source": [
    "# Удаляем значания меньше 1 в рассмотренных выше столбцах\n",
    "gold_recovery_tr = gold_recovery_tr[gold_recovery_tr['rougher.input.feed_au'] > 1]\n",
    "gold_recovery_tr = gold_recovery_tr[gold_recovery_tr['rougher.output.concentrate_au'] > 1]\n",
    "gold_recovery_tr = gold_recovery_tr[gold_recovery_tr['primary_cleaner.output.concentrate_au'] > 1]\n",
    "gold_recovery_tr = gold_recovery_tr[gold_recovery_tr['final.output.concentrate_au'] > 1]"
   ]
  },
  {
   "cell_type": "code",
   "execution_count": 144,
   "metadata": {},
   "outputs": [
    {
     "name": "stdout",
     "output_type": "stream",
     "text": [
      "0\n",
      "0\n",
      "0\n",
      "0\n"
     ]
    }
   ],
   "source": [
    "# Проверка\n",
    "print(gold_recovery_tr[gold_recovery_tr['rougher.input.feed_au'] < 1]['rougher.input.feed_au'].count())\n",
    "print(gold_recovery_tr[gold_recovery_tr['rougher.output.concentrate_au'] < 1]['rougher.output.concentrate_au'].count())\n",
    "print(gold_recovery_tr[gold_recovery_tr['primary_cleaner.output.concentrate_au'] < 1]['primary_cleaner.output.concentrate_au'].count())\n",
    "print(gold_recovery_tr[gold_recovery_tr['final.output.concentrate_au'] < 1]['final.output.concentrate_au'].count())"
   ]
  },
  {
   "cell_type": "code",
   "execution_count": 145,
   "metadata": {},
   "outputs": [],
   "source": [
    "# Удаляем значания меньше 1 в рассмотренных выше столбцах\n",
    "gold_recovery_tr = gold_recovery_tr[gold_recovery_tr['rougher.input.feed_au'] < 20]\n",
    "gold_recovery_tr = gold_recovery_tr[gold_recovery_tr['rougher.output.concentrate_au'] > 10]\n",
    "gold_recovery_tr = gold_recovery_tr[gold_recovery_tr['primary_cleaner.output.concentrate_au'] > 15]\n",
    "gold_recovery_tr = gold_recovery_tr[gold_recovery_tr['final.output.concentrate_au'] > 20]"
   ]
  },
  {
   "cell_type": "markdown",
   "metadata": {},
   "source": [
    "Проведем аналогичные исследования для серебра (Ag) и свинца (Pb)."
   ]
  },
  {
   "cell_type": "code",
   "execution_count": 146,
   "metadata": {},
   "outputs": [
    {
     "data": {
      "image/png": "[encoded data removed]",
      "text/plain": [
       "<Figure size 1000x700 with 1 Axes>"
      ]
     },
     "metadata": {},
     "output_type": "display_data"
    }
   ],
   "source": [
    "# Диаграммы распределения концентрации серебра в целевом продукте на разных стадяих обработки\n",
    "plt.figure(figsize = (10,7))\n",
    "\n",
    "gold_recovery_tr['rougher.input.feed_ag'].hist(bins = 50, label = 'Концентрация Ag на входе в процесс', alpha = 0.5)\n",
    "gold_recovery_tr['rougher.output.concentrate_ag'].hist(bins = 50, label = 'Концентрация Ag после флотации', alpha = 0.5)\n",
    "gold_recovery_tr['primary_cleaner.output.concentrate_ag'].hist(bins = 50, label = 'Концентрация Ag после первого этапа очистки', alpha = 0.5)\n",
    "gold_recovery_tr['final.output.concentrate_ag'].hist(bins = 50, label = 'Концентрация Ag после второго этапа очистки', alpha = 0.5)\n",
    "\n",
    "plt.title('Гистограмма концентраций серебра на разных стадиях технологического процесса')\n",
    "plt.xlabel('Концентрация')\n",
    "plt.ylabel('Частота')\n",
    "plt.legend(loc = 'upper left')\n",
    "\n",
    "plt.show()"
   ]
  },
  {
   "cell_type": "markdown",
   "metadata": {},
   "source": [
    "Из гистрограммы видно, что серебро - не целевой продукт. Так как в результате технологического процесса концентрация серебра не растет. Выбросы были, скорее всего убраны на этапе обработки данных о концентрациях золота. "
   ]
  },
  {
   "cell_type": "code",
   "execution_count": 147,
   "metadata": {},
   "outputs": [
    {
     "data": {
      "image/png": "[encoded data removed]",
      "text/plain": [
       "<Figure size 1000x700 with 1 Axes>"
      ]
     },
     "metadata": {},
     "output_type": "display_data"
    }
   ],
   "source": [
    "# Диаграммы распределения концентрации золота в целевом продукте на разных стадяих обработки\n",
    "plt.figure(figsize = (10,7))\n",
    "\n",
    "gold_recovery_tr['rougher.input.feed_pb'].hist(bins = 50, label = 'Концентрация Pb на входе в процесс', alpha = 0.5)\n",
    "gold_recovery_tr['rougher.output.concentrate_pb'].hist(bins = 50, label = 'Концентрация Pb после флотации', alpha = 0.5)\n",
    "gold_recovery_tr['primary_cleaner.output.concentrate_pb'].hist(bins = 50, label = 'Концентрация Pb после первого этапа очистки', alpha = 0.5)\n",
    "gold_recovery_tr['final.output.concentrate_pb'].hist(bins = 50, label = 'Концентрация Pb после второго этапа очистки', alpha = 0.5)\n",
    "\n",
    "plt.title('Гистограмма концентраций золота на разных стадиях технологического процесса')\n",
    "plt.xlabel('Концентрация')\n",
    "plt.ylabel('Частота')\n",
    "plt.legend(loc = 'upper left')\n",
    "\n",
    "plt.show()"
   ]
  },
  {
   "cell_type": "markdown",
   "metadata": {},
   "source": [
    "Концентрация свинца растет, но рост не такой выраженный, как у золота, так как продукт не целевой. Выбросы были убраны на этапе обработки ранее. "
   ]
  },
  {
   "cell_type": "markdown",
   "metadata": {},
   "source": [
    "### Оценка изменения параметра размера гранул"
   ]
  },
  {
   "cell_type": "code",
   "execution_count": 148,
   "metadata": {},
   "outputs": [
    {
     "data": {
      "image/png": "[encoded data removed]",
      "text/plain": [
       "<Figure size 1000x700 with 1 Axes>"
      ]
     },
     "metadata": {},
     "output_type": "display_data"
    }
   ],
   "source": [
    "# Диаграммы распределения размера частиц в целевом продукте на стадии первичной очистки\n",
    "plt.figure(figsize = (10,7))\n",
    "\n",
    "#gold_recovery_tr_size = gold_recovery_tr['rougher.input.feed_size']\n",
    "sns.kdeplot(data=gold_recovery_tr, x='primary_cleaner.input.feed_size', common_norm=False, alpha = 0.8, \\\n",
    "            label = 'Размер частиц на входе в первичную очистку в обучающей выборке')\n",
    "sns.kdeplot(data=gold_recovery_test, x='primary_cleaner.input.feed_size', common_norm=False, alpha = 0.1, \\\n",
    "            label = 'Размер частиц на входе в первичную очистку в тестовой выборке')\n",
    "\n",
    "\n",
    "plt.title('Гистограмма размера частиц')\n",
    "plt.xlabel('Размер')\n",
    "plt.ylabel('Плотность распределения')\n",
    "plt.legend()\n",
    "plt.show()"
   ]
  },
  {
   "cell_type": "code",
   "execution_count": 149,
   "metadata": {},
   "outputs": [
    {
     "name": "stdout",
     "output_type": "stream",
     "text": [
      "count    13357.00000\n",
      "mean         7.33244\n",
      "std          0.61531\n",
      "min          1.08000\n",
      "25%          6.97000\n",
      "50%          7.30000\n",
      "75%          7.70000\n",
      "max         10.47000\n",
      "Name: primary_cleaner.input.feed_size, dtype: float64\n",
      "count    5290.000000\n",
      "mean        7.266339\n",
      "std         0.610219\n",
      "min         5.650000\n",
      "25%         6.890000\n",
      "50%         7.250000\n",
      "75%         7.600000\n",
      "max        15.500000\n",
      "Name: primary_cleaner.input.feed_size, dtype: float64\n"
     ]
    }
   ],
   "source": [
    "print(gold_recovery_tr['primary_cleaner.input.feed_size'].describe())\n",
    "print(gold_recovery_test['primary_cleaner.input.feed_size'].describe())"
   ]
  },
  {
   "cell_type": "code",
   "execution_count": 150,
   "metadata": {},
   "outputs": [
    {
     "data": {
      "image/png": "[encoded data removed]",
      "text/plain": [
       "<Figure size 1000x700 with 1 Axes>"
      ]
     },
     "metadata": {},
     "output_type": "display_data"
    }
   ],
   "source": [
    "# Диаграммы распределения размера частиц в целевом продукте на стадии флотации\n",
    "plt.figure(figsize = (10,7))\n",
    "\n",
    "sns.kdeplot(data=gold_recovery_tr, x='rougher.input.feed_size', common_norm=False, alpha = 0.8, \\\n",
    "            label = 'Размер частиц на входе в процесс флотации в обучающей выборке')\n",
    "sns.kdeplot(data=gold_recovery_test, x='rougher.input.feed_size', common_norm=False, alpha = 0.1, \\\n",
    "            label = 'Размер частиц на входе в процесс флотации в тестовой выборке')\n",
    "\n",
    "\n",
    "plt.title('Гистограмма размера частиц')\n",
    "plt.xlabel('Размер')\n",
    "plt.ylabel('Плотность распределения')\n",
    "plt.legend()\n",
    "plt.show()"
   ]
  },
  {
   "cell_type": "code",
   "execution_count": 151,
   "metadata": {},
   "outputs": [
    {
     "name": "stdout",
     "output_type": "stream",
     "text": [
      "count    13357.000000\n",
      "mean        59.911872\n",
      "std         23.511209\n",
      "min          9.659576\n",
      "25%         48.969158\n",
      "50%         55.276338\n",
      "75%         65.606651\n",
      "max        484.967466\n",
      "Name: rougher.input.feed_size, dtype: float64\n",
      "count    5290.000000\n",
      "mean       55.952917\n",
      "std        19.080412\n",
      "min         0.046369\n",
      "25%        43.906504\n",
      "50%        50.846843\n",
      "75%        62.451165\n",
      "max       392.494040\n",
      "Name: rougher.input.feed_size, dtype: float64\n"
     ]
    }
   ],
   "source": [
    "print(gold_recovery_tr['rougher.input.feed_size'].describe())\n",
    "print(gold_recovery_test['rougher.input.feed_size'].describe())"
   ]
  },
  {
   "cell_type": "markdown",
   "metadata": {},
   "source": [
    "Среднее, а также первый, второй и третий квартили по обеим выборкам (train и test) очень похожи и для процесса первичной очистки, и для флотации."
   ]
  },
  {
   "cell_type": "code",
   "execution_count": 152,
   "metadata": {},
   "outputs": [
    {
     "name": "stdout",
     "output_type": "stream",
     "text": [
      "0        14.871440\n",
      "1        14.905729\n",
      "2        14.638299\n",
      "3        14.199305\n",
      "4        13.511497\n",
      "           ...    \n",
      "14144    16.045275\n",
      "14145    15.104931\n",
      "14146    14.515579\n",
      "14147    14.313448\n",
      "14148    14.399936\n",
      "Length: 13357, dtype: float64\n"
     ]
    }
   ],
   "source": [
    "# Концентрация металлов в сырье \n",
    "\n",
    "au_ag_pb_feed = gold_recovery_tr[['rougher.input.feed_ag', \n",
    "                   'rougher.input.feed_pb', \n",
    "                   'rougher.input.feed_au']].sum(axis=1)\n",
    "\n",
    "print(au_ag_pb_feed)"
   ]
  },
  {
   "cell_type": "code",
   "execution_count": 153,
   "metadata": {},
   "outputs": [
    {
     "name": "stdout",
     "output_type": "stream",
     "text": [
      "0        38.395653\n",
      "1        38.945647\n",
      "2        38.649756\n",
      "3        38.411473\n",
      "4        38.867359\n",
      "           ...    \n",
      "14144    40.712449\n",
      "14145    40.755632\n",
      "14146    32.589863\n",
      "14147    40.148948\n",
      "14148    40.465768\n",
      "Length: 13357, dtype: float64\n"
     ]
    }
   ],
   "source": [
    "# Концентрация металлов в черновом концентрате\n",
    "au_ag_pb_rougher = gold_recovery_tr[['rougher.output.concentrate_au', \n",
    "                   'rougher.output.concentrate_ag', \n",
    "                   'rougher.output.concentrate_pb']].sum(axis=1)\n",
    "print(au_ag_pb_rougher)"
   ]
  },
  {
   "cell_type": "code",
   "execution_count": 154,
   "metadata": {},
   "outputs": [
    {
     "name": "stdout",
     "output_type": "stream",
     "text": [
      "0        53.111627\n",
      "1        53.174338\n",
      "2        52.927464\n",
      "3        43.979185\n",
      "4        52.121146\n",
      "           ...    \n",
      "14144    51.945355\n",
      "14145    52.161648\n",
      "14146    51.619196\n",
      "14147    50.273714\n",
      "14148    49.544487\n",
      "Length: 13357, dtype: float64\n"
     ]
    }
   ],
   "source": [
    "# Концентрация металлов в черновом концентрате\n",
    "au_ag_pb_primary = gold_recovery_tr[['primary_cleaner.output.concentrate_au', \n",
    "                   'primary_cleaner.output.concentrate_ag', \n",
    "                   'primary_cleaner.output.concentrate_pb']].sum(axis=1)\n",
    "print(au_ag_pb_primary)"
   ]
  },
  {
   "cell_type": "code",
   "execution_count": 155,
   "metadata": {},
   "outputs": [
    {
     "name": "stdout",
     "output_type": "stream",
     "text": [
      "0        58.137072\n",
      "1        58.699942\n",
      "2        58.927421\n",
      "3        58.714815\n",
      "4        59.065251\n",
      "           ...    \n",
      "14144    61.295107\n",
      "14145    61.412113\n",
      "14146    61.340054\n",
      "14147    61.401016\n",
      "14148    61.635645\n",
      "Length: 13357, dtype: float64\n"
     ]
    }
   ],
   "source": [
    "# Концентрация металлов в финальном концентрате\n",
    "au_ag_pb_final = gold_recovery_tr[['final.output.concentrate_au', \n",
    "                   'final.output.concentrate_ag', \n",
    "                   'final.output.concentrate_pb']].sum(axis=1)\n",
    "print(au_ag_pb_final)"
   ]
  },
  {
   "cell_type": "code",
   "execution_count": 156,
   "metadata": {},
   "outputs": [
    {
     "data": {
      "image/png": "[encoded data removed]",
      "text/plain": [
       "<Figure size 1000x700 with 1 Axes>"
      ]
     },
     "metadata": {},
     "output_type": "display_data"
    }
   ],
   "source": [
    "# Гистограмма концентрации металлов в финальном концентрате\n",
    "plt.figure(figsize = (10,7))\n",
    "\n",
    "au_ag_pb_feed.hist(bins = 100, label = 'Распределение величины концентрации металлов в сырье', alpha = 0.5)\n",
    "au_ag_pb_rougher.hist(bins = 100, label = 'Распределение величины концентрации металлов в черновом концентрате после флотации', alpha = 0.5)\n",
    "au_ag_pb_primary.hist(bins = 100, label = 'Распределение величины концентрации металлов в черновом концентрате после первой стадии очистки', alpha = 0.5)\n",
    "au_ag_pb_final.hist(bins = 100, label = 'Распределение величины концентрации металлов в финальном концентрате', alpha = 0.5)\n",
    "\n",
    "plt.title('Гистограмма размера частиц')\n",
    "plt.xlabel('Размер')\n",
    "plt.ylabel('Частота')\n",
    "plt.legend(loc = 'upper left')\n",
    "plt.show()"
   ]
  },
  {
   "cell_type": "markdown",
   "metadata": {},
   "source": [
    "Распределение значений величины концентраций металлов в сырье для разных стадий технологического процессе нормальное, и в целом наблюдается тенденция к росту концентрации в резальльтате процесса обогащения. Основной вклад в рост концентрации, исходя из ранее исследованных данных вносит золото. "
   ]
  },
  {
   "cell_type": "markdown",
   "metadata": {},
   "source": [
    "## Модель"
   ]
  },
  {
   "cell_type": "markdown",
   "metadata": {},
   "source": [
    "### Обозначаем целевые признаки признаки"
   ]
  },
  {
   "cell_type": "code",
   "execution_count": 157,
   "metadata": {},
   "outputs": [
    {
     "name": "stdout",
     "output_type": "stream",
     "text": [
      "Columns containing specific words:                      date  final.output.concentrate_ag  \\\n",
      "0     2016-01-15 00:00:00                     6.055403   \n",
      "1     2016-01-15 01:00:00                     6.029369   \n",
      "2     2016-01-15 02:00:00                     6.055926   \n",
      "3     2016-01-15 03:00:00                     6.047977   \n",
      "4     2016-01-15 04:00:00                     6.148599   \n",
      "...                   ...                          ...   \n",
      "14144 2018-08-18 06:59:59                     3.224920   \n",
      "14145 2018-08-18 07:59:59                     3.195978   \n",
      "14146 2018-08-18 08:59:59                     3.109998   \n",
      "14147 2018-08-18 09:59:59                     3.367241   \n",
      "14148 2018-08-18 10:59:59                     3.598375   \n",
      "\n",
      "       final.output.concentrate_pb  final.output.concentrate_sol  \\\n",
      "0                         9.889648                      5.507324   \n",
      "1                         9.968944                      5.257781   \n",
      "2                        10.213995                      5.383759   \n",
      "3                         9.977019                      4.858634   \n",
      "4                        10.142511                      4.939416   \n",
      "...                            ...                           ...   \n",
      "14144                    11.356233                      6.803482   \n",
      "14145                    11.349355                      6.862249   \n",
      "14146                    11.434366                      6.886013   \n",
      "14147                    11.625587                      6.799433   \n",
      "14148                    11.737832                      6.717509   \n",
      "\n",
      "       final.output.concentrate_au  final.output.recovery  \\\n",
      "0                        42.192020              70.541216   \n",
      "1                        42.701629              69.266198   \n",
      "2                        42.657501              68.116445   \n",
      "3                        42.689819              68.347543   \n",
      "4                        42.774141              66.927016   \n",
      "...                            ...                    ...   \n",
      "14144                    46.713954              73.755150   \n",
      "14145                    46.866780              69.049291   \n",
      "14146                    46.795691              67.002189   \n",
      "14147                    46.408188              65.523246   \n",
      "14148                    46.299438              70.281454   \n",
      "\n",
      "       final.output.tail_ag  final.output.tail_pb  final.output.tail_sol  \\\n",
      "0                 10.411962              0.895447              16.904297   \n",
      "1                 10.462676              0.927452              16.634514   \n",
      "2                 10.507046              0.953716              16.208849   \n",
      "3                 10.422762              0.883763              16.532835   \n",
      "4                 10.360302              0.792826              16.525686   \n",
      "...                     ...                   ...                    ...   \n",
      "14144              8.769645              3.141541              10.403181   \n",
      "14145              8.897321              3.130493              10.549470   \n",
      "14146              8.529606              2.911418              11.115147   \n",
      "14147              8.777171              2.819214              10.463847   \n",
      "14148              8.406690              2.517518              10.652193   \n",
      "\n",
      "       final.output.tail_au  ...  rougher.output.concentrate_au  \\\n",
      "0                  2.143149  ...                      19.793808   \n",
      "1                  2.224930  ...                      20.050975   \n",
      "2                  2.257889  ...                      19.737170   \n",
      "3                  2.146849  ...                      19.320810   \n",
      "4                  2.055292  ...                      19.216101   \n",
      "...                     ...  ...                            ...   \n",
      "14144              1.529220  ...                      18.603550   \n",
      "14145              1.612542  ...                      18.441436   \n",
      "14146              1.596616  ...                      15.111231   \n",
      "14147              1.602879  ...                      17.834772   \n",
      "14148              1.389434  ...                      17.804134   \n",
      "\n",
      "       rougher.output.recovery  rougher.output.tail_ag  \\\n",
      "0                    87.107763                5.008018   \n",
      "1                    86.843261                4.955378   \n",
      "2                    86.842308                4.843460   \n",
      "3                    87.226430                4.655288   \n",
      "4                    86.688794                4.552800   \n",
      "...                        ...                     ...   \n",
      "14144                89.574376                4.207261   \n",
      "14145                87.724007                4.177943   \n",
      "14146                88.890579                4.050010   \n",
      "14147                89.858126                3.902494   \n",
      "14148                89.514960                3.925473   \n",
      "\n",
      "       rougher.output.tail_pb  rougher.output.tail_sol  \\\n",
      "0                    0.508728                19.154297   \n",
      "1                    0.536689                18.965234   \n",
      "2                    0.546416                18.808533   \n",
      "3                    0.542525                19.330200   \n",
      "4                    0.515438                19.267422   \n",
      "...                       ...                      ...   \n",
      "14144                0.612935                16.666590   \n",
      "14145                0.650557                16.960649   \n",
      "14146                0.636095                18.323080   \n",
      "14147                0.625609                19.423740   \n",
      "14148                0.638677                19.946673   \n",
      "\n",
      "       rougher.output.tail_au  secondary_cleaner.output.tail_ag  \\\n",
      "0                    1.170244                         14.500184   \n",
      "1                    1.184827                         14.265474   \n",
      "2                    1.162562                         14.115662   \n",
      "3                    1.079755                         13.732071   \n",
      "4                    1.012642                         14.079996   \n",
      "...                       ...                               ...   \n",
      "14144                0.748633                          0.000000   \n",
      "14145                0.771582                          0.000000   \n",
      "14146                0.685059                          0.000000   \n",
      "14147                0.567130                          0.000000   \n",
      "14148                0.586439                          0.000000   \n",
      "\n",
      "       secondary_cleaner.output.tail_pb  secondary_cleaner.output.tail_sol  \\\n",
      "0                              4.694824                           8.764648   \n",
      "1                              4.592547                           9.001494   \n",
      "2                              4.624775                           8.842896   \n",
      "3                              4.482453                           9.122857   \n",
      "4                              4.470737                           8.871028   \n",
      "...                                 ...                                ...   \n",
      "14144                          0.000000                           0.000000   \n",
      "14145                          0.000000                           0.000000   \n",
      "14146                          0.000000                           0.000000   \n",
      "14147                          0.000000                           0.000000   \n",
      "14148                          0.000000                           0.000000   \n",
      "\n",
      "       secondary_cleaner.output.tail_au  \n",
      "0                              2.606185  \n",
      "1                              2.488248  \n",
      "2                              2.458187  \n",
      "3                              2.322062  \n",
      "4                              2.330448  \n",
      "...                                 ...  \n",
      "14144                          0.000000  \n",
      "14145                          0.000000  \n",
      "14146                          0.000000  \n",
      "14147                          0.000000  \n",
      "14148                          0.000000  \n",
      "\n",
      "[13357 rows x 35 columns]\n"
     ]
    }
   ],
   "source": [
    "#Определим признаки, которые не войдут в обучающую выборку\n",
    "\n",
    "def select_columns_by_keywords(data, keywords):\n",
    "    \n",
    "    # Проверяем, содержится ли шаблон (keywords) в названии столбцов (| для обозначения \"или\")\n",
    "    mask = data.columns.str.contains('|'.join(keywords), case=False)\n",
    "    # Создаем новый датафрейм со столбцами, выбранными по условию\n",
    "    return data.loc[:, mask]\n",
    "\n",
    "keywods = ['date', 'output', 'calculation']\n",
    "gold_recovery_train_out_01 = select_columns_by_keywords(gold_recovery_tr,keywods)\n",
    "\n",
    "print(\"Columns containing specific words:\", gold_recovery_train_out_01)"
   ]
  },
  {
   "cell_type": "code",
   "execution_count": 158,
   "metadata": {},
   "outputs": [
    {
     "data": {
      "text/html": [
       "<div>\n",
       "<style scoped>\n",
       "    .dataframe tbody tr th:only-of-type {\n",
       "        vertical-align: middle;\n",
       "    }\n",
       "\n",
       "    .dataframe tbody tr th {\n",
       "        vertical-align: top;\n",
       "    }\n",
       "\n",
       "    .dataframe thead th {\n",
       "        text-align: right;\n",
       "    }\n",
       "</style>\n",
       "<table border=\"1\" class=\"dataframe\">\n",
       "  <thead>\n",
       "    <tr style=\"text-align: right;\">\n",
       "      <th></th>\n",
       "      <th>rougher.output.recovery</th>\n",
       "      <th>final.output.recovery</th>\n",
       "    </tr>\n",
       "  </thead>\n",
       "  <tbody>\n",
       "    <tr>\n",
       "      <th>0</th>\n",
       "      <td>87.107763</td>\n",
       "      <td>70.541216</td>\n",
       "    </tr>\n",
       "    <tr>\n",
       "      <th>1</th>\n",
       "      <td>86.843261</td>\n",
       "      <td>69.266198</td>\n",
       "    </tr>\n",
       "    <tr>\n",
       "      <th>2</th>\n",
       "      <td>86.842308</td>\n",
       "      <td>68.116445</td>\n",
       "    </tr>\n",
       "    <tr>\n",
       "      <th>3</th>\n",
       "      <td>87.226430</td>\n",
       "      <td>68.347543</td>\n",
       "    </tr>\n",
       "    <tr>\n",
       "      <th>4</th>\n",
       "      <td>86.688794</td>\n",
       "      <td>66.927016</td>\n",
       "    </tr>\n",
       "    <tr>\n",
       "      <th>...</th>\n",
       "      <td>...</td>\n",
       "      <td>...</td>\n",
       "    </tr>\n",
       "    <tr>\n",
       "      <th>14144</th>\n",
       "      <td>89.574376</td>\n",
       "      <td>73.755150</td>\n",
       "    </tr>\n",
       "    <tr>\n",
       "      <th>14145</th>\n",
       "      <td>87.724007</td>\n",
       "      <td>69.049291</td>\n",
       "    </tr>\n",
       "    <tr>\n",
       "      <th>14146</th>\n",
       "      <td>88.890579</td>\n",
       "      <td>67.002189</td>\n",
       "    </tr>\n",
       "    <tr>\n",
       "      <th>14147</th>\n",
       "      <td>89.858126</td>\n",
       "      <td>65.523246</td>\n",
       "    </tr>\n",
       "    <tr>\n",
       "      <th>14148</th>\n",
       "      <td>89.514960</td>\n",
       "      <td>70.281454</td>\n",
       "    </tr>\n",
       "  </tbody>\n",
       "</table>\n",
       "<p>13357 rows × 2 columns</p>\n",
       "</div>"
      ],
      "text/plain": [
       "       rougher.output.recovery  final.output.recovery\n",
       "0                    87.107763              70.541216\n",
       "1                    86.843261              69.266198\n",
       "2                    86.842308              68.116445\n",
       "3                    87.226430              68.347543\n",
       "4                    86.688794              66.927016\n",
       "...                        ...                    ...\n",
       "14144                89.574376              73.755150\n",
       "14145                87.724007              69.049291\n",
       "14146                88.890579              67.002189\n",
       "14147                89.858126              65.523246\n",
       "14148                89.514960              70.281454\n",
       "\n",
       "[13357 rows x 2 columns]"
      ]
     },
     "metadata": {},
     "output_type": "display_data"
    }
   ],
   "source": [
    "gold_recovery_target = gold_recovery_tr[['rougher.output.recovery', 'final.output.recovery']]\n",
    "\n",
    "display(gold_recovery_target)"
   ]
  },
  {
   "cell_type": "code",
   "execution_count": 159,
   "metadata": {},
   "outputs": [
    {
     "name": "stdout",
     "output_type": "stream",
     "text": [
      "<class 'pandas.core.frame.DataFrame'>\n",
      "RangeIndex: 5290 entries, 0 to 5289\n",
      "Data columns (total 55 columns):\n",
      " #   Column                                      Non-Null Count  Dtype         \n",
      "---  ------                                      --------------  -----         \n",
      " 0   date                                        5290 non-null   datetime64[ns]\n",
      " 1   primary_cleaner.input.sulfate               5290 non-null   float64       \n",
      " 2   primary_cleaner.input.depressant            5290 non-null   float64       \n",
      " 3   primary_cleaner.input.feed_size             5290 non-null   float64       \n",
      " 4   primary_cleaner.input.xanthate              5290 non-null   float64       \n",
      " 5   primary_cleaner.state.floatbank8_a_air      5290 non-null   float64       \n",
      " 6   primary_cleaner.state.floatbank8_a_level    5290 non-null   float64       \n",
      " 7   primary_cleaner.state.floatbank8_b_air      5290 non-null   float64       \n",
      " 8   primary_cleaner.state.floatbank8_b_level    5290 non-null   float64       \n",
      " 9   primary_cleaner.state.floatbank8_c_air      5290 non-null   float64       \n",
      " 10  primary_cleaner.state.floatbank8_c_level    5290 non-null   float64       \n",
      " 11  primary_cleaner.state.floatbank8_d_air      5290 non-null   float64       \n",
      " 12  primary_cleaner.state.floatbank8_d_level    5290 non-null   float64       \n",
      " 13  rougher.input.feed_ag                       5290 non-null   float64       \n",
      " 14  rougher.input.feed_pb                       5290 non-null   float64       \n",
      " 15  rougher.input.feed_rate                     5290 non-null   float64       \n",
      " 16  rougher.input.feed_size                     5290 non-null   float64       \n",
      " 17  rougher.input.feed_sol                      5290 non-null   float64       \n",
      " 18  rougher.input.feed_au                       5290 non-null   float64       \n",
      " 19  rougher.input.floatbank10_sulfate           5290 non-null   float64       \n",
      " 20  rougher.input.floatbank10_xanthate          5290 non-null   float64       \n",
      " 21  rougher.input.floatbank11_sulfate           5290 non-null   float64       \n",
      " 22  rougher.input.floatbank11_xanthate          5290 non-null   float64       \n",
      " 23  rougher.state.floatbank10_a_air             5290 non-null   float64       \n",
      " 24  rougher.state.floatbank10_a_level           5290 non-null   float64       \n",
      " 25  rougher.state.floatbank10_b_air             5290 non-null   float64       \n",
      " 26  rougher.state.floatbank10_b_level           5290 non-null   float64       \n",
      " 27  rougher.state.floatbank10_c_air             5290 non-null   float64       \n",
      " 28  rougher.state.floatbank10_c_level           5290 non-null   float64       \n",
      " 29  rougher.state.floatbank10_d_air             5290 non-null   float64       \n",
      " 30  rougher.state.floatbank10_d_level           5290 non-null   float64       \n",
      " 31  rougher.state.floatbank10_e_air             5290 non-null   float64       \n",
      " 32  rougher.state.floatbank10_e_level           5290 non-null   float64       \n",
      " 33  rougher.state.floatbank10_f_air             5290 non-null   float64       \n",
      " 34  rougher.state.floatbank10_f_level           5290 non-null   float64       \n",
      " 35  secondary_cleaner.state.floatbank2_a_air    5290 non-null   float64       \n",
      " 36  secondary_cleaner.state.floatbank2_a_level  5290 non-null   float64       \n",
      " 37  secondary_cleaner.state.floatbank2_b_air    5290 non-null   float64       \n",
      " 38  secondary_cleaner.state.floatbank2_b_level  5290 non-null   float64       \n",
      " 39  secondary_cleaner.state.floatbank3_a_air    5290 non-null   float64       \n",
      " 40  secondary_cleaner.state.floatbank3_a_level  5290 non-null   float64       \n",
      " 41  secondary_cleaner.state.floatbank3_b_air    5290 non-null   float64       \n",
      " 42  secondary_cleaner.state.floatbank3_b_level  5290 non-null   float64       \n",
      " 43  secondary_cleaner.state.floatbank4_a_air    5290 non-null   float64       \n",
      " 44  secondary_cleaner.state.floatbank4_a_level  5290 non-null   float64       \n",
      " 45  secondary_cleaner.state.floatbank4_b_air    5290 non-null   float64       \n",
      " 46  secondary_cleaner.state.floatbank4_b_level  5290 non-null   float64       \n",
      " 47  secondary_cleaner.state.floatbank5_a_air    5290 non-null   float64       \n",
      " 48  secondary_cleaner.state.floatbank5_a_level  5290 non-null   float64       \n",
      " 49  secondary_cleaner.state.floatbank5_b_air    5290 non-null   float64       \n",
      " 50  secondary_cleaner.state.floatbank5_b_level  5290 non-null   float64       \n",
      " 51  secondary_cleaner.state.floatbank6_a_air    5290 non-null   float64       \n",
      " 52  secondary_cleaner.state.floatbank6_a_level  5290 non-null   float64       \n",
      " 53  rougher.output.recovery                     5290 non-null   float64       \n",
      " 54  final.output.recovery                       5290 non-null   float64       \n",
      "dtypes: datetime64[ns](1), float64(54)\n",
      "memory usage: 2.2 MB\n",
      "None\n"
     ]
    }
   ],
   "source": [
    "# Добавляем в тестовую выборку отсутствующие данные из обучающей выборки\n",
    "merge_train_test = gold_recovery_full[['date','rougher.output.recovery','final.output.recovery']]\n",
    "gold_recovery_test = gold_recovery_test.merge(merge_train_test, on='date', how='left')\n",
    "\n",
    "\n",
    "\n",
    "print(gold_recovery_test.info())"
   ]
  },
  {
   "cell_type": "code",
   "execution_count": 160,
   "metadata": {},
   "outputs": [],
   "source": [
    "# Разделяем на выборки для обучения и валидационную выборку:\n",
    "gold_recovery_train, gold_recovery_valid = train_test_split(gold_recovery_tr, test_size=0.25, random_state=12345)"
   ]
  },
  {
   "cell_type": "code",
   "execution_count": 161,
   "metadata": {
    "scrolled": true
   },
   "outputs": [
    {
     "name": "stdout",
     "output_type": "stream",
     "text": [
      "(10017, 52)\n",
      "(10017, 1)\n",
      "(5290, 52)\n",
      "(5290, 1)\n",
      "(3340, 52)\n",
      "(3340, 1)\n"
     ]
    }
   ],
   "source": [
    "# Определяем целевой признак и параметры для обучающей выборки\n",
    "features_train = gold_recovery_train.drop(gold_recovery_train_out_01, axis = 1)\n",
    "target_train_rougher = gold_recovery_train[['rougher.output.recovery']]\n",
    "target_train_final = gold_recovery_train[['final.output.recovery']]\n",
    "\n",
    "# Определяем целевой признак и параметры для валидационной выборки\n",
    "features_test = gold_recovery_test.drop(['date', 'rougher.output.recovery','final.output.recovery'], axis = 1)\n",
    "target_test_rougher = gold_recovery_test[['rougher.output.recovery']]\n",
    "target_test_final = gold_recovery_test[['final.output.recovery']]\n",
    "\n",
    "# Определяем целевой признак и параметры для тествоой выборки\n",
    "features_valid = gold_recovery_valid.drop(gold_recovery_train_out_01, axis = 1)\n",
    "target_valid_rougher = gold_recovery_valid[['rougher.output.recovery']]\n",
    "target_valid_final = gold_recovery_valid[['final.output.recovery']]\n",
    "\n",
    "# Проверка\n",
    "\n",
    "print(features_train.shape)\n",
    "print(target_train_rougher.shape)\n",
    "print(features_test.shape)\n",
    "print(target_test_rougher.shape)\n",
    "print(features_valid.shape)\n",
    "print(target_valid_rougher.shape)"
   ]
  },
  {
   "cell_type": "markdown",
   "metadata": {},
   "source": [
    "### Прописываем sMAPE"
   ]
  },
  {
   "cell_type": "code",
   "execution_count": 162,
   "metadata": {},
   "outputs": [],
   "source": [
    "def sMAPE(recovery_given_rougher, recovery_pred_rougher, recovery_given_final, recovery_pred_final):\n",
    "    def calculate_smape(given_values, pred_values):\n",
    "        return np.mean(abs(given_values - pred_values) / ((abs(given_values) + abs(pred_values)) / 2)) * 100\n",
    "\n",
    "    # Оценка по этапам\n",
    "    smape_rougher = calculate_smape(recovery_given_rougher, recovery_pred_rougher)\n",
    "    smape_final = calculate_smape(recovery_given_final, recovery_pred_final)\n",
    "\n",
    "    # Общая оценка\n",
    "    smape = smape_rougher * 0.25 + smape_final * 0.75\n",
    "    return smape"
   ]
  },
  {
   "cell_type": "markdown",
   "metadata": {},
   "source": [
    "### Модель дерева решений"
   ]
  },
  {
   "cell_type": "code",
   "execution_count": 163,
   "metadata": {},
   "outputs": [
    {
     "name": "stdout",
     "output_type": "stream",
     "text": [
      "sMAPE лучшей модели: 10.132082424678604\n",
      "глубина лучшей модели: 1\n"
     ]
    }
   ],
   "source": [
    "# Модель дерева решений\n",
    "best_model_rougher = None\n",
    "best_model_final = None\n",
    "best_result = 1000\n",
    "best_depth = 0\n",
    "for depth in range(1,6):\n",
    "    \n",
    "    model_rougher = DecisionTreeRegressor(max_depth=depth,random_state=12345) # запуск модели DecisionTreeRegressor с параметром random_state=12345 и max_depth=depth\n",
    "    model_final = DecisionTreeRegressor(max_depth=depth,random_state=12345) # запуск модели DecisionTreeRegressor с параметром random_state=12345 и max_depth=depth\n",
    "\n",
    "    model_rougher.fit(features_train, target_train_rougher) # обучение модели\n",
    "    model_final.fit(features_train, target_train_final) # обучение модели\n",
    "    \n",
    "    predictions_valid_rougher = model_rougher.predict(features_valid) # получение предсказания модели на валидационной выборке\n",
    "    predictions_valid_final = model_final.predict(features_valid) # получение предсказания модели на валидационной выборке\n",
    "    \n",
    "    result = sMAPE(target_valid_rougher.to_numpy(), predictions_valid_rougher, target_valid_final.to_numpy(), predictions_valid_final)\n",
    "\n",
    "    if result < best_result:\n",
    "        best_model_rougher = model_rougher\n",
    "        best_model_final = model_final\n",
    "        best_result = result\n",
    "        best_depth = depth\n",
    "        \n",
    "print('sMAPE лучшей модели:', best_result)\n",
    "print('глубина лучшей модели:', best_depth)\n",
    "        "
   ]
  },
  {
   "cell_type": "markdown",
   "metadata": {},
   "source": [
    "### Модель линейной регрессии"
   ]
  },
  {
   "cell_type": "code",
   "execution_count": 164,
   "metadata": {},
   "outputs": [],
   "source": [
    "model_lineral_regression_rougher = LinearRegression()# запуск модели LinearRegression\n",
    "model_lineral_regression_rougher.fit(features_train, target_train_rougher) # обучение модели \n",
    "predictions_valid_rougher = model_lineral_regression_rougher.predict(features_valid) # получение предсказания модели на валидационной выборке\n"
   ]
  },
  {
   "cell_type": "code",
   "execution_count": 165,
   "metadata": {},
   "outputs": [],
   "source": [
    "model_lineral_regression_final = LinearRegression()# запуск модель LinearRegression\n",
    "model_lineral_regression_final.fit(features_train,target_train_final) # обучение модели\n",
    "predictions_valid_final = model_lineral_regression_final.predict(features_valid) # получание предсказания модели на валидационной выборке\n"
   ]
  },
  {
   "cell_type": "code",
   "execution_count": 166,
   "metadata": {},
   "outputs": [
    {
     "name": "stdout",
     "output_type": "stream",
     "text": [
      "sMAPE: 7.097541730120179\n"
     ]
    }
   ],
   "source": [
    "# Получаем  предсказания модели на валидационной выборке\n",
    "\n",
    "Results = sMAPE(target_valid_rougher.to_numpy(), predictions_valid_rougher, target_valid_final.to_numpy(), predictions_valid_final)\n",
    "\n",
    "print('sMAPE:',Results)"
   ]
  },
  {
   "cell_type": "markdown",
   "metadata": {},
   "source": [
    "### Модель случайного леса"
   ]
  },
  {
   "cell_type": "code",
   "execution_count": 167,
   "metadata": {},
   "outputs": [
    {
     "name": "stdout",
     "output_type": "stream",
     "text": [
      "sMAPE лучшей модели: 10.013217271553527 Количество деревьев: 10 Максимальная глубина: 10\n"
     ]
    }
   ],
   "source": [
    "best_model = None\n",
    "best_result = 10000\n",
    "best_est = 0\n",
    "best_depth = 0\n",
    "for est in range(10, 51, 10):\n",
    "    for depth in range (1, 11):\n",
    "       \n",
    "        model_rougher = RandomForestRegressor(max_depth=depth,n_estimators=est, random_state=12345)# запуск модели RandomForestRegressor с параметрами random_state=12345, n_estimators=est и max_depth=depth\n",
    "        model_final = RandomForestRegressor(max_depth=depth,n_estimators=est, random_state=12345)# запуск моделм RandomForestRegressor с параметрами random_state=12345, n_estimators=est и max_depth=depth\n",
    "        \n",
    "        model_rougher.fit(features_train, target_train_rougher.values.ravel()) # обучение модели\n",
    "        model_final.fit(features_train, target_train_final.values.ravel()) # обучение модели\n",
    "        \n",
    "        predictions_valid_rougher = model_rougher.predict(features_valid) # получение предсказания модели на валидационной выборке\n",
    "        predictions_valid_final = model_final.predict(features_valid) # получение предсказания модели на валидационной выборке\n",
    "        \n",
    "        result = sMAPE(target_valid_rougher.to_numpy(), predictions_valid_rougher, target_valid_final.to_numpy(), predictions_valid_final)\n",
    "      \n",
    "        if result < best_result:\n",
    "            best_model_rougher = model_rougher\n",
    "            best_model_final\n",
    "            best_result = result\n",
    "            best_est = est\n",
    "            best_depth = depth\n",
    "\n",
    "print(\"sMAPE лучшей модели:\", best_result, \"Количество деревьев:\", best_est, \"Максимальная глубина:\", depth)"
   ]
  },
  {
   "cell_type": "markdown",
   "metadata": {},
   "source": [
    "**ВЫВОД:** из выбранных для обучения моделей лучшие результаты sMAPE показала модель линейной регресии. "
   ]
  },
  {
   "cell_type": "markdown",
   "metadata": {},
   "source": [
    "### Проверка лучшей модели на тестовой выборке"
   ]
  },
  {
   "cell_type": "code",
   "execution_count": 168,
   "metadata": {},
   "outputs": [
    {
     "name": "stdout",
     "output_type": "stream",
     "text": [
      "9.524089116169856\n"
     ]
    }
   ],
   "source": [
    "# Тестируем лушую модель\n",
    "predictions_test_rougher = model_lineral_regression_rougher.predict(features_test)\n",
    "predictions_test_final = model_lineral_regression_final.predict(features_test)\n",
    "\n",
    "results = sMAPE(target_test_rougher.to_numpy(), predictions_test_rougher, target_test_final.to_numpy(), predictions_test_final)\n",
    "\n",
    "print(results)"
   ]
  },
  {
   "cell_type": "markdown",
   "metadata": {},
   "source": [
    "**ВЫВОД:** Значение sMAPE < 10%, что свидельствует о высоком качестве прогноза. Лучшая модель - модель линейной регрессии. "
   ]
  },
  {
   "cell_type": "code",
   "execution_count": 169,
   "metadata": {},
   "outputs": [
    {
     "name": "stdout",
     "output_type": "stream",
     "text": [
      "9.27960975109891\n"
     ]
    }
   ],
   "source": [
    "# Дамми модель для сравнения на валидационном наборе\n",
    "dummy_regressor_rougher = DummyRegressor(strategy=\"mean\")\n",
    "dummy_regressor_rougher.fit(features_train, target_train_rougher.values.ravel())\n",
    "dummy_pred_valid_rougher = dummy_regressor_rougher.predict(features_valid)\n",
    "\n",
    "dummy_regressor_final = DummyRegressor(strategy=\"mean\")\n",
    "dummy_regressor_final.fit(features_train, target_train_final.values.ravel())\n",
    "dummy_pred_valid_final = dummy_regressor_final.predict(features_valid)\n",
    "\n",
    "results = sMAPE(target_valid_rougher.to_numpy(), dummy_pred_valid_rougher, target_valid_final.to_numpy(), dummy_pred_valid_final)\n",
    "print(results)"
   ]
  },
  {
   "cell_type": "markdown",
   "metadata": {},
   "source": [
    "**ВЫВОД:** Значение sMAPE < 10%, что свидельствует о высоком качестве прогноза. Лучшая модель - модель линейной регрессии. Различие в sMAPE линейной регрессии и случайной модели (DummyRegressor) составляет 2,5%, чем можно принебречь."
   ]
  },
  {
   "cell_type": "markdown",
   "metadata": {},
   "source": [
    "*Планируемые улучшения:* применение кросс-валидации для снижения sMAPE (лучшая модель < случайной)"
   ]
  }
 ],
 "metadata": {
  "ExecuteTimeLog": [
   {
    "duration": 60,
    "start_time": "2024-11-10T17:13:08.906Z"
   },
   {
    "duration": 1652,
    "start_time": "2024-11-10T17:13:10.867Z"
   },
   {
    "duration": 1283,
    "start_time": "2024-11-10T17:13:13.409Z"
   },
   {
    "duration": 75,
    "start_time": "2024-11-10T17:14:48.265Z"
   },
   {
    "duration": 39,
    "start_time": "2024-11-10T17:14:55.129Z"
   },
   {
    "duration": 16,
    "start_time": "2024-11-10T17:22:11.775Z"
   },
   {
    "duration": 31,
    "start_time": "2024-11-10T17:22:41.215Z"
   },
   {
    "duration": 871,
    "start_time": "2024-11-10T17:23:03.285Z"
   },
   {
    "duration": 379,
    "start_time": "2024-11-10T17:23:06.117Z"
   },
   {
    "duration": 45,
    "start_time": "2024-11-10T17:23:30.479Z"
   },
   {
    "duration": 4,
    "start_time": "2024-11-10T17:23:34.674Z"
   },
   {
    "duration": 41,
    "start_time": "2024-11-10T17:23:37.670Z"
   },
   {
    "duration": 467,
    "start_time": "2024-11-10T17:24:06.054Z"
   },
   {
    "duration": 410,
    "start_time": "2024-11-10T17:25:17.723Z"
   },
   {
    "duration": 11,
    "start_time": "2024-11-10T17:34:01.180Z"
   },
   {
    "duration": 208,
    "start_time": "2024-11-10T17:41:23.315Z"
   },
   {
    "duration": 11,
    "start_time": "2024-11-10T17:42:51.109Z"
   },
   {
    "duration": 10,
    "start_time": "2024-11-10T17:42:55.130Z"
   },
   {
    "duration": 9,
    "start_time": "2024-11-10T17:42:59.884Z"
   },
   {
    "duration": 738,
    "start_time": "2024-11-10T17:43:18.093Z"
   },
   {
    "duration": 1944,
    "start_time": "2024-11-10T17:43:39.151Z"
   },
   {
    "duration": 1836,
    "start_time": "2024-11-10T17:43:52.138Z"
   },
   {
    "duration": 798,
    "start_time": "2024-11-10T17:46:18.483Z"
   },
   {
    "duration": 579,
    "start_time": "2024-11-10T17:47:53.117Z"
   },
   {
    "duration": 590,
    "start_time": "2024-11-10T17:48:15.770Z"
   },
   {
    "duration": 569,
    "start_time": "2024-11-10T17:48:31.107Z"
   },
   {
    "duration": 4,
    "start_time": "2024-11-10T17:48:49.310Z"
   },
   {
    "duration": 4,
    "start_time": "2024-11-10T17:48:51.677Z"
   },
   {
    "duration": 598,
    "start_time": "2024-11-10T17:48:55.970Z"
   },
   {
    "duration": 636,
    "start_time": "2024-11-10T17:49:06.790Z"
   },
   {
    "duration": 511,
    "start_time": "2024-11-10T17:52:44.144Z"
   },
   {
    "duration": 563,
    "start_time": "2024-11-10T17:52:50.130Z"
   },
   {
    "duration": 437,
    "start_time": "2024-11-10T17:53:01.080Z"
   },
   {
    "duration": 609,
    "start_time": "2024-11-10T17:53:05.530Z"
   },
   {
    "duration": 541,
    "start_time": "2024-11-10T17:53:11.979Z"
   },
   {
    "duration": 3,
    "start_time": "2024-11-10T17:53:39.492Z"
   },
   {
    "duration": 77,
    "start_time": "2024-11-10T17:53:42.292Z"
   },
   {
    "duration": 74,
    "start_time": "2024-11-10T17:53:46.611Z"
   },
   {
    "duration": 480,
    "start_time": "2024-11-10T17:53:49.529Z"
   },
   {
    "duration": 530,
    "start_time": "2024-11-10T17:53:58.910Z"
   },
   {
    "duration": 88,
    "start_time": "2024-11-10T17:54:05.671Z"
   },
   {
    "duration": 478,
    "start_time": "2024-11-10T17:54:08.533Z"
   },
   {
    "duration": 77,
    "start_time": "2024-11-10T17:54:22.175Z"
   },
   {
    "duration": 539,
    "start_time": "2024-11-10T17:54:25.263Z"
   },
   {
    "duration": 801,
    "start_time": "2024-11-10T17:54:58.328Z"
   },
   {
    "duration": 531,
    "start_time": "2024-11-10T17:55:09.430Z"
   },
   {
    "duration": 594,
    "start_time": "2024-11-10T17:55:38.130Z"
   },
   {
    "duration": 70,
    "start_time": "2024-11-10T17:55:41.520Z"
   },
   {
    "duration": 494,
    "start_time": "2024-11-10T17:55:44.390Z"
   },
   {
    "duration": 555,
    "start_time": "2024-11-10T17:55:50.053Z"
   },
   {
    "duration": 673,
    "start_time": "2024-11-10T17:56:18.494Z"
   },
   {
    "duration": 71,
    "start_time": "2024-11-10T17:56:22.465Z"
   },
   {
    "duration": 486,
    "start_time": "2024-11-10T17:56:24.248Z"
   },
   {
    "duration": 104,
    "start_time": "2024-11-10T17:56:40.150Z"
   },
   {
    "duration": 596,
    "start_time": "2024-11-10T17:56:43.651Z"
   },
   {
    "duration": 484,
    "start_time": "2024-11-10T17:57:03.692Z"
   },
   {
    "duration": 542,
    "start_time": "2024-11-10T17:59:22.134Z"
   },
   {
    "duration": 612,
    "start_time": "2024-11-10T17:59:37.676Z"
   },
   {
    "duration": 541,
    "start_time": "2024-11-10T18:02:28.010Z"
   },
   {
    "duration": 729,
    "start_time": "2024-11-10T18:02:33.427Z"
   },
   {
    "duration": 2,
    "start_time": "2024-11-10T18:05:12.798Z"
   },
   {
    "duration": 10,
    "start_time": "2024-11-10T18:05:22.797Z"
   },
   {
    "duration": 4,
    "start_time": "2024-11-10T18:05:32.446Z"
   },
   {
    "duration": 6,
    "start_time": "2024-11-10T18:08:08.138Z"
   },
   {
    "duration": 5,
    "start_time": "2024-11-10T18:08:12.102Z"
   },
   {
    "duration": 14,
    "start_time": "2024-11-10T18:08:25.884Z"
   },
   {
    "duration": 11,
    "start_time": "2024-11-10T18:08:29.480Z"
   },
   {
    "duration": 13,
    "start_time": "2024-11-10T18:09:05.696Z"
   },
   {
    "duration": 6,
    "start_time": "2024-11-10T18:09:11.294Z"
   },
   {
    "duration": 6,
    "start_time": "2024-11-10T18:09:27.196Z"
   },
   {
    "duration": 11,
    "start_time": "2024-11-10T18:09:56.284Z"
   },
   {
    "duration": 14,
    "start_time": "2024-11-10T18:10:01.061Z"
   },
   {
    "duration": 5,
    "start_time": "2024-11-10T18:10:04.315Z"
   },
   {
    "duration": 1098,
    "start_time": "2024-11-10T18:13:36.212Z"
   },
   {
    "duration": 15,
    "start_time": "2024-11-10T18:14:39.059Z"
   },
   {
    "duration": 15,
    "start_time": "2024-11-10T18:14:43.668Z"
   },
   {
    "duration": 1117,
    "start_time": "2024-11-10T18:14:48.473Z"
   },
   {
    "duration": 14,
    "start_time": "2024-11-10T18:14:56.030Z"
   },
   {
    "duration": 71,
    "start_time": "2024-11-10T18:15:13.524Z"
   },
   {
    "duration": 1240,
    "start_time": "2024-11-10T18:15:20.630Z"
   },
   {
    "duration": 14,
    "start_time": "2024-11-10T18:15:35.476Z"
   },
   {
    "duration": 5,
    "start_time": "2024-11-10T18:15:52.099Z"
   },
   {
    "duration": 13,
    "start_time": "2024-11-10T18:18:37.226Z"
   },
   {
    "duration": 17,
    "start_time": "2024-11-10T18:19:11.640Z"
   },
   {
    "duration": 16,
    "start_time": "2024-11-10T18:19:17.408Z"
   },
   {
    "duration": 5,
    "start_time": "2024-11-10T18:19:55.432Z"
   },
   {
    "duration": 7,
    "start_time": "2024-11-10T18:19:57.972Z"
   },
   {
    "duration": 11,
    "start_time": "2024-11-10T18:20:01.283Z"
   },
   {
    "duration": 19,
    "start_time": "2024-11-10T18:20:07.177Z"
   },
   {
    "duration": 17,
    "start_time": "2024-11-10T18:20:10.792Z"
   },
   {
    "duration": 13,
    "start_time": "2024-11-10T18:20:45.062Z"
   },
   {
    "duration": 8,
    "start_time": "2024-11-10T18:21:10.558Z"
   },
   {
    "duration": 10,
    "start_time": "2024-11-10T18:21:13.570Z"
   },
   {
    "duration": 16,
    "start_time": "2024-11-10T18:21:25.800Z"
   },
   {
    "duration": 10,
    "start_time": "2024-11-10T18:21:37.702Z"
   },
   {
    "duration": 12,
    "start_time": "2024-11-10T18:22:10.325Z"
   },
   {
    "duration": 123,
    "start_time": "2024-11-10T18:22:57.689Z"
   },
   {
    "duration": 12,
    "start_time": "2024-11-10T18:23:00.434Z"
   },
   {
    "duration": 11,
    "start_time": "2024-11-10T18:23:06.422Z"
   },
   {
    "duration": 9,
    "start_time": "2024-11-10T18:23:16.284Z"
   },
   {
    "duration": 10,
    "start_time": "2024-11-10T18:23:25.559Z"
   },
   {
    "duration": 10,
    "start_time": "2024-11-10T18:23:28.715Z"
   },
   {
    "duration": 11,
    "start_time": "2024-11-10T18:23:32.208Z"
   },
   {
    "duration": 9,
    "start_time": "2024-11-10T18:23:43.561Z"
   },
   {
    "duration": 9,
    "start_time": "2024-11-10T18:24:01.214Z"
   },
   {
    "duration": 11,
    "start_time": "2024-11-10T18:25:30.716Z"
   },
   {
    "duration": 9,
    "start_time": "2024-11-10T18:25:41.297Z"
   },
   {
    "duration": 13,
    "start_time": "2024-11-10T18:36:08.677Z"
   },
   {
    "duration": 12,
    "start_time": "2024-11-10T18:36:22.083Z"
   },
   {
    "duration": 8,
    "start_time": "2024-11-10T18:37:41.577Z"
   },
   {
    "duration": 581,
    "start_time": "2024-11-10T18:38:03.262Z"
   },
   {
    "duration": 74,
    "start_time": "2024-11-10T18:38:31.965Z"
   },
   {
    "duration": 8,
    "start_time": "2024-11-10T18:38:37.151Z"
   },
   {
    "duration": 29,
    "start_time": "2024-11-10T18:39:11.056Z"
   },
   {
    "duration": 113,
    "start_time": "2024-11-10T18:39:49.409Z"
   },
   {
    "duration": 11,
    "start_time": "2024-11-10T18:40:39.056Z"
   },
   {
    "duration": 32,
    "start_time": "2024-11-10T18:41:06.283Z"
   },
   {
    "duration": 111,
    "start_time": "2024-11-10T18:41:31.199Z"
   },
   {
    "duration": 34,
    "start_time": "2024-11-10T18:46:52.352Z"
   },
   {
    "duration": 26,
    "start_time": "2024-11-10T18:47:17.117Z"
   },
   {
    "duration": 71,
    "start_time": "2024-11-10T18:49:39.902Z"
   },
   {
    "duration": 103,
    "start_time": "2024-11-10T18:49:49.441Z"
   },
   {
    "duration": 107,
    "start_time": "2024-11-10T18:50:00.425Z"
   },
   {
    "duration": 76,
    "start_time": "2024-11-10T18:50:27.564Z"
   },
   {
    "duration": 79,
    "start_time": "2024-11-10T18:50:32.891Z"
   },
   {
    "duration": 84,
    "start_time": "2024-11-10T18:50:43.842Z"
   },
   {
    "duration": 92,
    "start_time": "2024-11-10T18:51:01.505Z"
   },
   {
    "duration": 27,
    "start_time": "2024-11-10T18:52:18.335Z"
   },
   {
    "duration": 4,
    "start_time": "2024-11-10T18:52:30.345Z"
   },
   {
    "duration": 376,
    "start_time": "2024-11-10T18:52:30.351Z"
   },
   {
    "duration": 28,
    "start_time": "2024-11-10T18:52:30.729Z"
   },
   {
    "duration": 20,
    "start_time": "2024-11-10T18:52:30.759Z"
   },
   {
    "duration": 110,
    "start_time": "2024-11-10T18:52:30.781Z"
   },
   {
    "duration": 4,
    "start_time": "2024-11-10T18:52:30.893Z"
   },
   {
    "duration": 58,
    "start_time": "2024-11-10T18:52:30.899Z"
   },
   {
    "duration": 25,
    "start_time": "2024-11-10T18:53:17.384Z"
   },
   {
    "duration": 24,
    "start_time": "2024-11-10T18:54:25.600Z"
   },
   {
    "duration": 9,
    "start_time": "2024-11-10T18:54:38.489Z"
   },
   {
    "duration": 9,
    "start_time": "2024-11-10T18:54:43.391Z"
   },
   {
    "duration": 9,
    "start_time": "2024-11-10T18:55:09.172Z"
   },
   {
    "duration": 77,
    "start_time": "2024-11-10T18:58:28.400Z"
   },
   {
    "duration": 24,
    "start_time": "2024-11-10T18:58:32.997Z"
   },
   {
    "duration": 8,
    "start_time": "2024-11-10T18:58:45.865Z"
   },
   {
    "duration": 9,
    "start_time": "2024-11-10T18:59:42.504Z"
   },
   {
    "duration": 6,
    "start_time": "2024-11-10T18:59:49.502Z"
   },
   {
    "duration": 9,
    "start_time": "2024-11-10T19:00:05.245Z"
   },
   {
    "duration": 8,
    "start_time": "2024-11-10T19:01:05.506Z"
   },
   {
    "duration": 12,
    "start_time": "2024-11-10T19:01:42.674Z"
   },
   {
    "duration": 11,
    "start_time": "2024-11-10T19:03:34.673Z"
   },
   {
    "duration": 23,
    "start_time": "2024-11-10T19:03:38.389Z"
   },
   {
    "duration": 11,
    "start_time": "2024-11-10T19:04:56.748Z"
   },
   {
    "duration": 8,
    "start_time": "2024-11-10T19:05:26.223Z"
   },
   {
    "duration": 1231,
    "start_time": "2024-11-10T19:06:17.573Z"
   },
   {
    "duration": 12,
    "start_time": "2024-11-10T19:06:22.289Z"
   },
   {
    "duration": 1460,
    "start_time": "2024-11-10T19:06:41.015Z"
   },
   {
    "duration": 9,
    "start_time": "2024-11-10T19:06:47.733Z"
   },
   {
    "duration": 41,
    "start_time": "2024-11-10T19:07:17.607Z"
   },
   {
    "duration": 43,
    "start_time": "2024-11-10T19:07:55.503Z"
   },
   {
    "duration": 71,
    "start_time": "2024-11-10T19:08:20.429Z"
   },
   {
    "duration": 19,
    "start_time": "2024-11-10T19:08:32.404Z"
   },
   {
    "duration": 7,
    "start_time": "2024-11-10T19:08:45.955Z"
   },
   {
    "duration": 88,
    "start_time": "2024-11-10T19:09:01.316Z"
   },
   {
    "duration": 7,
    "start_time": "2024-11-10T19:09:05.525Z"
   },
   {
    "duration": 13,
    "start_time": "2024-11-10T19:09:17.176Z"
   },
   {
    "duration": 14,
    "start_time": "2024-11-10T19:09:43.260Z"
   },
   {
    "duration": 56,
    "start_time": "2024-11-10T19:09:54.657Z"
   },
   {
    "duration": 9,
    "start_time": "2024-11-10T19:10:04.805Z"
   },
   {
    "duration": 11,
    "start_time": "2024-11-10T19:10:29.540Z"
   },
   {
    "duration": 16,
    "start_time": "2024-11-10T19:11:00.440Z"
   },
   {
    "duration": 10,
    "start_time": "2024-11-10T19:11:05.579Z"
   },
   {
    "duration": 10,
    "start_time": "2024-11-10T19:11:13.640Z"
   },
   {
    "duration": 12,
    "start_time": "2024-11-10T19:11:26.471Z"
   },
   {
    "duration": 14,
    "start_time": "2024-11-10T19:11:50.214Z"
   },
   {
    "duration": 11,
    "start_time": "2024-11-10T19:12:05.087Z"
   },
   {
    "duration": 4,
    "start_time": "2024-11-10T19:12:28.621Z"
   },
   {
    "duration": 329,
    "start_time": "2024-11-10T19:12:28.627Z"
   },
   {
    "duration": 29,
    "start_time": "2024-11-10T19:12:28.958Z"
   },
   {
    "duration": 35,
    "start_time": "2024-11-10T19:12:28.989Z"
   },
   {
    "duration": 98,
    "start_time": "2024-11-10T19:12:29.026Z"
   },
   {
    "duration": 2,
    "start_time": "2024-11-10T19:12:29.126Z"
   },
   {
    "duration": 16,
    "start_time": "2024-11-10T19:12:29.129Z"
   },
   {
    "duration": 30,
    "start_time": "2024-11-10T19:12:29.147Z"
   },
   {
    "duration": 11,
    "start_time": "2024-11-10T19:12:29.178Z"
   },
   {
    "duration": 14,
    "start_time": "2024-11-10T19:14:55.677Z"
   },
   {
    "duration": 13,
    "start_time": "2024-11-10T19:15:03.135Z"
   },
   {
    "duration": 4,
    "start_time": "2024-11-10T19:15:17.664Z"
   },
   {
    "duration": 488,
    "start_time": "2024-11-10T19:15:17.671Z"
   },
   {
    "duration": 31,
    "start_time": "2024-11-10T19:15:18.161Z"
   },
   {
    "duration": 38,
    "start_time": "2024-11-10T19:15:18.194Z"
   },
   {
    "duration": 127,
    "start_time": "2024-11-10T19:15:18.234Z"
   },
   {
    "duration": 3,
    "start_time": "2024-11-10T19:15:18.363Z"
   },
   {
    "duration": 14,
    "start_time": "2024-11-10T19:15:18.368Z"
   },
   {
    "duration": 96,
    "start_time": "2024-11-10T19:15:18.384Z"
   },
   {
    "duration": 12,
    "start_time": "2024-11-10T19:15:18.482Z"
   },
   {
    "duration": 17,
    "start_time": "2024-11-10T19:16:56.419Z"
   },
   {
    "duration": 1251,
    "start_time": "2024-11-10T19:17:10.204Z"
   },
   {
    "duration": 1215,
    "start_time": "2024-11-10T19:21:35.261Z"
   },
   {
    "duration": 1175,
    "start_time": "2024-11-10T19:21:45.746Z"
   },
   {
    "duration": 5,
    "start_time": "2024-11-10T19:22:21.466Z"
   },
   {
    "duration": 349,
    "start_time": "2024-11-10T19:22:21.472Z"
   },
   {
    "duration": 40,
    "start_time": "2024-11-10T19:22:21.823Z"
   },
   {
    "duration": 21,
    "start_time": "2024-11-10T19:22:21.865Z"
   },
   {
    "duration": 108,
    "start_time": "2024-11-10T19:22:21.889Z"
   },
   {
    "duration": 2,
    "start_time": "2024-11-10T19:22:21.999Z"
   },
   {
    "duration": 1296,
    "start_time": "2024-11-10T19:22:22.003Z"
   },
   {
    "duration": 0,
    "start_time": "2024-11-10T19:22:23.302Z"
   },
   {
    "duration": 0,
    "start_time": "2024-11-10T19:22:23.303Z"
   },
   {
    "duration": 1387,
    "start_time": "2024-11-10T19:23:01.232Z"
   },
   {
    "duration": 1225,
    "start_time": "2024-11-10T19:23:44.362Z"
   },
   {
    "duration": 1207,
    "start_time": "2024-11-10T19:23:54.840Z"
   },
   {
    "duration": 1439,
    "start_time": "2024-11-10T19:25:25.998Z"
   },
   {
    "duration": 1158,
    "start_time": "2024-11-10T19:25:42.199Z"
   },
   {
    "duration": 1227,
    "start_time": "2024-11-10T19:25:54.737Z"
   },
   {
    "duration": 1246,
    "start_time": "2024-11-10T19:26:47.168Z"
   },
   {
    "duration": 19,
    "start_time": "2024-11-10T19:27:34.876Z"
   },
   {
    "duration": 5,
    "start_time": "2024-11-10T19:27:45.000Z"
   },
   {
    "duration": 5,
    "start_time": "2024-11-10T19:27:57.979Z"
   },
   {
    "duration": 5,
    "start_time": "2024-11-10T19:28:05.473Z"
   },
   {
    "duration": 1130,
    "start_time": "2024-11-10T19:28:25.491Z"
   },
   {
    "duration": 4,
    "start_time": "2024-11-10T19:28:36.407Z"
   },
   {
    "duration": 5,
    "start_time": "2024-11-10T19:29:43.827Z"
   },
   {
    "duration": 344,
    "start_time": "2024-11-10T19:29:43.836Z"
   },
   {
    "duration": 41,
    "start_time": "2024-11-10T19:29:44.182Z"
   },
   {
    "duration": 29,
    "start_time": "2024-11-10T19:29:44.225Z"
   },
   {
    "duration": 121,
    "start_time": "2024-11-10T19:29:44.256Z"
   },
   {
    "duration": 3,
    "start_time": "2024-11-10T19:29:44.379Z"
   },
   {
    "duration": 8,
    "start_time": "2024-11-10T19:29:44.384Z"
   },
   {
    "duration": 45,
    "start_time": "2024-11-10T19:29:44.394Z"
   },
   {
    "duration": 13,
    "start_time": "2024-11-10T19:29:44.442Z"
   },
   {
    "duration": 6,
    "start_time": "2024-11-10T19:33:28.143Z"
   },
   {
    "duration": 4,
    "start_time": "2024-11-10T19:33:34.698Z"
   },
   {
    "duration": 359,
    "start_time": "2024-11-10T19:33:34.704Z"
   },
   {
    "duration": 36,
    "start_time": "2024-11-10T19:33:35.066Z"
   },
   {
    "duration": 41,
    "start_time": "2024-11-10T19:33:35.105Z"
   },
   {
    "duration": 116,
    "start_time": "2024-11-10T19:33:35.148Z"
   },
   {
    "duration": 3,
    "start_time": "2024-11-10T19:33:35.266Z"
   },
   {
    "duration": 32,
    "start_time": "2024-11-10T19:33:35.270Z"
   },
   {
    "duration": 34,
    "start_time": "2024-11-10T19:33:35.303Z"
   },
   {
    "duration": 16,
    "start_time": "2024-11-10T19:33:35.338Z"
   },
   {
    "duration": 1561,
    "start_time": "2024-11-13T04:51:38.036Z"
   },
   {
    "duration": 1386,
    "start_time": "2024-11-13T04:51:39.599Z"
   },
   {
    "duration": 31,
    "start_time": "2024-11-13T04:51:40.987Z"
   },
   {
    "duration": 18,
    "start_time": "2024-11-13T04:51:41.020Z"
   },
   {
    "duration": 234,
    "start_time": "2024-11-13T04:51:41.039Z"
   },
   {
    "duration": 2,
    "start_time": "2024-11-13T04:51:41.275Z"
   },
   {
    "duration": 10,
    "start_time": "2024-11-13T04:51:41.279Z"
   },
   {
    "duration": 36,
    "start_time": "2024-11-13T04:51:41.291Z"
   },
   {
    "duration": 119,
    "start_time": "2024-11-13T04:51:41.329Z"
   },
   {
    "duration": 2,
    "start_time": "2024-11-13T05:00:48.097Z"
   },
   {
    "duration": 21,
    "start_time": "2024-11-13T05:02:35.395Z"
   },
   {
    "duration": 3,
    "start_time": "2024-11-13T05:02:41.247Z"
   },
   {
    "duration": 323,
    "start_time": "2024-11-13T05:02:41.252Z"
   },
   {
    "duration": 25,
    "start_time": "2024-11-13T05:02:41.577Z"
   },
   {
    "duration": 51,
    "start_time": "2024-11-13T05:02:41.604Z"
   },
   {
    "duration": 149,
    "start_time": "2024-11-13T05:02:41.657Z"
   },
   {
    "duration": 2,
    "start_time": "2024-11-13T05:02:41.808Z"
   },
   {
    "duration": 6,
    "start_time": "2024-11-13T05:02:41.812Z"
   },
   {
    "duration": 3,
    "start_time": "2024-11-13T05:02:41.819Z"
   },
   {
    "duration": 22,
    "start_time": "2024-11-13T05:02:41.823Z"
   },
   {
    "duration": 13,
    "start_time": "2024-11-13T05:02:41.846Z"
   },
   {
    "duration": 69,
    "start_time": "2024-11-13T05:06:27.929Z"
   },
   {
    "duration": 13,
    "start_time": "2024-11-13T05:06:40.700Z"
   },
   {
    "duration": 11,
    "start_time": "2024-11-13T05:12:32.533Z"
   },
   {
    "duration": 9,
    "start_time": "2024-11-13T05:12:48.701Z"
   },
   {
    "duration": 10,
    "start_time": "2024-11-13T05:14:50.826Z"
   },
   {
    "duration": 12,
    "start_time": "2024-11-13T05:15:21.040Z"
   },
   {
    "duration": 4,
    "start_time": "2024-11-13T05:17:32.486Z"
   },
   {
    "duration": 4,
    "start_time": "2024-11-13T05:17:34.891Z"
   },
   {
    "duration": 304,
    "start_time": "2024-11-13T05:17:34.896Z"
   },
   {
    "duration": 35,
    "start_time": "2024-11-13T05:17:35.202Z"
   },
   {
    "duration": 16,
    "start_time": "2024-11-13T05:17:35.239Z"
   },
   {
    "duration": 87,
    "start_time": "2024-11-13T05:17:35.257Z"
   },
   {
    "duration": 3,
    "start_time": "2024-11-13T05:17:35.345Z"
   },
   {
    "duration": 21,
    "start_time": "2024-11-13T05:17:35.349Z"
   },
   {
    "duration": 29,
    "start_time": "2024-11-13T05:17:35.371Z"
   },
   {
    "duration": 11,
    "start_time": "2024-11-13T05:17:35.402Z"
   },
   {
    "duration": 14,
    "start_time": "2024-11-13T05:17:35.414Z"
   },
   {
    "duration": 7,
    "start_time": "2024-11-13T05:18:18.482Z"
   },
   {
    "duration": 51,
    "start_time": "2024-11-13T05:24:26.040Z"
   },
   {
    "duration": 48,
    "start_time": "2024-11-13T05:24:31.618Z"
   },
   {
    "duration": 4,
    "start_time": "2024-11-13T05:27:12.784Z"
   },
   {
    "duration": 311,
    "start_time": "2024-11-13T05:27:12.790Z"
   },
   {
    "duration": 33,
    "start_time": "2024-11-13T05:27:13.102Z"
   },
   {
    "duration": 17,
    "start_time": "2024-11-13T05:27:13.137Z"
   },
   {
    "duration": 90,
    "start_time": "2024-11-13T05:27:13.156Z"
   },
   {
    "duration": 3,
    "start_time": "2024-11-13T05:27:13.247Z"
   },
   {
    "duration": 7,
    "start_time": "2024-11-13T05:27:13.251Z"
   },
   {
    "duration": 6,
    "start_time": "2024-11-13T05:27:13.260Z"
   },
   {
    "duration": 24,
    "start_time": "2024-11-13T05:27:13.267Z"
   },
   {
    "duration": 29,
    "start_time": "2024-11-13T05:27:13.292Z"
   },
   {
    "duration": 7,
    "start_time": "2024-11-13T05:27:13.322Z"
   },
   {
    "duration": 2,
    "start_time": "2024-11-13T05:43:47.267Z"
   },
   {
    "duration": 401,
    "start_time": "2024-11-13T05:50:50.584Z"
   },
   {
    "duration": 449,
    "start_time": "2024-11-13T05:50:57.420Z"
   },
   {
    "duration": 530,
    "start_time": "2024-11-13T05:51:27.918Z"
   },
   {
    "duration": 463,
    "start_time": "2024-11-13T05:51:56.038Z"
   },
   {
    "duration": 432,
    "start_time": "2024-11-13T05:52:04.836Z"
   },
   {
    "duration": 430,
    "start_time": "2024-11-13T05:55:14.059Z"
   },
   {
    "duration": 569,
    "start_time": "2024-11-13T05:56:15.933Z"
   },
   {
    "duration": 426,
    "start_time": "2024-11-13T05:56:23.265Z"
   },
   {
    "duration": 455,
    "start_time": "2024-11-13T05:56:26.960Z"
   },
   {
    "duration": 422,
    "start_time": "2024-11-13T05:56:34.815Z"
   },
   {
    "duration": 524,
    "start_time": "2024-11-13T05:56:46.705Z"
   },
   {
    "duration": 63,
    "start_time": "2024-11-13T05:59:25.530Z"
   },
   {
    "duration": 287,
    "start_time": "2024-11-13T05:59:33.154Z"
   },
   {
    "duration": 423,
    "start_time": "2024-11-13T06:00:12.662Z"
   },
   {
    "duration": 392,
    "start_time": "2024-11-13T06:00:59.751Z"
   },
   {
    "duration": 523,
    "start_time": "2024-11-13T06:02:30.689Z"
   },
   {
    "duration": 4,
    "start_time": "2024-11-13T06:03:11.965Z"
   },
   {
    "duration": 320,
    "start_time": "2024-11-13T06:03:11.971Z"
   },
   {
    "duration": 36,
    "start_time": "2024-11-13T06:03:12.292Z"
   },
   {
    "duration": 19,
    "start_time": "2024-11-13T06:03:12.329Z"
   },
   {
    "duration": 91,
    "start_time": "2024-11-13T06:03:12.350Z"
   },
   {
    "duration": 2,
    "start_time": "2024-11-13T06:03:12.442Z"
   },
   {
    "duration": 7,
    "start_time": "2024-11-13T06:03:12.446Z"
   },
   {
    "duration": 20,
    "start_time": "2024-11-13T06:03:12.454Z"
   },
   {
    "duration": 21,
    "start_time": "2024-11-13T06:03:12.476Z"
   },
   {
    "duration": 13,
    "start_time": "2024-11-13T06:03:12.499Z"
   },
   {
    "duration": 465,
    "start_time": "2024-11-13T06:03:12.521Z"
   },
   {
    "duration": 415,
    "start_time": "2024-11-13T06:03:12.988Z"
   },
   {
    "duration": 9,
    "start_time": "2024-11-13T06:04:09.445Z"
   },
   {
    "duration": 12,
    "start_time": "2024-11-13T06:04:16.078Z"
   },
   {
    "duration": 12,
    "start_time": "2024-11-13T06:04:23.040Z"
   },
   {
    "duration": 11,
    "start_time": "2024-11-13T06:04:38.385Z"
   },
   {
    "duration": 11,
    "start_time": "2024-11-13T06:04:48.672Z"
   },
   {
    "duration": 506,
    "start_time": "2024-11-13T06:05:31.592Z"
   },
   {
    "duration": 1460,
    "start_time": "2024-11-13T18:29:13.522Z"
   },
   {
    "duration": 439,
    "start_time": "2024-11-13T18:29:14.984Z"
   },
   {
    "duration": 26,
    "start_time": "2024-11-13T18:29:15.424Z"
   },
   {
    "duration": 16,
    "start_time": "2024-11-13T18:29:15.452Z"
   },
   {
    "duration": 395,
    "start_time": "2024-11-13T18:29:15.470Z"
   },
   {
    "duration": 3,
    "start_time": "2024-11-13T18:29:15.866Z"
   },
   {
    "duration": 6,
    "start_time": "2024-11-13T18:29:15.870Z"
   },
   {
    "duration": 4,
    "start_time": "2024-11-13T18:29:15.877Z"
   },
   {
    "duration": 28,
    "start_time": "2024-11-13T18:29:15.882Z"
   },
   {
    "duration": 11,
    "start_time": "2024-11-13T18:29:15.911Z"
   },
   {
    "duration": 448,
    "start_time": "2024-11-13T18:29:15.923Z"
   },
   {
    "duration": 340,
    "start_time": "2024-11-13T18:29:16.372Z"
   },
   {
    "duration": 8,
    "start_time": "2024-11-13T18:29:16.714Z"
   },
   {
    "duration": 375,
    "start_time": "2024-11-13T18:29:28.610Z"
   },
   {
    "duration": 386,
    "start_time": "2024-11-13T18:29:28.987Z"
   },
   {
    "duration": 9,
    "start_time": "2024-11-13T18:29:29.374Z"
   },
   {
    "duration": 107,
    "start_time": "2024-11-13T18:33:20.390Z"
   },
   {
    "duration": 20,
    "start_time": "2024-11-13T18:33:29.083Z"
   },
   {
    "duration": 35,
    "start_time": "2024-11-13T18:33:38.105Z"
   },
   {
    "duration": 8,
    "start_time": "2024-11-13T18:33:47.289Z"
   },
   {
    "duration": 443,
    "start_time": "2024-11-13T18:35:30.685Z"
   },
   {
    "duration": 8,
    "start_time": "2024-11-13T18:40:00.949Z"
   },
   {
    "duration": 8,
    "start_time": "2024-11-13T18:40:25.092Z"
   },
   {
    "duration": 8,
    "start_time": "2024-11-13T18:41:30.713Z"
   },
   {
    "duration": 11,
    "start_time": "2024-11-13T18:44:37.953Z"
   },
   {
    "duration": 3,
    "start_time": "2024-11-13T18:44:45.614Z"
   },
   {
    "duration": 274,
    "start_time": "2024-11-13T18:44:45.619Z"
   },
   {
    "duration": 30,
    "start_time": "2024-11-13T18:44:45.895Z"
   },
   {
    "duration": 18,
    "start_time": "2024-11-13T18:44:45.926Z"
   },
   {
    "duration": 80,
    "start_time": "2024-11-13T18:44:45.947Z"
   },
   {
    "duration": 2,
    "start_time": "2024-11-13T18:44:46.029Z"
   },
   {
    "duration": 10,
    "start_time": "2024-11-13T18:44:46.032Z"
   },
   {
    "duration": 2,
    "start_time": "2024-11-13T18:44:46.043Z"
   },
   {
    "duration": 21,
    "start_time": "2024-11-13T18:44:46.047Z"
   },
   {
    "duration": 12,
    "start_time": "2024-11-13T18:44:46.069Z"
   },
   {
    "duration": 381,
    "start_time": "2024-11-13T18:44:46.082Z"
   },
   {
    "duration": 7,
    "start_time": "2024-11-13T18:44:46.465Z"
   },
   {
    "duration": 10,
    "start_time": "2024-11-13T18:44:46.474Z"
   },
   {
    "duration": 379,
    "start_time": "2024-11-13T18:44:46.486Z"
   },
   {
    "duration": 10,
    "start_time": "2024-11-13T18:44:46.867Z"
   },
   {
    "duration": 7,
    "start_time": "2024-11-13T18:46:10.622Z"
   },
   {
    "duration": 3,
    "start_time": "2024-11-13T18:46:25.682Z"
   },
   {
    "duration": 272,
    "start_time": "2024-11-13T18:46:25.687Z"
   },
   {
    "duration": 23,
    "start_time": "2024-11-13T18:46:25.961Z"
   },
   {
    "duration": 31,
    "start_time": "2024-11-13T18:46:25.986Z"
   },
   {
    "duration": 82,
    "start_time": "2024-11-13T18:46:26.019Z"
   },
   {
    "duration": 2,
    "start_time": "2024-11-13T18:46:26.102Z"
   },
   {
    "duration": 9,
    "start_time": "2024-11-13T18:46:26.106Z"
   },
   {
    "duration": 3,
    "start_time": "2024-11-13T18:46:26.116Z"
   },
   {
    "duration": 19,
    "start_time": "2024-11-13T18:46:26.120Z"
   },
   {
    "duration": 11,
    "start_time": "2024-11-13T18:46:26.140Z"
   },
   {
    "duration": 485,
    "start_time": "2024-11-13T18:46:26.152Z"
   },
   {
    "duration": 8,
    "start_time": "2024-11-13T18:46:26.638Z"
   },
   {
    "duration": 14,
    "start_time": "2024-11-13T18:46:26.649Z"
   },
   {
    "duration": 7,
    "start_time": "2024-11-13T18:46:26.664Z"
   },
   {
    "duration": 360,
    "start_time": "2024-11-13T18:46:26.672Z"
   },
   {
    "duration": 11,
    "start_time": "2024-11-13T18:46:27.034Z"
   },
   {
    "duration": 49,
    "start_time": "2024-11-14T16:26:53.709Z"
   },
   {
    "duration": 1512,
    "start_time": "2024-11-14T16:27:00.670Z"
   },
   {
    "duration": 1419,
    "start_time": "2024-11-14T16:27:02.184Z"
   },
   {
    "duration": 28,
    "start_time": "2024-11-14T16:27:03.605Z"
   },
   {
    "duration": 19,
    "start_time": "2024-11-14T16:27:03.635Z"
   },
   {
    "duration": 199,
    "start_time": "2024-11-14T16:27:03.656Z"
   },
   {
    "duration": 2,
    "start_time": "2024-11-14T16:27:03.857Z"
   },
   {
    "duration": 12,
    "start_time": "2024-11-14T16:27:03.861Z"
   },
   {
    "duration": 5,
    "start_time": "2024-11-14T16:27:03.874Z"
   },
   {
    "duration": 24,
    "start_time": "2024-11-14T16:27:03.880Z"
   },
   {
    "duration": 12,
    "start_time": "2024-11-14T16:27:03.905Z"
   },
   {
    "duration": 515,
    "start_time": "2024-11-14T16:27:03.918Z"
   },
   {
    "duration": 17,
    "start_time": "2024-11-14T16:27:04.435Z"
   },
   {
    "duration": 23,
    "start_time": "2024-11-14T16:27:04.453Z"
   },
   {
    "duration": 7,
    "start_time": "2024-11-14T16:27:04.479Z"
   },
   {
    "duration": 428,
    "start_time": "2024-11-14T16:27:04.488Z"
   },
   {
    "duration": 378,
    "start_time": "2024-11-14T16:27:04.918Z"
   },
   {
    "duration": 9,
    "start_time": "2024-11-14T16:27:05.298Z"
   },
   {
    "duration": 59,
    "start_time": "2024-11-14T16:41:31.160Z"
   },
   {
    "duration": 410,
    "start_time": "2024-11-14T16:49:15.128Z"
   },
   {
    "duration": 542,
    "start_time": "2024-11-14T16:49:51.760Z"
   },
   {
    "duration": 50,
    "start_time": "2024-11-14T16:53:00.357Z"
   },
   {
    "duration": 57,
    "start_time": "2024-11-14T16:53:06.837Z"
   },
   {
    "duration": 46,
    "start_time": "2024-11-14T16:53:13.009Z"
   },
   {
    "duration": 1665,
    "start_time": "2024-11-16T11:18:16.568Z"
   },
   {
    "duration": 502,
    "start_time": "2024-11-16T11:18:18.235Z"
   },
   {
    "duration": 33,
    "start_time": "2024-11-16T11:18:18.738Z"
   },
   {
    "duration": 19,
    "start_time": "2024-11-16T11:18:18.772Z"
   },
   {
    "duration": 426,
    "start_time": "2024-11-16T11:18:18.793Z"
   },
   {
    "duration": 2,
    "start_time": "2024-11-16T11:18:19.221Z"
   },
   {
    "duration": 8,
    "start_time": "2024-11-16T11:18:19.225Z"
   },
   {
    "duration": 2,
    "start_time": "2024-11-16T11:18:19.234Z"
   },
   {
    "duration": 33,
    "start_time": "2024-11-16T11:18:19.238Z"
   },
   {
    "duration": 13,
    "start_time": "2024-11-16T11:18:19.272Z"
   },
   {
    "duration": 646,
    "start_time": "2024-11-16T11:18:19.287Z"
   },
   {
    "duration": 11,
    "start_time": "2024-11-16T11:18:19.934Z"
   },
   {
    "duration": 30,
    "start_time": "2024-11-16T11:18:19.947Z"
   },
   {
    "duration": 11,
    "start_time": "2024-11-16T11:18:19.981Z"
   },
   {
    "duration": 520,
    "start_time": "2024-11-16T11:18:20.017Z"
   },
   {
    "duration": 477,
    "start_time": "2024-11-16T11:18:20.539Z"
   },
   {
    "duration": 434,
    "start_time": "2024-11-16T11:18:21.018Z"
   },
   {
    "duration": 11,
    "start_time": "2024-11-16T11:18:21.454Z"
   },
   {
    "duration": 563,
    "start_time": "2024-11-16T11:18:21.466Z"
   },
   {
    "duration": 2,
    "start_time": "2024-11-16T11:18:22.031Z"
   },
   {
    "duration": 7,
    "start_time": "2024-11-16T11:18:22.035Z"
   },
   {
    "duration": 6,
    "start_time": "2024-11-16T11:18:22.044Z"
   },
   {
    "duration": 123,
    "start_time": "2024-11-16T11:25:23.404Z"
   },
   {
    "duration": 7,
    "start_time": "2024-11-16T11:25:47.716Z"
   },
   {
    "duration": 18,
    "start_time": "2024-11-16T11:27:25.276Z"
   },
   {
    "duration": 5,
    "start_time": "2024-11-16T11:27:42.019Z"
   },
   {
    "duration": 7,
    "start_time": "2024-11-16T11:28:50.220Z"
   },
   {
    "duration": 5,
    "start_time": "2024-11-16T11:30:00.105Z"
   },
   {
    "duration": 300,
    "start_time": "2024-11-16T11:35:46.540Z"
   },
   {
    "duration": 6,
    "start_time": "2024-11-16T11:35:56.131Z"
   },
   {
    "duration": 13,
    "start_time": "2024-11-16T11:37:57.416Z"
   },
   {
    "duration": 6,
    "start_time": "2024-11-16T11:38:00.779Z"
   },
   {
    "duration": 464,
    "start_time": "2024-11-16T11:38:02.857Z"
   },
   {
    "duration": 73,
    "start_time": "2024-11-16T11:38:28.385Z"
   },
   {
    "duration": 591,
    "start_time": "2024-11-16T11:38:32.457Z"
   },
   {
    "duration": 1516,
    "start_time": "2024-11-17T06:40:27.660Z"
   },
   {
    "duration": 1368,
    "start_time": "2024-11-17T06:40:29.178Z"
   },
   {
    "duration": 30,
    "start_time": "2024-11-17T06:40:30.548Z"
   },
   {
    "duration": 19,
    "start_time": "2024-11-17T06:40:30.579Z"
   },
   {
    "duration": 195,
    "start_time": "2024-11-17T06:40:30.600Z"
   },
   {
    "duration": 3,
    "start_time": "2024-11-17T06:40:30.796Z"
   },
   {
    "duration": 41,
    "start_time": "2024-11-17T06:40:30.800Z"
   },
   {
    "duration": 39,
    "start_time": "2024-11-17T06:40:30.842Z"
   },
   {
    "duration": 50,
    "start_time": "2024-11-17T06:40:30.883Z"
   },
   {
    "duration": 13,
    "start_time": "2024-11-17T06:40:30.934Z"
   },
   {
    "duration": 506,
    "start_time": "2024-11-17T06:40:30.949Z"
   },
   {
    "duration": 8,
    "start_time": "2024-11-17T06:40:31.456Z"
   },
   {
    "duration": 29,
    "start_time": "2024-11-17T06:40:31.465Z"
   },
   {
    "duration": 7,
    "start_time": "2024-11-17T06:40:31.497Z"
   },
   {
    "duration": 432,
    "start_time": "2024-11-17T06:40:31.505Z"
   },
   {
    "duration": 440,
    "start_time": "2024-11-17T06:40:31.940Z"
   },
   {
    "duration": 394,
    "start_time": "2024-11-17T06:40:32.381Z"
   },
   {
    "duration": 10,
    "start_time": "2024-11-17T06:40:32.776Z"
   },
   {
    "duration": 507,
    "start_time": "2024-11-17T06:40:32.787Z"
   },
   {
    "duration": 7,
    "start_time": "2024-11-17T06:40:33.296Z"
   },
   {
    "duration": 18,
    "start_time": "2024-11-17T06:40:33.305Z"
   },
   {
    "duration": 11,
    "start_time": "2024-11-17T06:40:33.324Z"
   },
   {
    "duration": 512,
    "start_time": "2024-11-17T06:40:33.336Z"
   },
   {
    "duration": 514,
    "start_time": "2024-11-17T06:42:13.214Z"
   },
   {
    "duration": 907,
    "start_time": "2024-11-17T06:45:44.746Z"
   },
   {
    "duration": 5,
    "start_time": "2024-11-17T06:46:06.353Z"
   },
   {
    "duration": 6,
    "start_time": "2024-11-17T06:46:15.201Z"
   },
   {
    "duration": 5,
    "start_time": "2024-11-17T06:46:21.960Z"
   },
   {
    "duration": 5,
    "start_time": "2024-11-17T06:46:42.538Z"
   },
   {
    "duration": 5,
    "start_time": "2024-11-17T06:46:47.321Z"
   },
   {
    "duration": 5,
    "start_time": "2024-11-17T06:46:49.719Z"
   },
   {
    "duration": 6,
    "start_time": "2024-11-17T06:46:53.518Z"
   },
   {
    "duration": 788,
    "start_time": "2024-11-17T06:59:48.423Z"
   },
   {
    "duration": 801,
    "start_time": "2024-11-17T07:21:06.034Z"
   },
   {
    "duration": 814,
    "start_time": "2024-11-17T07:21:30.623Z"
   },
   {
    "duration": 4,
    "start_time": "2024-11-17T07:21:35.592Z"
   },
   {
    "duration": 324,
    "start_time": "2024-11-17T07:21:35.598Z"
   },
   {
    "duration": 26,
    "start_time": "2024-11-17T07:21:35.923Z"
   },
   {
    "duration": 19,
    "start_time": "2024-11-17T07:21:35.951Z"
   },
   {
    "duration": 96,
    "start_time": "2024-11-17T07:21:35.972Z"
   },
   {
    "duration": 2,
    "start_time": "2024-11-17T07:21:36.070Z"
   },
   {
    "duration": 71,
    "start_time": "2024-11-17T07:21:36.073Z"
   },
   {
    "duration": 21,
    "start_time": "2024-11-17T07:21:36.145Z"
   },
   {
    "duration": 25,
    "start_time": "2024-11-17T07:21:36.168Z"
   },
   {
    "duration": 13,
    "start_time": "2024-11-17T07:21:36.194Z"
   },
   {
    "duration": 552,
    "start_time": "2024-11-17T07:21:36.208Z"
   },
   {
    "duration": 9,
    "start_time": "2024-11-17T07:21:36.761Z"
   },
   {
    "duration": 32,
    "start_time": "2024-11-17T07:21:36.771Z"
   },
   {
    "duration": 18,
    "start_time": "2024-11-17T07:21:36.805Z"
   },
   {
    "duration": 422,
    "start_time": "2024-11-17T07:21:36.824Z"
   },
   {
    "duration": 456,
    "start_time": "2024-11-17T07:21:37.248Z"
   },
   {
    "duration": 402,
    "start_time": "2024-11-17T07:21:37.706Z"
   },
   {
    "duration": 15,
    "start_time": "2024-11-17T07:21:38.109Z"
   },
   {
    "duration": 530,
    "start_time": "2024-11-17T07:21:38.125Z"
   },
   {
    "duration": 7,
    "start_time": "2024-11-17T07:21:38.656Z"
   },
   {
    "duration": 34,
    "start_time": "2024-11-17T07:21:38.665Z"
   },
   {
    "duration": 31,
    "start_time": "2024-11-17T07:21:38.701Z"
   },
   {
    "duration": 532,
    "start_time": "2024-11-17T07:21:38.734Z"
   },
   {
    "duration": 877,
    "start_time": "2024-11-17T07:21:39.268Z"
   },
   {
    "duration": 0,
    "start_time": "2024-11-17T07:21:40.147Z"
   },
   {
    "duration": 907,
    "start_time": "2024-11-17T07:21:58.339Z"
   },
   {
    "duration": 9,
    "start_time": "2024-11-17T07:23:32.918Z"
   },
   {
    "duration": 16,
    "start_time": "2024-11-17T07:23:58.431Z"
   },
   {
    "duration": 5,
    "start_time": "2024-11-17T07:24:05.586Z"
   },
   {
    "duration": 16,
    "start_time": "2024-11-17T07:25:59.100Z"
   },
   {
    "duration": 5,
    "start_time": "2024-11-17T07:26:19.122Z"
   },
   {
    "duration": 18,
    "start_time": "2024-11-17T07:26:31.159Z"
   },
   {
    "duration": 6,
    "start_time": "2024-11-17T07:31:09.609Z"
   },
   {
    "duration": 19,
    "start_time": "2024-11-17T07:31:56.617Z"
   },
   {
    "duration": 758,
    "start_time": "2024-11-17T07:33:42.994Z"
   },
   {
    "duration": 22,
    "start_time": "2024-11-17T07:34:38.745Z"
   },
   {
    "duration": 23,
    "start_time": "2024-11-17T07:34:41.090Z"
   },
   {
    "duration": 23,
    "start_time": "2024-11-17T07:34:59.838Z"
   },
   {
    "duration": 55,
    "start_time": "2024-11-17T07:36:28.549Z"
   },
   {
    "duration": 24,
    "start_time": "2024-11-17T07:36:32.771Z"
   },
   {
    "duration": 909,
    "start_time": "2024-11-17T07:36:44.242Z"
   },
   {
    "duration": 752,
    "start_time": "2024-11-17T07:36:58.652Z"
   },
   {
    "duration": 31,
    "start_time": "2024-11-17T07:37:12.093Z"
   },
   {
    "duration": 6,
    "start_time": "2024-11-17T07:38:28.856Z"
   },
   {
    "duration": 3,
    "start_time": "2024-11-17T07:38:38.623Z"
   },
   {
    "duration": 7,
    "start_time": "2024-11-17T07:38:54.675Z"
   },
   {
    "duration": 19,
    "start_time": "2024-11-17T07:39:22.813Z"
   },
   {
    "duration": 4,
    "start_time": "2024-11-17T07:39:32.643Z"
   },
   {
    "duration": 354,
    "start_time": "2024-11-17T07:39:32.649Z"
   },
   {
    "duration": 31,
    "start_time": "2024-11-17T07:39:33.004Z"
   },
   {
    "duration": 26,
    "start_time": "2024-11-17T07:39:33.037Z"
   },
   {
    "duration": 101,
    "start_time": "2024-11-17T07:39:33.065Z"
   },
   {
    "duration": 3,
    "start_time": "2024-11-17T07:39:33.168Z"
   },
   {
    "duration": 28,
    "start_time": "2024-11-17T07:39:33.172Z"
   },
   {
    "duration": 15,
    "start_time": "2024-11-17T07:39:33.202Z"
   },
   {
    "duration": 50,
    "start_time": "2024-11-17T07:39:33.219Z"
   },
   {
    "duration": 12,
    "start_time": "2024-11-17T07:39:33.271Z"
   },
   {
    "duration": 436,
    "start_time": "2024-11-17T07:39:33.285Z"
   },
   {
    "duration": 9,
    "start_time": "2024-11-17T07:39:33.722Z"
   },
   {
    "duration": 46,
    "start_time": "2024-11-17T07:39:33.732Z"
   },
   {
    "duration": 60,
    "start_time": "2024-11-17T07:39:33.781Z"
   },
   {
    "duration": 573,
    "start_time": "2024-11-17T07:39:33.843Z"
   },
   {
    "duration": 469,
    "start_time": "2024-11-17T07:39:34.420Z"
   },
   {
    "duration": 481,
    "start_time": "2024-11-17T07:39:34.891Z"
   },
   {
    "duration": 10,
    "start_time": "2024-11-17T07:39:35.374Z"
   },
   {
    "duration": 535,
    "start_time": "2024-11-17T07:39:35.386Z"
   },
   {
    "duration": 6,
    "start_time": "2024-11-17T07:39:35.922Z"
   },
   {
    "duration": 50,
    "start_time": "2024-11-17T07:39:35.930Z"
   },
   {
    "duration": 37,
    "start_time": "2024-11-17T07:39:35.981Z"
   },
   {
    "duration": 582,
    "start_time": "2024-11-17T07:39:36.020Z"
   },
   {
    "duration": 17,
    "start_time": "2024-11-17T07:39:36.604Z"
   },
   {
    "duration": 72,
    "start_time": "2024-11-17T07:39:36.623Z"
   },
   {
    "duration": 8,
    "start_time": "2024-11-17T07:40:17.948Z"
   },
   {
    "duration": 14,
    "start_time": "2024-11-17T07:40:29.458Z"
   },
   {
    "duration": 47,
    "start_time": "2024-11-17T07:41:26.949Z"
   },
   {
    "duration": 23,
    "start_time": "2024-11-17T07:42:46.162Z"
   },
   {
    "duration": 52,
    "start_time": "2024-11-17T07:45:29.645Z"
   },
   {
    "duration": 8,
    "start_time": "2024-11-17T07:45:39.037Z"
   },
   {
    "duration": 4,
    "start_time": "2024-11-17T07:45:53.026Z"
   },
   {
    "duration": 298,
    "start_time": "2024-11-17T07:45:53.032Z"
   },
   {
    "duration": 26,
    "start_time": "2024-11-17T07:45:53.332Z"
   },
   {
    "duration": 19,
    "start_time": "2024-11-17T07:45:53.360Z"
   },
   {
    "duration": 94,
    "start_time": "2024-11-17T07:45:53.382Z"
   },
   {
    "duration": 3,
    "start_time": "2024-11-17T07:45:53.478Z"
   },
   {
    "duration": 8,
    "start_time": "2024-11-17T07:45:53.482Z"
   },
   {
    "duration": 4,
    "start_time": "2024-11-17T07:45:53.492Z"
   },
   {
    "duration": 39,
    "start_time": "2024-11-17T07:45:53.497Z"
   },
   {
    "duration": 12,
    "start_time": "2024-11-17T07:45:53.538Z"
   },
   {
    "duration": 426,
    "start_time": "2024-11-17T07:45:53.552Z"
   },
   {
    "duration": 10,
    "start_time": "2024-11-17T07:45:53.980Z"
   },
   {
    "duration": 29,
    "start_time": "2024-11-17T07:45:53.992Z"
   },
   {
    "duration": 9,
    "start_time": "2024-11-17T07:45:54.024Z"
   },
   {
    "duration": 546,
    "start_time": "2024-11-17T07:45:54.035Z"
   },
   {
    "duration": 449,
    "start_time": "2024-11-17T07:45:54.582Z"
   },
   {
    "duration": 401,
    "start_time": "2024-11-17T07:45:55.033Z"
   },
   {
    "duration": 11,
    "start_time": "2024-11-17T07:45:55.436Z"
   },
   {
    "duration": 399,
    "start_time": "2024-11-17T07:45:55.449Z"
   },
   {
    "duration": 7,
    "start_time": "2024-11-17T07:45:55.850Z"
   },
   {
    "duration": 17,
    "start_time": "2024-11-17T07:45:55.859Z"
   },
   {
    "duration": 11,
    "start_time": "2024-11-17T07:45:55.878Z"
   },
   {
    "duration": 646,
    "start_time": "2024-11-17T07:45:55.891Z"
   },
   {
    "duration": 13,
    "start_time": "2024-11-17T07:45:56.539Z"
   },
   {
    "duration": 15,
    "start_time": "2024-11-17T07:45:56.553Z"
   },
   {
    "duration": 0,
    "start_time": "2024-11-17T07:45:56.570Z"
   },
   {
    "duration": 4,
    "start_time": "2024-11-17T07:46:43.760Z"
   },
   {
    "duration": 73,
    "start_time": "2024-11-17T07:46:54.146Z"
   },
   {
    "duration": 4,
    "start_time": "2024-11-17T07:47:01.877Z"
   },
   {
    "duration": 4,
    "start_time": "2024-11-17T07:47:05.522Z"
   },
   {
    "duration": 5,
    "start_time": "2024-11-17T07:47:12.562Z"
   },
   {
    "duration": 28,
    "start_time": "2024-11-17T07:47:26.072Z"
   },
   {
    "duration": 9,
    "start_time": "2024-11-17T07:48:41.741Z"
   },
   {
    "duration": 48,
    "start_time": "2024-11-17T07:49:24.117Z"
   },
   {
    "duration": 46,
    "start_time": "2024-11-17T07:49:42.980Z"
   },
   {
    "duration": 11,
    "start_time": "2024-11-17T07:49:53.006Z"
   },
   {
    "duration": 32,
    "start_time": "2024-11-17T07:50:16.633Z"
   },
   {
    "duration": 19,
    "start_time": "2024-11-17T07:51:42.239Z"
   },
   {
    "duration": 17,
    "start_time": "2024-11-17T07:51:50.445Z"
   },
   {
    "duration": 10,
    "start_time": "2024-11-17T07:58:37.349Z"
   },
   {
    "duration": 80,
    "start_time": "2024-11-17T07:58:38.722Z"
   },
   {
    "duration": 4,
    "start_time": "2024-11-17T07:58:42.541Z"
   },
   {
    "duration": 332,
    "start_time": "2024-11-17T07:58:42.547Z"
   },
   {
    "duration": 42,
    "start_time": "2024-11-17T07:58:42.880Z"
   },
   {
    "duration": 23,
    "start_time": "2024-11-17T07:58:42.924Z"
   },
   {
    "duration": 89,
    "start_time": "2024-11-17T07:58:42.950Z"
   },
   {
    "duration": 2,
    "start_time": "2024-11-17T07:58:43.041Z"
   },
   {
    "duration": 6,
    "start_time": "2024-11-17T07:58:43.045Z"
   },
   {
    "duration": 11,
    "start_time": "2024-11-17T07:58:43.052Z"
   },
   {
    "duration": 20,
    "start_time": "2024-11-17T07:58:43.064Z"
   },
   {
    "duration": 12,
    "start_time": "2024-11-17T07:58:43.086Z"
   },
   {
    "duration": 455,
    "start_time": "2024-11-17T07:58:43.099Z"
   },
   {
    "duration": 8,
    "start_time": "2024-11-17T07:58:43.556Z"
   },
   {
    "duration": 29,
    "start_time": "2024-11-17T07:58:43.566Z"
   },
   {
    "duration": 7,
    "start_time": "2024-11-17T07:58:43.598Z"
   },
   {
    "duration": 436,
    "start_time": "2024-11-17T07:58:43.606Z"
   },
   {
    "duration": 543,
    "start_time": "2024-11-17T07:58:44.044Z"
   },
   {
    "duration": 392,
    "start_time": "2024-11-17T07:58:44.589Z"
   },
   {
    "duration": 10,
    "start_time": "2024-11-17T07:58:44.983Z"
   },
   {
    "duration": 410,
    "start_time": "2024-11-17T07:58:44.994Z"
   },
   {
    "duration": 15,
    "start_time": "2024-11-17T07:58:45.406Z"
   },
   {
    "duration": 12,
    "start_time": "2024-11-17T07:58:45.422Z"
   },
   {
    "duration": 9,
    "start_time": "2024-11-17T07:58:45.435Z"
   },
   {
    "duration": 632,
    "start_time": "2024-11-17T07:58:45.445Z"
   },
   {
    "duration": 13,
    "start_time": "2024-11-17T07:58:46.079Z"
   },
   {
    "duration": 46,
    "start_time": "2024-11-17T07:58:46.093Z"
   },
   {
    "duration": 19,
    "start_time": "2024-11-17T07:58:46.141Z"
   },
   {
    "duration": 83,
    "start_time": "2024-11-17T07:58:46.161Z"
   },
   {
    "duration": 0,
    "start_time": "2024-11-17T07:58:46.245Z"
   },
   {
    "duration": 53,
    "start_time": "2024-11-17T08:00:49.914Z"
   },
   {
    "duration": 16,
    "start_time": "2024-11-17T08:00:57.347Z"
   },
   {
    "duration": 15,
    "start_time": "2024-11-17T08:01:24.053Z"
   },
   {
    "duration": 17,
    "start_time": "2024-11-17T08:01:26.625Z"
   },
   {
    "duration": 13,
    "start_time": "2024-11-17T08:02:56.437Z"
   },
   {
    "duration": 17,
    "start_time": "2024-11-17T08:03:22.180Z"
   },
   {
    "duration": 16,
    "start_time": "2024-11-17T08:05:14.702Z"
   },
   {
    "duration": 15,
    "start_time": "2024-11-17T08:05:18.336Z"
   },
   {
    "duration": 12,
    "start_time": "2024-11-17T08:05:20.749Z"
   },
   {
    "duration": 16,
    "start_time": "2024-11-17T08:09:30.937Z"
   },
   {
    "duration": 26,
    "start_time": "2024-11-17T08:10:24.591Z"
   },
   {
    "duration": 18,
    "start_time": "2024-11-17T08:10:38.434Z"
   },
   {
    "duration": 18,
    "start_time": "2024-11-17T08:10:55.377Z"
   },
   {
    "duration": 19,
    "start_time": "2024-11-17T08:11:13.987Z"
   },
   {
    "duration": 4,
    "start_time": "2024-11-17T08:16:35.447Z"
   },
   {
    "duration": 4,
    "start_time": "2024-11-17T08:16:41.198Z"
   },
   {
    "duration": 332,
    "start_time": "2024-11-17T08:16:41.203Z"
   },
   {
    "duration": 27,
    "start_time": "2024-11-17T08:16:41.536Z"
   },
   {
    "duration": 18,
    "start_time": "2024-11-17T08:16:41.564Z"
   },
   {
    "duration": 94,
    "start_time": "2024-11-17T08:16:41.584Z"
   },
   {
    "duration": 3,
    "start_time": "2024-11-17T08:16:41.679Z"
   },
   {
    "duration": 7,
    "start_time": "2024-11-17T08:16:41.683Z"
   },
   {
    "duration": 3,
    "start_time": "2024-11-17T08:16:41.691Z"
   },
   {
    "duration": 33,
    "start_time": "2024-11-17T08:16:41.695Z"
   },
   {
    "duration": 12,
    "start_time": "2024-11-17T08:16:41.729Z"
   },
   {
    "duration": 428,
    "start_time": "2024-11-17T08:16:41.743Z"
   },
   {
    "duration": 8,
    "start_time": "2024-11-17T08:16:42.173Z"
   },
   {
    "duration": 12,
    "start_time": "2024-11-17T08:16:42.182Z"
   },
   {
    "duration": 24,
    "start_time": "2024-11-17T08:16:42.197Z"
   },
   {
    "duration": 428,
    "start_time": "2024-11-17T08:16:42.223Z"
   },
   {
    "duration": 476,
    "start_time": "2024-11-17T08:16:42.653Z"
   },
   {
    "duration": 506,
    "start_time": "2024-11-17T08:16:43.131Z"
   },
   {
    "duration": 10,
    "start_time": "2024-11-17T08:16:43.638Z"
   },
   {
    "duration": 401,
    "start_time": "2024-11-17T08:16:43.650Z"
   },
   {
    "duration": 6,
    "start_time": "2024-11-17T08:16:44.053Z"
   },
   {
    "duration": 6,
    "start_time": "2024-11-17T08:16:44.060Z"
   },
   {
    "duration": 12,
    "start_time": "2024-11-17T08:16:44.068Z"
   },
   {
    "duration": 548,
    "start_time": "2024-11-17T08:16:44.081Z"
   },
   {
    "duration": 14,
    "start_time": "2024-11-17T08:16:44.630Z"
   },
   {
    "duration": 36,
    "start_time": "2024-11-17T08:16:44.646Z"
   },
   {
    "duration": 39,
    "start_time": "2024-11-17T08:16:44.683Z"
   },
   {
    "duration": 38,
    "start_time": "2024-11-17T08:16:44.724Z"
   },
   {
    "duration": 0,
    "start_time": "2024-11-17T08:16:44.764Z"
   },
   {
    "duration": 0,
    "start_time": "2024-11-17T08:16:44.766Z"
   },
   {
    "duration": 0,
    "start_time": "2024-11-17T08:16:44.767Z"
   },
   {
    "duration": 836,
    "start_time": "2024-11-17T08:19:10.322Z"
   },
   {
    "duration": 857,
    "start_time": "2024-11-17T08:20:54.575Z"
   },
   {
    "duration": 851,
    "start_time": "2024-11-17T08:21:24.997Z"
   },
   {
    "duration": 21,
    "start_time": "2024-11-17T08:24:07.330Z"
   },
   {
    "duration": 12,
    "start_time": "2024-11-17T08:27:35.702Z"
   },
   {
    "duration": 5,
    "start_time": "2024-11-17T08:28:42.214Z"
   },
   {
    "duration": 4,
    "start_time": "2024-11-17T08:28:47.043Z"
   },
   {
    "duration": 393,
    "start_time": "2024-11-17T08:28:47.050Z"
   },
   {
    "duration": 27,
    "start_time": "2024-11-17T08:28:47.445Z"
   },
   {
    "duration": 18,
    "start_time": "2024-11-17T08:28:47.474Z"
   },
   {
    "duration": 107,
    "start_time": "2024-11-17T08:28:47.494Z"
   },
   {
    "duration": 3,
    "start_time": "2024-11-17T08:28:47.602Z"
   },
   {
    "duration": 14,
    "start_time": "2024-11-17T08:28:47.606Z"
   },
   {
    "duration": 2,
    "start_time": "2024-11-17T08:28:47.622Z"
   },
   {
    "duration": 22,
    "start_time": "2024-11-17T08:28:47.625Z"
   },
   {
    "duration": 13,
    "start_time": "2024-11-17T08:28:47.648Z"
   },
   {
    "duration": 575,
    "start_time": "2024-11-17T08:28:47.662Z"
   },
   {
    "duration": 9,
    "start_time": "2024-11-17T08:28:48.239Z"
   },
   {
    "duration": 34,
    "start_time": "2024-11-17T08:28:48.249Z"
   },
   {
    "duration": 20,
    "start_time": "2024-11-17T08:28:48.286Z"
   },
   {
    "duration": 474,
    "start_time": "2024-11-17T08:28:48.308Z"
   },
   {
    "duration": 470,
    "start_time": "2024-11-17T08:28:48.784Z"
   },
   {
    "duration": 413,
    "start_time": "2024-11-17T08:28:49.256Z"
   },
   {
    "duration": 11,
    "start_time": "2024-11-17T08:28:49.670Z"
   },
   {
    "duration": 534,
    "start_time": "2024-11-17T08:28:49.682Z"
   },
   {
    "duration": 6,
    "start_time": "2024-11-17T08:28:50.217Z"
   },
   {
    "duration": 21,
    "start_time": "2024-11-17T08:28:50.225Z"
   },
   {
    "duration": 25,
    "start_time": "2024-11-17T08:28:50.247Z"
   },
   {
    "duration": 553,
    "start_time": "2024-11-17T08:28:50.274Z"
   },
   {
    "duration": 12,
    "start_time": "2024-11-17T08:28:50.829Z"
   },
   {
    "duration": 68,
    "start_time": "2024-11-17T08:28:50.843Z"
   },
   {
    "duration": 21,
    "start_time": "2024-11-17T08:28:50.912Z"
   },
   {
    "duration": 875,
    "start_time": "2024-11-17T08:28:50.934Z"
   },
   {
    "duration": 0,
    "start_time": "2024-11-17T08:33:13.482Z"
   },
   {
    "duration": 0,
    "start_time": "2024-11-17T08:33:13.484Z"
   },
   {
    "duration": 0,
    "start_time": "2024-11-17T08:33:13.486Z"
   },
   {
    "duration": 0,
    "start_time": "2024-11-17T08:33:13.488Z"
   },
   {
    "duration": 0,
    "start_time": "2024-11-17T08:33:13.489Z"
   },
   {
    "duration": 0,
    "start_time": "2024-11-17T08:33:13.491Z"
   },
   {
    "duration": 0,
    "start_time": "2024-11-17T08:33:13.494Z"
   },
   {
    "duration": 0,
    "start_time": "2024-11-17T08:33:13.495Z"
   },
   {
    "duration": 0,
    "start_time": "2024-11-17T08:33:13.522Z"
   },
   {
    "duration": 0,
    "start_time": "2024-11-17T08:33:13.523Z"
   },
   {
    "duration": 0,
    "start_time": "2024-11-17T08:33:13.525Z"
   },
   {
    "duration": 0,
    "start_time": "2024-11-17T08:33:13.528Z"
   },
   {
    "duration": 0,
    "start_time": "2024-11-17T08:33:13.529Z"
   },
   {
    "duration": 0,
    "start_time": "2024-11-17T08:33:13.531Z"
   },
   {
    "duration": 0,
    "start_time": "2024-11-17T08:33:13.533Z"
   },
   {
    "duration": 0,
    "start_time": "2024-11-17T08:33:13.535Z"
   },
   {
    "duration": 0,
    "start_time": "2024-11-17T08:33:13.537Z"
   },
   {
    "duration": 0,
    "start_time": "2024-11-17T08:33:13.539Z"
   },
   {
    "duration": 0,
    "start_time": "2024-11-17T08:33:13.542Z"
   },
   {
    "duration": 0,
    "start_time": "2024-11-17T08:33:13.543Z"
   },
   {
    "duration": 0,
    "start_time": "2024-11-17T08:33:13.545Z"
   },
   {
    "duration": 0,
    "start_time": "2024-11-17T08:33:13.547Z"
   },
   {
    "duration": 0,
    "start_time": "2024-11-17T08:33:13.549Z"
   },
   {
    "duration": 0,
    "start_time": "2024-11-17T08:33:13.551Z"
   },
   {
    "duration": 0,
    "start_time": "2024-11-17T08:33:13.553Z"
   },
   {
    "duration": 0,
    "start_time": "2024-11-17T08:33:13.554Z"
   },
   {
    "duration": 0,
    "start_time": "2024-11-17T08:33:13.556Z"
   },
   {
    "duration": 0,
    "start_time": "2024-11-17T08:33:13.558Z"
   },
   {
    "duration": 0,
    "start_time": "2024-11-17T08:33:13.559Z"
   },
   {
    "duration": 4,
    "start_time": "2024-11-17T08:33:19.775Z"
   },
   {
    "duration": 312,
    "start_time": "2024-11-17T08:33:19.781Z"
   },
   {
    "duration": 34,
    "start_time": "2024-11-17T08:33:20.094Z"
   },
   {
    "duration": 18,
    "start_time": "2024-11-17T08:33:20.130Z"
   },
   {
    "duration": 79,
    "start_time": "2024-11-17T08:33:20.149Z"
   },
   {
    "duration": 2,
    "start_time": "2024-11-17T08:33:20.229Z"
   },
   {
    "duration": 6,
    "start_time": "2024-11-17T08:33:20.233Z"
   },
   {
    "duration": 3,
    "start_time": "2024-11-17T08:33:20.240Z"
   },
   {
    "duration": 21,
    "start_time": "2024-11-17T08:33:20.245Z"
   },
   {
    "duration": 12,
    "start_time": "2024-11-17T08:33:20.268Z"
   },
   {
    "duration": 449,
    "start_time": "2024-11-17T08:33:20.282Z"
   },
   {
    "duration": 10,
    "start_time": "2024-11-17T08:33:20.733Z"
   },
   {
    "duration": 12,
    "start_time": "2024-11-17T08:33:20.745Z"
   },
   {
    "duration": 8,
    "start_time": "2024-11-17T08:33:20.760Z"
   },
   {
    "duration": 576,
    "start_time": "2024-11-17T08:33:20.769Z"
   },
   {
    "duration": 444,
    "start_time": "2024-11-17T08:33:21.346Z"
   },
   {
    "duration": 390,
    "start_time": "2024-11-17T08:33:21.792Z"
   },
   {
    "duration": 10,
    "start_time": "2024-11-17T08:33:22.184Z"
   },
   {
    "duration": 511,
    "start_time": "2024-11-17T08:33:22.195Z"
   },
   {
    "duration": 14,
    "start_time": "2024-11-17T08:33:22.708Z"
   },
   {
    "duration": 6,
    "start_time": "2024-11-17T08:33:22.723Z"
   },
   {
    "duration": 10,
    "start_time": "2024-11-17T08:33:22.730Z"
   },
   {
    "duration": 560,
    "start_time": "2024-11-17T08:33:22.742Z"
   },
   {
    "duration": 21,
    "start_time": "2024-11-17T08:33:23.304Z"
   },
   {
    "duration": 39,
    "start_time": "2024-11-17T08:33:23.326Z"
   },
   {
    "duration": 16,
    "start_time": "2024-11-17T08:33:23.367Z"
   },
   {
    "duration": 860,
    "start_time": "2024-11-17T08:33:23.385Z"
   },
   {
    "duration": 3,
    "start_time": "2024-11-17T08:33:24.246Z"
   },
   {
    "duration": 14,
    "start_time": "2024-11-17T08:33:24.250Z"
   },
   {
    "duration": 3,
    "start_time": "2024-11-17T08:34:04.193Z"
   },
   {
    "duration": 4,
    "start_time": "2024-11-17T08:34:06.940Z"
   },
   {
    "duration": 322,
    "start_time": "2024-11-17T08:34:06.945Z"
   },
   {
    "duration": 32,
    "start_time": "2024-11-17T08:34:07.268Z"
   },
   {
    "duration": 43,
    "start_time": "2024-11-17T08:34:07.302Z"
   },
   {
    "duration": 83,
    "start_time": "2024-11-17T08:34:07.348Z"
   },
   {
    "duration": 2,
    "start_time": "2024-11-17T08:34:07.433Z"
   },
   {
    "duration": 18,
    "start_time": "2024-11-17T08:34:07.436Z"
   },
   {
    "duration": 9,
    "start_time": "2024-11-17T08:34:07.455Z"
   },
   {
    "duration": 23,
    "start_time": "2024-11-17T08:34:07.465Z"
   },
   {
    "duration": 14,
    "start_time": "2024-11-17T08:34:07.490Z"
   },
   {
    "duration": 437,
    "start_time": "2024-11-17T08:34:07.506Z"
   },
   {
    "duration": 9,
    "start_time": "2024-11-17T08:34:07.945Z"
   },
   {
    "duration": 55,
    "start_time": "2024-11-17T08:34:07.955Z"
   },
   {
    "duration": 8,
    "start_time": "2024-11-17T08:34:08.013Z"
   },
   {
    "duration": 556,
    "start_time": "2024-11-17T08:34:08.022Z"
   },
   {
    "duration": 445,
    "start_time": "2024-11-17T08:34:08.579Z"
   },
   {
    "duration": 399,
    "start_time": "2024-11-17T08:34:09.025Z"
   },
   {
    "duration": 10,
    "start_time": "2024-11-17T08:34:09.426Z"
   },
   {
    "duration": 418,
    "start_time": "2024-11-17T08:34:09.437Z"
   },
   {
    "duration": 6,
    "start_time": "2024-11-17T08:34:09.857Z"
   },
   {
    "duration": 17,
    "start_time": "2024-11-17T08:34:09.865Z"
   },
   {
    "duration": 6,
    "start_time": "2024-11-17T08:34:09.883Z"
   },
   {
    "duration": 677,
    "start_time": "2024-11-17T08:34:09.891Z"
   },
   {
    "duration": 14,
    "start_time": "2024-11-17T08:34:10.570Z"
   },
   {
    "duration": 47,
    "start_time": "2024-11-17T08:34:10.586Z"
   },
   {
    "duration": 18,
    "start_time": "2024-11-17T08:34:10.635Z"
   },
   {
    "duration": 876,
    "start_time": "2024-11-17T08:34:10.654Z"
   },
   {
    "duration": 2,
    "start_time": "2024-11-17T08:34:11.532Z"
   },
   {
    "duration": 11,
    "start_time": "2024-11-17T08:34:11.536Z"
   },
   {
    "duration": 4,
    "start_time": "2024-11-17T08:34:56.584Z"
   },
   {
    "duration": 301,
    "start_time": "2024-11-17T08:34:56.590Z"
   },
   {
    "duration": 36,
    "start_time": "2024-11-17T08:34:56.892Z"
   },
   {
    "duration": 20,
    "start_time": "2024-11-17T08:34:56.929Z"
   },
   {
    "duration": 87,
    "start_time": "2024-11-17T08:34:56.952Z"
   },
   {
    "duration": 2,
    "start_time": "2024-11-17T08:34:57.040Z"
   },
   {
    "duration": 24,
    "start_time": "2024-11-17T08:34:57.044Z"
   },
   {
    "duration": 7,
    "start_time": "2024-11-17T08:34:57.070Z"
   },
   {
    "duration": 21,
    "start_time": "2024-11-17T08:34:57.078Z"
   },
   {
    "duration": 59,
    "start_time": "2024-11-17T08:34:57.101Z"
   },
   {
    "duration": 447,
    "start_time": "2024-11-17T08:34:57.161Z"
   },
   {
    "duration": 16,
    "start_time": "2024-11-17T08:34:57.610Z"
   },
   {
    "duration": 13,
    "start_time": "2024-11-17T08:34:57.628Z"
   },
   {
    "duration": 8,
    "start_time": "2024-11-17T08:34:57.644Z"
   },
   {
    "duration": 484,
    "start_time": "2024-11-17T08:34:57.653Z"
   },
   {
    "duration": 550,
    "start_time": "2024-11-17T08:34:58.138Z"
   },
   {
    "duration": 408,
    "start_time": "2024-11-17T08:34:58.689Z"
   },
   {
    "duration": 10,
    "start_time": "2024-11-17T08:34:59.098Z"
   },
   {
    "duration": 423,
    "start_time": "2024-11-17T08:34:59.120Z"
   },
   {
    "duration": 6,
    "start_time": "2024-11-17T08:34:59.544Z"
   },
   {
    "duration": 7,
    "start_time": "2024-11-17T08:34:59.551Z"
   },
   {
    "duration": 6,
    "start_time": "2024-11-17T08:34:59.559Z"
   },
   {
    "duration": 666,
    "start_time": "2024-11-17T08:34:59.566Z"
   },
   {
    "duration": 13,
    "start_time": "2024-11-17T08:35:00.234Z"
   },
   {
    "duration": 86,
    "start_time": "2024-11-17T08:35:00.248Z"
   },
   {
    "duration": 18,
    "start_time": "2024-11-17T08:35:00.335Z"
   },
   {
    "duration": 884,
    "start_time": "2024-11-17T08:35:00.355Z"
   },
   {
    "duration": 3,
    "start_time": "2024-11-17T08:35:01.241Z"
   },
   {
    "duration": 381,
    "start_time": "2024-11-17T08:35:01.246Z"
   },
   {
    "duration": 4,
    "start_time": "2024-11-17T08:36:03.898Z"
   },
   {
    "duration": 342,
    "start_time": "2024-11-17T08:36:03.904Z"
   },
   {
    "duration": 27,
    "start_time": "2024-11-17T08:36:04.247Z"
   },
   {
    "duration": 22,
    "start_time": "2024-11-17T08:36:04.275Z"
   },
   {
    "duration": 92,
    "start_time": "2024-11-17T08:36:04.320Z"
   },
   {
    "duration": 3,
    "start_time": "2024-11-17T08:36:04.414Z"
   },
   {
    "duration": 85,
    "start_time": "2024-11-17T08:36:04.418Z"
   },
   {
    "duration": 8,
    "start_time": "2024-11-17T08:36:04.505Z"
   },
   {
    "duration": 50,
    "start_time": "2024-11-17T08:36:04.515Z"
   },
   {
    "duration": 28,
    "start_time": "2024-11-17T08:36:04.567Z"
   },
   {
    "duration": 426,
    "start_time": "2024-11-17T08:36:04.597Z"
   },
   {
    "duration": 10,
    "start_time": "2024-11-17T08:36:05.025Z"
   },
   {
    "duration": 24,
    "start_time": "2024-11-17T08:36:05.037Z"
   },
   {
    "duration": 9,
    "start_time": "2024-11-17T08:36:05.064Z"
   },
   {
    "duration": 468,
    "start_time": "2024-11-17T08:36:05.074Z"
   },
   {
    "duration": 444,
    "start_time": "2024-11-17T08:36:05.544Z"
   },
   {
    "duration": 547,
    "start_time": "2024-11-17T08:36:05.990Z"
   },
   {
    "duration": 11,
    "start_time": "2024-11-17T08:36:06.539Z"
   },
   {
    "duration": 414,
    "start_time": "2024-11-17T08:36:06.552Z"
   },
   {
    "duration": 7,
    "start_time": "2024-11-17T08:36:06.967Z"
   },
   {
    "duration": 6,
    "start_time": "2024-11-17T08:36:06.975Z"
   },
   {
    "duration": 6,
    "start_time": "2024-11-17T08:36:06.982Z"
   },
   {
    "duration": 591,
    "start_time": "2024-11-17T08:36:06.990Z"
   },
   {
    "duration": 14,
    "start_time": "2024-11-17T08:36:07.583Z"
   },
   {
    "duration": 44,
    "start_time": "2024-11-17T08:36:07.598Z"
   },
   {
    "duration": 18,
    "start_time": "2024-11-17T08:36:07.644Z"
   },
   {
    "duration": 926,
    "start_time": "2024-11-17T08:36:07.663Z"
   },
   {
    "duration": 142,
    "start_time": "2024-11-17T08:36:08.590Z"
   },
   {
    "duration": 258999,
    "start_time": "2024-11-17T08:36:08.822Z"
   },
   {
    "duration": 1709,
    "start_time": "2024-11-17T12:52:17.961Z"
   },
   {
    "duration": 1455,
    "start_time": "2024-11-17T12:52:19.673Z"
   },
   {
    "duration": 38,
    "start_time": "2024-11-17T12:52:21.131Z"
   },
   {
    "duration": 21,
    "start_time": "2024-11-17T12:52:21.171Z"
   },
   {
    "duration": 199,
    "start_time": "2024-11-17T12:52:21.199Z"
   },
   {
    "duration": 2,
    "start_time": "2024-11-17T12:52:21.399Z"
   },
   {
    "duration": 20,
    "start_time": "2024-11-17T12:52:21.403Z"
   },
   {
    "duration": 15,
    "start_time": "2024-11-17T12:52:21.425Z"
   },
   {
    "duration": 34,
    "start_time": "2024-11-17T12:52:21.442Z"
   },
   {
    "duration": 14,
    "start_time": "2024-11-17T12:52:21.478Z"
   },
   {
    "duration": 572,
    "start_time": "2024-11-17T12:52:21.494Z"
   },
   {
    "duration": 9,
    "start_time": "2024-11-17T12:52:22.068Z"
   },
   {
    "duration": 39,
    "start_time": "2024-11-17T12:52:22.079Z"
   },
   {
    "duration": 8,
    "start_time": "2024-11-17T12:52:22.122Z"
   },
   {
    "duration": 500,
    "start_time": "2024-11-17T12:52:22.132Z"
   },
   {
    "duration": 504,
    "start_time": "2024-11-17T12:52:22.634Z"
   },
   {
    "duration": 443,
    "start_time": "2024-11-17T12:52:23.140Z"
   },
   {
    "duration": 20,
    "start_time": "2024-11-17T12:52:23.585Z"
   },
   {
    "duration": 585,
    "start_time": "2024-11-17T12:52:23.606Z"
   },
   {
    "duration": 9,
    "start_time": "2024-11-17T12:52:24.192Z"
   },
   {
    "duration": 10,
    "start_time": "2024-11-17T12:52:24.202Z"
   },
   {
    "duration": 25,
    "start_time": "2024-11-17T12:52:24.213Z"
   },
   {
    "duration": 609,
    "start_time": "2024-11-17T12:52:24.240Z"
   },
   {
    "duration": 15,
    "start_time": "2024-11-17T12:52:24.851Z"
   },
   {
    "duration": 49,
    "start_time": "2024-11-17T12:52:24.868Z"
   },
   {
    "duration": 29,
    "start_time": "2024-11-17T12:52:24.919Z"
   },
   {
    "duration": 959,
    "start_time": "2024-11-17T12:52:24.950Z"
   },
   {
    "duration": 302,
    "start_time": "2024-11-17T12:52:25.911Z"
   },
   {
    "duration": 312,
    "start_time": "2024-11-17T12:52:26.214Z"
   },
   {
    "duration": 277234,
    "start_time": "2024-11-17T12:52:26.527Z"
   },
   {
    "duration": 12581,
    "start_time": "2024-11-17T12:57:03.763Z"
   },
   {
    "duration": 5,
    "start_time": "2024-11-17T15:06:16.414Z"
   },
   {
    "duration": 25,
    "start_time": "2024-11-17T15:08:10.281Z"
   },
   {
    "duration": 21,
    "start_time": "2024-11-17T15:08:18.565Z"
   },
   {
    "duration": 3,
    "start_time": "2024-11-17T15:09:05.647Z"
   },
   {
    "duration": 195,
    "start_time": "2024-11-17T15:10:29.939Z"
   },
   {
    "duration": 5,
    "start_time": "2024-11-17T15:16:45.793Z"
   },
   {
    "duration": 380,
    "start_time": "2024-11-17T15:16:45.800Z"
   },
   {
    "duration": 37,
    "start_time": "2024-11-17T15:16:46.181Z"
   },
   {
    "duration": 19,
    "start_time": "2024-11-17T15:16:46.220Z"
   },
   {
    "duration": 96,
    "start_time": "2024-11-17T15:16:46.241Z"
   },
   {
    "duration": 3,
    "start_time": "2024-11-17T15:16:46.338Z"
   },
   {
    "duration": 21,
    "start_time": "2024-11-17T15:16:46.342Z"
   },
   {
    "duration": 14,
    "start_time": "2024-11-17T15:16:46.364Z"
   },
   {
    "duration": 26,
    "start_time": "2024-11-17T15:16:46.380Z"
   },
   {
    "duration": 14,
    "start_time": "2024-11-17T15:16:46.409Z"
   },
   {
    "duration": 481,
    "start_time": "2024-11-17T15:16:46.425Z"
   },
   {
    "duration": 9,
    "start_time": "2024-11-17T15:16:46.907Z"
   },
   {
    "duration": 21,
    "start_time": "2024-11-17T15:16:46.918Z"
   },
   {
    "duration": 9,
    "start_time": "2024-11-17T15:16:46.942Z"
   },
   {
    "duration": 645,
    "start_time": "2024-11-17T15:16:46.953Z"
   },
   {
    "duration": 484,
    "start_time": "2024-11-17T15:16:47.600Z"
   },
   {
    "duration": 462,
    "start_time": "2024-11-17T15:16:48.086Z"
   },
   {
    "duration": 11,
    "start_time": "2024-11-17T15:16:48.549Z"
   },
   {
    "duration": 438,
    "start_time": "2024-11-17T15:16:48.562Z"
   },
   {
    "duration": 6,
    "start_time": "2024-11-17T15:16:49.002Z"
   },
   {
    "duration": 13,
    "start_time": "2024-11-17T15:16:49.010Z"
   },
   {
    "duration": 18,
    "start_time": "2024-11-17T15:16:49.025Z"
   },
   {
    "duration": 710,
    "start_time": "2024-11-17T15:16:49.045Z"
   },
   {
    "duration": 14,
    "start_time": "2024-11-17T15:16:49.757Z"
   },
   {
    "duration": 45,
    "start_time": "2024-11-17T15:16:49.772Z"
   },
   {
    "duration": 20,
    "start_time": "2024-11-17T15:16:49.818Z"
   },
   {
    "duration": 4,
    "start_time": "2024-11-17T15:16:49.839Z"
   },
   {
    "duration": 106,
    "start_time": "2024-11-17T15:16:49.844Z"
   },
   {
    "duration": 0,
    "start_time": "2024-11-17T15:16:49.952Z"
   },
   {
    "duration": 0,
    "start_time": "2024-11-17T15:16:49.953Z"
   },
   {
    "duration": 0,
    "start_time": "2024-11-17T15:16:49.954Z"
   },
   {
    "duration": 0,
    "start_time": "2024-11-17T15:16:49.955Z"
   },
   {
    "duration": 0,
    "start_time": "2024-11-17T15:16:49.956Z"
   },
   {
    "duration": 0,
    "start_time": "2024-11-17T15:16:49.957Z"
   },
   {
    "duration": 3,
    "start_time": "2024-11-17T15:21:20.759Z"
   },
   {
    "duration": 264,
    "start_time": "2024-11-17T15:21:22.859Z"
   },
   {
    "duration": 71,
    "start_time": "2024-11-17T15:21:26.407Z"
   },
   {
    "duration": 3,
    "start_time": "2024-11-17T15:21:37.538Z"
   },
   {
    "duration": 147,
    "start_time": "2024-11-17T15:21:39.167Z"
   },
   {
    "duration": 3,
    "start_time": "2024-11-17T15:21:49.700Z"
   },
   {
    "duration": 82,
    "start_time": "2024-11-17T15:21:51.270Z"
   },
   {
    "duration": 2,
    "start_time": "2024-11-17T15:23:01.265Z"
   },
   {
    "duration": 4,
    "start_time": "2024-11-17T15:23:02.074Z"
   },
   {
    "duration": 83,
    "start_time": "2024-11-17T15:23:05.177Z"
   },
   {
    "duration": 87,
    "start_time": "2024-11-17T15:27:53.228Z"
   },
   {
    "duration": 55,
    "start_time": "2024-11-17T15:30:48.026Z"
   },
   {
    "duration": 60,
    "start_time": "2024-11-17T15:31:13.095Z"
   },
   {
    "duration": 4,
    "start_time": "2024-11-17T15:31:41.024Z"
   },
   {
    "duration": 81,
    "start_time": "2024-11-17T15:31:42.999Z"
   },
   {
    "duration": 3,
    "start_time": "2024-11-17T15:32:36.780Z"
   },
   {
    "duration": 83,
    "start_time": "2024-11-17T15:32:38.547Z"
   },
   {
    "duration": 276,
    "start_time": "2024-11-17T15:34:16.601Z"
   },
   {
    "duration": 260,
    "start_time": "2024-11-17T15:34:53.647Z"
   },
   {
    "duration": 274,
    "start_time": "2024-11-17T15:35:02.746Z"
   },
   {
    "duration": 274,
    "start_time": "2024-11-17T15:35:27.958Z"
   },
   {
    "duration": 70,
    "start_time": "2024-11-17T15:36:27.876Z"
   },
   {
    "duration": 3,
    "start_time": "2024-11-17T15:54:53.043Z"
   },
   {
    "duration": 3,
    "start_time": "2024-11-17T15:54:57.694Z"
   },
   {
    "duration": 81,
    "start_time": "2024-11-17T15:54:59.255Z"
   },
   {
    "duration": 5,
    "start_time": "2024-11-17T15:55:29.810Z"
   },
   {
    "duration": 335,
    "start_time": "2024-11-17T15:55:29.817Z"
   },
   {
    "duration": 43,
    "start_time": "2024-11-17T15:55:30.154Z"
   },
   {
    "duration": 23,
    "start_time": "2024-11-17T15:55:30.200Z"
   },
   {
    "duration": 107,
    "start_time": "2024-11-17T15:55:30.226Z"
   },
   {
    "duration": 2,
    "start_time": "2024-11-17T15:55:30.336Z"
   },
   {
    "duration": 25,
    "start_time": "2024-11-17T15:55:30.340Z"
   },
   {
    "duration": 6,
    "start_time": "2024-11-17T15:55:30.366Z"
   },
   {
    "duration": 30,
    "start_time": "2024-11-17T15:55:30.374Z"
   },
   {
    "duration": 16,
    "start_time": "2024-11-17T15:55:30.406Z"
   },
   {
    "duration": 476,
    "start_time": "2024-11-17T15:55:30.424Z"
   },
   {
    "duration": 10,
    "start_time": "2024-11-17T15:55:30.901Z"
   },
   {
    "duration": 20,
    "start_time": "2024-11-17T15:55:30.912Z"
   },
   {
    "duration": 11,
    "start_time": "2024-11-17T15:55:30.935Z"
   },
   {
    "duration": 507,
    "start_time": "2024-11-17T15:55:30.948Z"
   },
   {
    "duration": 597,
    "start_time": "2024-11-17T15:55:31.456Z"
   },
   {
    "duration": 435,
    "start_time": "2024-11-17T15:55:32.055Z"
   },
   {
    "duration": 16,
    "start_time": "2024-11-17T15:55:32.491Z"
   },
   {
    "duration": 423,
    "start_time": "2024-11-17T15:55:32.508Z"
   },
   {
    "duration": 8,
    "start_time": "2024-11-17T15:55:32.933Z"
   },
   {
    "duration": 20,
    "start_time": "2024-11-17T15:55:32.943Z"
   },
   {
    "duration": 12,
    "start_time": "2024-11-17T15:55:32.965Z"
   },
   {
    "duration": 691,
    "start_time": "2024-11-17T15:55:32.978Z"
   },
   {
    "duration": 15,
    "start_time": "2024-11-17T15:55:33.671Z"
   },
   {
    "duration": 55,
    "start_time": "2024-11-17T15:55:33.697Z"
   },
   {
    "duration": 20,
    "start_time": "2024-11-17T15:55:33.753Z"
   },
   {
    "duration": 3,
    "start_time": "2024-11-17T15:55:33.774Z"
   },
   {
    "duration": 26,
    "start_time": "2024-11-17T15:55:33.778Z"
   },
   {
    "duration": 96,
    "start_time": "2024-11-17T15:55:33.805Z"
   },
   {
    "duration": 0,
    "start_time": "2024-11-17T15:55:33.903Z"
   },
   {
    "duration": 0,
    "start_time": "2024-11-17T15:55:33.905Z"
   },
   {
    "duration": 0,
    "start_time": "2024-11-17T15:55:33.906Z"
   },
   {
    "duration": 0,
    "start_time": "2024-11-17T15:55:33.907Z"
   },
   {
    "duration": 1,
    "start_time": "2024-11-17T15:55:33.908Z"
   },
   {
    "duration": 0,
    "start_time": "2024-11-17T15:55:33.910Z"
   },
   {
    "duration": 813,
    "start_time": "2024-11-17T15:57:30.903Z"
   },
   {
    "duration": 280,
    "start_time": "2024-11-17T15:58:11.887Z"
   },
   {
    "duration": 282,
    "start_time": "2024-11-17T15:58:23.217Z"
   },
   {
    "duration": 824,
    "start_time": "2024-11-17T16:06:54.333Z"
   },
   {
    "duration": 11,
    "start_time": "2024-11-17T16:10:18.828Z"
   },
   {
    "duration": 4,
    "start_time": "2024-11-17T16:10:22.884Z"
   },
   {
    "duration": 322,
    "start_time": "2024-11-17T16:10:22.891Z"
   },
   {
    "duration": 29,
    "start_time": "2024-11-17T16:10:23.215Z"
   },
   {
    "duration": 22,
    "start_time": "2024-11-17T16:10:23.246Z"
   },
   {
    "duration": 100,
    "start_time": "2024-11-17T16:10:23.271Z"
   },
   {
    "duration": 2,
    "start_time": "2024-11-17T16:10:23.373Z"
   },
   {
    "duration": 22,
    "start_time": "2024-11-17T16:10:23.377Z"
   },
   {
    "duration": 3,
    "start_time": "2024-11-17T16:10:23.401Z"
   },
   {
    "duration": 24,
    "start_time": "2024-11-17T16:10:23.405Z"
   },
   {
    "duration": 15,
    "start_time": "2024-11-17T16:10:23.430Z"
   },
   {
    "duration": 490,
    "start_time": "2024-11-17T16:10:23.446Z"
   },
   {
    "duration": 10,
    "start_time": "2024-11-17T16:10:23.937Z"
   },
   {
    "duration": 42,
    "start_time": "2024-11-17T16:10:23.950Z"
   },
   {
    "duration": 8,
    "start_time": "2024-11-17T16:10:23.994Z"
   },
   {
    "duration": 469,
    "start_time": "2024-11-17T16:10:24.004Z"
   },
   {
    "duration": 614,
    "start_time": "2024-11-17T16:10:24.475Z"
   },
   {
    "duration": 439,
    "start_time": "2024-11-17T16:10:25.091Z"
   },
   {
    "duration": 11,
    "start_time": "2024-11-17T16:10:25.532Z"
   },
   {
    "duration": 443,
    "start_time": "2024-11-17T16:10:25.545Z"
   },
   {
    "duration": 7,
    "start_time": "2024-11-17T16:10:25.998Z"
   },
   {
    "duration": 26,
    "start_time": "2024-11-17T16:10:26.006Z"
   },
   {
    "duration": 14,
    "start_time": "2024-11-17T16:10:26.034Z"
   },
   {
    "duration": 599,
    "start_time": "2024-11-17T16:10:26.050Z"
   },
   {
    "duration": 14,
    "start_time": "2024-11-17T16:10:26.652Z"
   },
   {
    "duration": 12,
    "start_time": "2024-11-17T16:10:26.668Z"
   },
   {
    "duration": 33,
    "start_time": "2024-11-17T16:10:26.682Z"
   },
   {
    "duration": 44,
    "start_time": "2024-11-17T16:10:26.717Z"
   },
   {
    "duration": 3,
    "start_time": "2024-11-17T16:10:26.762Z"
   },
   {
    "duration": 17,
    "start_time": "2024-11-17T16:10:26.767Z"
   },
   {
    "duration": 888,
    "start_time": "2024-11-17T16:10:26.786Z"
   },
   {
    "duration": 2,
    "start_time": "2024-11-17T16:10:27.676Z"
   },
   {
    "duration": 313,
    "start_time": "2024-11-17T16:10:27.680Z"
   },
   {
    "duration": 0,
    "start_time": "2024-11-17T16:10:27.995Z"
   },
   {
    "duration": 0,
    "start_time": "2024-11-17T16:10:27.996Z"
   },
   {
    "duration": 0,
    "start_time": "2024-11-17T16:10:27.997Z"
   },
   {
    "duration": 0,
    "start_time": "2024-11-17T16:10:27.998Z"
   },
   {
    "duration": 12,
    "start_time": "2024-11-17T16:12:12.428Z"
   },
   {
    "duration": 25,
    "start_time": "2024-11-17T16:12:13.924Z"
   },
   {
    "duration": 24,
    "start_time": "2024-11-17T16:12:15.758Z"
   },
   {
    "duration": 35,
    "start_time": "2024-11-17T16:12:53.159Z"
   },
   {
    "duration": 4,
    "start_time": "2024-11-17T16:13:36.486Z"
   },
   {
    "duration": 524,
    "start_time": "2024-11-17T16:13:36.492Z"
   },
   {
    "duration": 30,
    "start_time": "2024-11-17T16:13:37.018Z"
   },
   {
    "duration": 21,
    "start_time": "2024-11-17T16:13:37.050Z"
   },
   {
    "duration": 111,
    "start_time": "2024-11-17T16:13:37.074Z"
   },
   {
    "duration": 11,
    "start_time": "2024-11-17T16:13:37.187Z"
   },
   {
    "duration": 32,
    "start_time": "2024-11-17T16:13:37.200Z"
   },
   {
    "duration": 19,
    "start_time": "2024-11-17T16:13:37.234Z"
   },
   {
    "duration": 25,
    "start_time": "2024-11-17T16:13:37.255Z"
   },
   {
    "duration": 13,
    "start_time": "2024-11-17T16:13:37.282Z"
   },
   {
    "duration": 493,
    "start_time": "2024-11-17T16:13:37.297Z"
   },
   {
    "duration": 9,
    "start_time": "2024-11-17T16:13:37.797Z"
   },
   {
    "duration": 15,
    "start_time": "2024-11-17T16:13:37.807Z"
   },
   {
    "duration": 9,
    "start_time": "2024-11-17T16:13:37.825Z"
   },
   {
    "duration": 511,
    "start_time": "2024-11-17T16:13:37.835Z"
   },
   {
    "duration": 502,
    "start_time": "2024-11-17T16:13:38.348Z"
   },
   {
    "duration": 566,
    "start_time": "2024-11-17T16:13:38.852Z"
   },
   {
    "duration": 10,
    "start_time": "2024-11-17T16:13:39.420Z"
   },
   {
    "duration": 439,
    "start_time": "2024-11-17T16:13:39.432Z"
   },
   {
    "duration": 7,
    "start_time": "2024-11-17T16:13:39.872Z"
   },
   {
    "duration": 21,
    "start_time": "2024-11-17T16:13:39.880Z"
   },
   {
    "duration": 5,
    "start_time": "2024-11-17T16:13:39.903Z"
   },
   {
    "duration": 576,
    "start_time": "2024-11-17T16:13:39.910Z"
   },
   {
    "duration": 19,
    "start_time": "2024-11-17T16:13:40.488Z"
   },
   {
    "duration": 33,
    "start_time": "2024-11-17T16:13:40.509Z"
   },
   {
    "duration": 24,
    "start_time": "2024-11-17T16:13:40.544Z"
   },
   {
    "duration": 0,
    "start_time": "2024-11-17T16:13:40.570Z"
   },
   {
    "duration": 0,
    "start_time": "2024-11-17T16:13:40.571Z"
   },
   {
    "duration": 0,
    "start_time": "2024-11-17T16:13:40.572Z"
   },
   {
    "duration": 0,
    "start_time": "2024-11-17T16:13:40.597Z"
   },
   {
    "duration": 0,
    "start_time": "2024-11-17T16:13:40.599Z"
   },
   {
    "duration": 0,
    "start_time": "2024-11-17T16:13:40.600Z"
   },
   {
    "duration": 0,
    "start_time": "2024-11-17T16:13:40.601Z"
   },
   {
    "duration": 0,
    "start_time": "2024-11-17T16:13:40.603Z"
   },
   {
    "duration": 0,
    "start_time": "2024-11-17T16:13:40.604Z"
   },
   {
    "duration": 33,
    "start_time": "2024-11-17T16:14:05.298Z"
   },
   {
    "duration": 20,
    "start_time": "2024-11-17T16:14:21.453Z"
   },
   {
    "duration": 4,
    "start_time": "2024-11-17T16:14:24.767Z"
   },
   {
    "duration": 320,
    "start_time": "2024-11-17T16:14:24.773Z"
   },
   {
    "duration": 30,
    "start_time": "2024-11-17T16:14:25.095Z"
   },
   {
    "duration": 19,
    "start_time": "2024-11-17T16:14:25.127Z"
   },
   {
    "duration": 92,
    "start_time": "2024-11-17T16:14:25.148Z"
   },
   {
    "duration": 2,
    "start_time": "2024-11-17T16:14:25.241Z"
   },
   {
    "duration": 14,
    "start_time": "2024-11-17T16:14:25.245Z"
   },
   {
    "duration": 11,
    "start_time": "2024-11-17T16:14:25.260Z"
   },
   {
    "duration": 26,
    "start_time": "2024-11-17T16:14:25.274Z"
   },
   {
    "duration": 14,
    "start_time": "2024-11-17T16:14:25.301Z"
   },
   {
    "duration": 599,
    "start_time": "2024-11-17T16:14:25.317Z"
   },
   {
    "duration": 9,
    "start_time": "2024-11-17T16:14:25.918Z"
   },
   {
    "duration": 18,
    "start_time": "2024-11-17T16:14:25.928Z"
   },
   {
    "duration": 8,
    "start_time": "2024-11-17T16:14:25.948Z"
   },
   {
    "duration": 507,
    "start_time": "2024-11-17T16:14:25.958Z"
   },
   {
    "duration": 512,
    "start_time": "2024-11-17T16:14:26.467Z"
   },
   {
    "duration": 441,
    "start_time": "2024-11-17T16:14:26.981Z"
   },
   {
    "duration": 11,
    "start_time": "2024-11-17T16:14:27.424Z"
   },
   {
    "duration": 661,
    "start_time": "2024-11-17T16:14:27.436Z"
   },
   {
    "duration": 7,
    "start_time": "2024-11-17T16:14:28.099Z"
   },
   {
    "duration": 8,
    "start_time": "2024-11-17T16:14:28.108Z"
   },
   {
    "duration": 8,
    "start_time": "2024-11-17T16:14:28.117Z"
   },
   {
    "duration": 614,
    "start_time": "2024-11-17T16:14:28.127Z"
   },
   {
    "duration": 15,
    "start_time": "2024-11-17T16:14:28.744Z"
   },
   {
    "duration": 52,
    "start_time": "2024-11-17T16:14:28.761Z"
   },
   {
    "duration": 22,
    "start_time": "2024-11-17T16:14:28.815Z"
   },
   {
    "duration": 3,
    "start_time": "2024-11-17T16:14:28.839Z"
   },
   {
    "duration": 10,
    "start_time": "2024-11-17T16:14:28.844Z"
   },
   {
    "duration": 860,
    "start_time": "2024-11-17T16:14:28.855Z"
   },
   {
    "duration": 3,
    "start_time": "2024-11-17T16:14:29.716Z"
   },
   {
    "duration": 288,
    "start_time": "2024-11-17T16:14:29.720Z"
   },
   {
    "duration": 0,
    "start_time": "2024-11-17T16:14:30.010Z"
   },
   {
    "duration": 0,
    "start_time": "2024-11-17T16:14:30.011Z"
   },
   {
    "duration": 0,
    "start_time": "2024-11-17T16:14:30.012Z"
   },
   {
    "duration": 0,
    "start_time": "2024-11-17T16:14:30.013Z"
   },
   {
    "duration": 3,
    "start_time": "2024-11-17T16:16:21.934Z"
   },
   {
    "duration": 823,
    "start_time": "2024-11-17T16:16:23.811Z"
   },
   {
    "duration": 278,
    "start_time": "2024-11-17T16:16:26.814Z"
   },
   {
    "duration": 836,
    "start_time": "2024-11-17T16:16:59.000Z"
   },
   {
    "duration": 75,
    "start_time": "2024-11-17T16:25:43.980Z"
   },
   {
    "duration": 49,
    "start_time": "2024-11-17T16:25:58.244Z"
   },
   {
    "duration": 56,
    "start_time": "2024-11-17T16:26:06.792Z"
   },
   {
    "duration": 55,
    "start_time": "2024-11-17T16:26:20.374Z"
   },
   {
    "duration": 851,
    "start_time": "2024-11-17T16:27:21.888Z"
   },
   {
    "duration": 3,
    "start_time": "2024-11-17T16:27:59.456Z"
   },
   {
    "duration": 301,
    "start_time": "2024-11-17T16:28:01.564Z"
   },
   {
    "duration": 4,
    "start_time": "2024-11-17T16:37:36.655Z"
   },
   {
    "duration": 4,
    "start_time": "2024-11-17T16:38:29.477Z"
   },
   {
    "duration": 10,
    "start_time": "2024-11-17T16:40:16.367Z"
   },
   {
    "duration": 8,
    "start_time": "2024-11-17T16:40:19.404Z"
   },
   {
    "duration": 4,
    "start_time": "2024-11-17T16:40:21.162Z"
   },
   {
    "duration": 4,
    "start_time": "2024-11-17T16:40:33.664Z"
   },
   {
    "duration": 287,
    "start_time": "2024-11-17T16:41:50.824Z"
   },
   {
    "duration": 3,
    "start_time": "2024-11-17T16:42:01.276Z"
   },
   {
    "duration": 276,
    "start_time": "2024-11-17T16:42:12.180Z"
   },
   {
    "duration": 4,
    "start_time": "2024-11-17T16:42:14.812Z"
   },
   {
    "duration": 383,
    "start_time": "2024-11-17T16:44:30.236Z"
   },
   {
    "duration": 397,
    "start_time": "2024-11-17T16:44:41.017Z"
   },
   {
    "duration": 390,
    "start_time": "2024-11-17T16:45:00.731Z"
   },
   {
    "duration": 3,
    "start_time": "2024-11-17T16:45:42.665Z"
   },
   {
    "duration": 385,
    "start_time": "2024-11-17T16:45:44.969Z"
   },
   {
    "duration": 5,
    "start_time": "2024-11-17T16:52:38.721Z"
   },
   {
    "duration": 22,
    "start_time": "2024-11-17T16:56:44.750Z"
   },
   {
    "duration": 81,
    "start_time": "2024-11-17T16:58:15.099Z"
   },
   {
    "duration": 11,
    "start_time": "2024-11-17T16:59:03.004Z"
   },
   {
    "duration": 11,
    "start_time": "2024-11-17T17:00:03.251Z"
   },
   {
    "duration": 5,
    "start_time": "2024-11-17T17:00:06.527Z"
   },
   {
    "duration": 368,
    "start_time": "2024-11-17T17:00:06.534Z"
   },
   {
    "duration": 33,
    "start_time": "2024-11-17T17:00:06.904Z"
   },
   {
    "duration": 23,
    "start_time": "2024-11-17T17:00:06.939Z"
   },
   {
    "duration": 119,
    "start_time": "2024-11-17T17:00:06.964Z"
   },
   {
    "duration": 3,
    "start_time": "2024-11-17T17:00:07.085Z"
   },
   {
    "duration": 72,
    "start_time": "2024-11-17T17:00:07.089Z"
   },
   {
    "duration": 30,
    "start_time": "2024-11-17T17:00:07.162Z"
   },
   {
    "duration": 56,
    "start_time": "2024-11-17T17:00:07.194Z"
   },
   {
    "duration": 15,
    "start_time": "2024-11-17T17:00:07.252Z"
   },
   {
    "duration": 564,
    "start_time": "2024-11-17T17:00:07.268Z"
   },
   {
    "duration": 10,
    "start_time": "2024-11-17T17:00:07.833Z"
   },
   {
    "duration": 32,
    "start_time": "2024-11-17T17:00:07.845Z"
   },
   {
    "duration": 40,
    "start_time": "2024-11-17T17:00:07.880Z"
   },
   {
    "duration": 675,
    "start_time": "2024-11-17T17:00:07.922Z"
   },
   {
    "duration": 490,
    "start_time": "2024-11-17T17:00:08.599Z"
   },
   {
    "duration": 451,
    "start_time": "2024-11-17T17:00:09.090Z"
   },
   {
    "duration": 12,
    "start_time": "2024-11-17T17:00:09.542Z"
   },
   {
    "duration": 440,
    "start_time": "2024-11-17T17:00:09.555Z"
   },
   {
    "duration": 7,
    "start_time": "2024-11-17T17:00:09.998Z"
   },
   {
    "duration": 32,
    "start_time": "2024-11-17T17:00:10.006Z"
   },
   {
    "duration": 22,
    "start_time": "2024-11-17T17:00:10.040Z"
   },
   {
    "duration": 698,
    "start_time": "2024-11-17T17:00:10.063Z"
   },
   {
    "duration": 14,
    "start_time": "2024-11-17T17:00:10.763Z"
   },
   {
    "duration": 49,
    "start_time": "2024-11-17T17:00:10.779Z"
   },
   {
    "duration": 21,
    "start_time": "2024-11-17T17:00:10.829Z"
   },
   {
    "duration": 5,
    "start_time": "2024-11-17T17:00:10.851Z"
   },
   {
    "duration": 19,
    "start_time": "2024-11-17T17:00:10.857Z"
   },
   {
    "duration": 0,
    "start_time": "2024-11-17T17:00:10.877Z"
   },
   {
    "duration": 0,
    "start_time": "2024-11-17T17:00:10.898Z"
   },
   {
    "duration": 0,
    "start_time": "2024-11-17T17:00:10.899Z"
   },
   {
    "duration": 0,
    "start_time": "2024-11-17T17:00:10.900Z"
   },
   {
    "duration": 0,
    "start_time": "2024-11-17T17:00:10.901Z"
   },
   {
    "duration": 0,
    "start_time": "2024-11-17T17:00:10.902Z"
   },
   {
    "duration": 80,
    "start_time": "2024-11-17T17:00:20.369Z"
   },
   {
    "duration": 86,
    "start_time": "2024-11-17T17:01:20.708Z"
   },
   {
    "duration": 21,
    "start_time": "2024-11-17T17:01:41.122Z"
   },
   {
    "duration": 841,
    "start_time": "2024-11-17T17:01:45.688Z"
   },
   {
    "duration": 81,
    "start_time": "2024-11-17T17:02:21.483Z"
   },
   {
    "duration": 858,
    "start_time": "2024-11-17T17:03:02.198Z"
   },
   {
    "duration": 75,
    "start_time": "2024-11-17T17:03:21.276Z"
   },
   {
    "duration": 826,
    "start_time": "2024-11-17T17:03:29.715Z"
   },
   {
    "duration": 4,
    "start_time": "2024-11-17T17:03:37.028Z"
   },
   {
    "duration": 854,
    "start_time": "2024-11-17T17:03:37.034Z"
   },
   {
    "duration": 83,
    "start_time": "2024-11-17T17:03:37.889Z"
   },
   {
    "duration": 0,
    "start_time": "2024-11-17T17:03:37.974Z"
   },
   {
    "duration": 0,
    "start_time": "2024-11-17T17:03:37.975Z"
   },
   {
    "duration": 0,
    "start_time": "2024-11-17T17:03:37.977Z"
   },
   {
    "duration": 0,
    "start_time": "2024-11-17T17:03:37.998Z"
   },
   {
    "duration": 0,
    "start_time": "2024-11-17T17:03:38.000Z"
   },
   {
    "duration": 0,
    "start_time": "2024-11-17T17:03:38.001Z"
   },
   {
    "duration": 4,
    "start_time": "2024-11-17T17:04:43.069Z"
   },
   {
    "duration": 345,
    "start_time": "2024-11-17T17:04:43.075Z"
   },
   {
    "duration": 29,
    "start_time": "2024-11-17T17:04:43.422Z"
   },
   {
    "duration": 22,
    "start_time": "2024-11-17T17:04:43.453Z"
   },
   {
    "duration": 95,
    "start_time": "2024-11-17T17:04:43.497Z"
   },
   {
    "duration": 3,
    "start_time": "2024-11-17T17:04:43.593Z"
   },
   {
    "duration": 12,
    "start_time": "2024-11-17T17:04:43.597Z"
   },
   {
    "duration": 2,
    "start_time": "2024-11-17T17:04:43.611Z"
   },
   {
    "duration": 31,
    "start_time": "2024-11-17T17:04:43.615Z"
   },
   {
    "duration": 15,
    "start_time": "2024-11-17T17:04:43.649Z"
   },
   {
    "duration": 472,
    "start_time": "2024-11-17T17:04:43.666Z"
   },
   {
    "duration": 9,
    "start_time": "2024-11-17T17:04:44.140Z"
   },
   {
    "duration": 18,
    "start_time": "2024-11-17T17:04:44.150Z"
   },
   {
    "duration": 27,
    "start_time": "2024-11-17T17:04:44.171Z"
   },
   {
    "duration": 478,
    "start_time": "2024-11-17T17:04:44.199Z"
   },
   {
    "duration": 587,
    "start_time": "2024-11-17T17:04:44.679Z"
   },
   {
    "duration": 434,
    "start_time": "2024-11-17T17:04:45.267Z"
   },
   {
    "duration": 11,
    "start_time": "2024-11-17T17:04:45.702Z"
   },
   {
    "duration": 428,
    "start_time": "2024-11-17T17:04:45.714Z"
   },
   {
    "duration": 6,
    "start_time": "2024-11-17T17:04:46.144Z"
   },
   {
    "duration": 9,
    "start_time": "2024-11-17T17:04:46.152Z"
   },
   {
    "duration": 6,
    "start_time": "2024-11-17T17:04:46.162Z"
   },
   {
    "duration": 689,
    "start_time": "2024-11-17T17:04:46.170Z"
   },
   {
    "duration": 14,
    "start_time": "2024-11-17T17:04:46.861Z"
   },
   {
    "duration": 51,
    "start_time": "2024-11-17T17:04:46.876Z"
   },
   {
    "duration": 20,
    "start_time": "2024-11-17T17:04:46.928Z"
   },
   {
    "duration": 3,
    "start_time": "2024-11-17T17:04:46.950Z"
   },
   {
    "duration": 863,
    "start_time": "2024-11-17T17:04:46.955Z"
   },
   {
    "duration": 878,
    "start_time": "2024-11-17T17:04:47.820Z"
   },
   {
    "duration": 2,
    "start_time": "2024-11-17T17:04:48.699Z"
   },
   {
    "duration": 278,
    "start_time": "2024-11-17T17:04:48.702Z"
   },
   {
    "duration": 0,
    "start_time": "2024-11-17T17:04:48.981Z"
   },
   {
    "duration": 0,
    "start_time": "2024-11-17T17:04:48.982Z"
   },
   {
    "duration": 0,
    "start_time": "2024-11-17T17:04:48.983Z"
   },
   {
    "duration": 0,
    "start_time": "2024-11-17T17:04:48.984Z"
   },
   {
    "duration": 571,
    "start_time": "2024-11-17T17:05:48.877Z"
   },
   {
    "duration": 546,
    "start_time": "2024-11-17T17:06:57.091Z"
   },
   {
    "duration": 764,
    "start_time": "2024-11-17T17:07:12.222Z"
   },
   {
    "duration": 768,
    "start_time": "2024-11-17T17:07:20.401Z"
   },
   {
    "duration": 284,
    "start_time": "2024-11-17T17:47:55.135Z"
   },
   {
    "duration": 270,
    "start_time": "2024-11-17T17:47:56.676Z"
   },
   {
    "duration": 300,
    "start_time": "2024-11-17T18:18:54.096Z"
   },
   {
    "duration": 294,
    "start_time": "2024-11-17T18:18:55.251Z"
   },
   {
    "duration": 5,
    "start_time": "2024-11-17T18:20:35.520Z"
   },
   {
    "duration": 371,
    "start_time": "2024-11-17T18:20:35.527Z"
   },
   {
    "duration": 38,
    "start_time": "2024-11-17T18:20:35.901Z"
   },
   {
    "duration": 22,
    "start_time": "2024-11-17T18:20:35.941Z"
   },
   {
    "duration": 118,
    "start_time": "2024-11-17T18:20:35.966Z"
   },
   {
    "duration": 3,
    "start_time": "2024-11-17T18:20:36.085Z"
   },
   {
    "duration": 37,
    "start_time": "2024-11-17T18:20:36.098Z"
   },
   {
    "duration": 21,
    "start_time": "2024-11-17T18:20:36.137Z"
   },
   {
    "duration": 26,
    "start_time": "2024-11-17T18:20:36.160Z"
   },
   {
    "duration": 17,
    "start_time": "2024-11-17T18:20:36.188Z"
   },
   {
    "duration": 534,
    "start_time": "2024-11-17T18:20:36.208Z"
   },
   {
    "duration": 10,
    "start_time": "2024-11-17T18:20:36.744Z"
   },
   {
    "duration": 41,
    "start_time": "2024-11-17T18:20:36.755Z"
   },
   {
    "duration": 18,
    "start_time": "2024-11-17T18:20:36.800Z"
   },
   {
    "duration": 546,
    "start_time": "2024-11-17T18:20:36.821Z"
   },
   {
    "duration": 704,
    "start_time": "2024-11-17T18:20:37.369Z"
   },
   {
    "duration": 520,
    "start_time": "2024-11-17T18:20:38.074Z"
   },
   {
    "duration": 14,
    "start_time": "2024-11-17T18:20:38.597Z"
   },
   {
    "duration": 498,
    "start_time": "2024-11-17T18:20:38.613Z"
   },
   {
    "duration": 10,
    "start_time": "2024-11-17T18:20:39.113Z"
   },
   {
    "duration": 13,
    "start_time": "2024-11-17T18:20:39.124Z"
   },
   {
    "duration": 19,
    "start_time": "2024-11-17T18:20:39.138Z"
   },
   {
    "duration": 681,
    "start_time": "2024-11-17T18:20:39.159Z"
   },
   {
    "duration": 14,
    "start_time": "2024-11-17T18:20:39.842Z"
   },
   {
    "duration": 66,
    "start_time": "2024-11-17T18:20:39.858Z"
   },
   {
    "duration": 22,
    "start_time": "2024-11-17T18:20:39.926Z"
   },
   {
    "duration": 4,
    "start_time": "2024-11-17T18:20:39.950Z"
   },
   {
    "duration": 929,
    "start_time": "2024-11-17T18:20:39.955Z"
   },
   {
    "duration": 960,
    "start_time": "2024-11-17T18:20:40.886Z"
   },
   {
    "duration": 840,
    "start_time": "2024-11-17T18:20:41.848Z"
   },
   {
    "duration": 305,
    "start_time": "2024-11-17T18:20:42.690Z"
   },
   {
    "duration": 300,
    "start_time": "2024-11-17T18:20:42.998Z"
   },
   {
    "duration": 275,
    "start_time": "2024-11-17T18:20:43.301Z"
   },
   {
    "duration": 0,
    "start_time": "2024-11-17T18:25:51.499Z"
   },
   {
    "duration": 0,
    "start_time": "2024-11-17T18:25:51.501Z"
   },
   {
    "duration": 0,
    "start_time": "2024-11-17T18:25:51.503Z"
   },
   {
    "duration": 0,
    "start_time": "2024-11-17T18:25:51.505Z"
   },
   {
    "duration": 0,
    "start_time": "2024-11-17T18:25:51.508Z"
   },
   {
    "duration": 0,
    "start_time": "2024-11-17T18:25:51.510Z"
   },
   {
    "duration": 0,
    "start_time": "2024-11-17T18:25:51.512Z"
   },
   {
    "duration": 0,
    "start_time": "2024-11-17T18:25:51.514Z"
   },
   {
    "duration": 0,
    "start_time": "2024-11-17T18:25:51.517Z"
   },
   {
    "duration": 0,
    "start_time": "2024-11-17T18:25:51.518Z"
   },
   {
    "duration": 0,
    "start_time": "2024-11-17T18:25:51.521Z"
   },
   {
    "duration": 0,
    "start_time": "2024-11-17T18:25:51.523Z"
   },
   {
    "duration": 0,
    "start_time": "2024-11-17T18:25:51.525Z"
   },
   {
    "duration": 0,
    "start_time": "2024-11-17T18:25:51.527Z"
   },
   {
    "duration": 0,
    "start_time": "2024-11-17T18:25:51.529Z"
   },
   {
    "duration": 0,
    "start_time": "2024-11-17T18:25:51.531Z"
   },
   {
    "duration": 0,
    "start_time": "2024-11-17T18:25:51.533Z"
   },
   {
    "duration": 0,
    "start_time": "2024-11-17T18:25:51.535Z"
   },
   {
    "duration": 0,
    "start_time": "2024-11-17T18:25:51.537Z"
   },
   {
    "duration": 0,
    "start_time": "2024-11-17T18:25:51.599Z"
   },
   {
    "duration": 0,
    "start_time": "2024-11-17T18:25:51.601Z"
   },
   {
    "duration": 0,
    "start_time": "2024-11-17T18:25:51.603Z"
   },
   {
    "duration": 0,
    "start_time": "2024-11-17T18:25:51.605Z"
   },
   {
    "duration": 0,
    "start_time": "2024-11-17T18:25:51.607Z"
   },
   {
    "duration": 0,
    "start_time": "2024-11-17T18:25:51.609Z"
   },
   {
    "duration": 0,
    "start_time": "2024-11-17T18:25:51.611Z"
   },
   {
    "duration": 0,
    "start_time": "2024-11-17T18:25:51.613Z"
   },
   {
    "duration": 0,
    "start_time": "2024-11-17T18:25:51.614Z"
   },
   {
    "duration": 0,
    "start_time": "2024-11-17T18:25:51.617Z"
   },
   {
    "duration": 0,
    "start_time": "2024-11-17T18:25:51.619Z"
   },
   {
    "duration": 0,
    "start_time": "2024-11-17T18:25:51.621Z"
   },
   {
    "duration": 0,
    "start_time": "2024-11-17T18:25:51.623Z"
   },
   {
    "duration": 0,
    "start_time": "2024-11-17T18:25:51.625Z"
   },
   {
    "duration": 0,
    "start_time": "2024-11-17T18:25:51.628Z"
   },
   {
    "duration": 0,
    "start_time": "2024-11-17T18:25:51.630Z"
   },
   {
    "duration": 4,
    "start_time": "2024-11-17T18:26:54.633Z"
   },
   {
    "duration": 349,
    "start_time": "2024-11-17T18:26:54.639Z"
   },
   {
    "duration": 37,
    "start_time": "2024-11-17T18:26:54.990Z"
   },
   {
    "duration": 20,
    "start_time": "2024-11-17T18:26:55.030Z"
   },
   {
    "duration": 110,
    "start_time": "2024-11-17T18:26:55.052Z"
   },
   {
    "duration": 3,
    "start_time": "2024-11-17T18:26:55.163Z"
   },
   {
    "duration": 8,
    "start_time": "2024-11-17T18:26:55.167Z"
   },
   {
    "duration": 2,
    "start_time": "2024-11-17T18:26:55.178Z"
   },
   {
    "duration": 42,
    "start_time": "2024-11-17T18:26:55.182Z"
   },
   {
    "duration": 14,
    "start_time": "2024-11-17T18:26:55.229Z"
   },
   {
    "duration": 542,
    "start_time": "2024-11-17T18:26:55.245Z"
   },
   {
    "duration": 18,
    "start_time": "2024-11-17T18:26:55.789Z"
   },
   {
    "duration": 33,
    "start_time": "2024-11-17T18:26:55.809Z"
   },
   {
    "duration": 8,
    "start_time": "2024-11-17T18:26:55.844Z"
   },
   {
    "duration": 525,
    "start_time": "2024-11-17T18:26:55.853Z"
   },
   {
    "duration": 546,
    "start_time": "2024-11-17T18:26:56.380Z"
   },
   {
    "duration": 597,
    "start_time": "2024-11-17T18:26:56.928Z"
   },
   {
    "duration": 13,
    "start_time": "2024-11-17T18:26:57.528Z"
   },
   {
    "duration": 504,
    "start_time": "2024-11-17T18:26:57.543Z"
   },
   {
    "duration": 6,
    "start_time": "2024-11-17T18:26:58.049Z"
   },
   {
    "duration": 6,
    "start_time": "2024-11-17T18:26:58.057Z"
   },
   {
    "duration": 9,
    "start_time": "2024-11-17T18:26:58.065Z"
   },
   {
    "duration": 689,
    "start_time": "2024-11-17T18:26:58.075Z"
   },
   {
    "duration": 16,
    "start_time": "2024-11-17T18:26:58.767Z"
   },
   {
    "duration": 44,
    "start_time": "2024-11-17T18:26:58.799Z"
   },
   {
    "duration": 20,
    "start_time": "2024-11-17T18:26:58.845Z"
   },
   {
    "duration": 4,
    "start_time": "2024-11-17T18:26:58.866Z"
   },
   {
    "duration": 949,
    "start_time": "2024-11-17T18:26:58.873Z"
   },
   {
    "duration": 927,
    "start_time": "2024-11-17T18:26:59.824Z"
   },
   {
    "duration": 846,
    "start_time": "2024-11-17T18:27:00.753Z"
   },
   {
    "duration": 332,
    "start_time": "2024-11-17T18:27:01.601Z"
   },
   {
    "duration": 0,
    "start_time": "2024-11-17T18:27:01.935Z"
   },
   {
    "duration": 0,
    "start_time": "2024-11-17T18:27:01.937Z"
   },
   {
    "duration": 0,
    "start_time": "2024-11-17T18:27:01.938Z"
   },
   {
    "duration": 0,
    "start_time": "2024-11-17T18:27:01.940Z"
   },
   {
    "duration": 286,
    "start_time": "2024-11-17T18:27:22.713Z"
   },
   {
    "duration": 202,
    "start_time": "2024-11-17T18:27:33.302Z"
   },
   {
    "duration": 269,
    "start_time": "2024-11-17T18:28:13.659Z"
   },
   {
    "duration": 5,
    "start_time": "2024-11-17T18:32:07.272Z"
   },
   {
    "duration": 401,
    "start_time": "2024-11-17T18:32:07.279Z"
   },
   {
    "duration": 49,
    "start_time": "2024-11-17T18:32:07.682Z"
   },
   {
    "duration": 45,
    "start_time": "2024-11-17T18:32:07.734Z"
   },
   {
    "duration": 110,
    "start_time": "2024-11-17T18:32:07.781Z"
   },
   {
    "duration": 10,
    "start_time": "2024-11-17T18:32:07.893Z"
   },
   {
    "duration": 43,
    "start_time": "2024-11-17T18:32:07.908Z"
   },
   {
    "duration": 6,
    "start_time": "2024-11-17T18:32:07.953Z"
   },
   {
    "duration": 44,
    "start_time": "2024-11-17T18:32:07.961Z"
   },
   {
    "duration": 28,
    "start_time": "2024-11-17T18:32:08.007Z"
   },
   {
    "duration": 753,
    "start_time": "2024-11-17T18:32:08.038Z"
   },
   {
    "duration": 20,
    "start_time": "2024-11-17T18:32:08.797Z"
   },
   {
    "duration": 30,
    "start_time": "2024-11-17T18:32:08.820Z"
   },
   {
    "duration": 9,
    "start_time": "2024-11-17T18:32:08.852Z"
   },
   {
    "duration": 621,
    "start_time": "2024-11-17T18:32:08.863Z"
   },
   {
    "duration": 588,
    "start_time": "2024-11-17T18:32:09.485Z"
   },
   {
    "duration": 493,
    "start_time": "2024-11-17T18:32:10.074Z"
   },
   {
    "duration": 10,
    "start_time": "2024-11-17T18:32:10.569Z"
   },
   {
    "duration": 638,
    "start_time": "2024-11-17T18:32:10.581Z"
   },
   {
    "duration": 8,
    "start_time": "2024-11-17T18:32:11.222Z"
   },
   {
    "duration": 10,
    "start_time": "2024-11-17T18:32:11.232Z"
   },
   {
    "duration": 6,
    "start_time": "2024-11-17T18:32:11.244Z"
   },
   {
    "duration": 703,
    "start_time": "2024-11-17T18:32:11.252Z"
   },
   {
    "duration": 14,
    "start_time": "2024-11-17T18:32:11.957Z"
   },
   {
    "duration": 59,
    "start_time": "2024-11-17T18:32:11.973Z"
   },
   {
    "duration": 23,
    "start_time": "2024-11-17T18:32:12.034Z"
   },
   {
    "duration": 9,
    "start_time": "2024-11-17T18:32:12.058Z"
   },
   {
    "duration": 980,
    "start_time": "2024-11-17T18:32:12.069Z"
   },
   {
    "duration": 963,
    "start_time": "2024-11-17T18:32:13.051Z"
   },
   {
    "duration": 865,
    "start_time": "2024-11-17T18:32:14.016Z"
   },
   {
    "duration": 444,
    "start_time": "2024-11-17T18:32:14.883Z"
   },
   {
    "duration": 598,
    "start_time": "2024-11-17T18:32:15.329Z"
   },
   {
    "duration": 353,
    "start_time": "2024-11-17T18:32:15.999Z"
   },
   {
    "duration": 5,
    "start_time": "2024-11-17T18:32:36.017Z"
   },
   {
    "duration": 408,
    "start_time": "2024-11-17T18:32:36.024Z"
   },
   {
    "duration": 33,
    "start_time": "2024-11-17T18:32:36.434Z"
   },
   {
    "duration": 43,
    "start_time": "2024-11-17T18:32:36.469Z"
   },
   {
    "duration": 116,
    "start_time": "2024-11-17T18:32:36.515Z"
   },
   {
    "duration": 5,
    "start_time": "2024-11-17T18:32:36.633Z"
   },
   {
    "duration": 25,
    "start_time": "2024-11-17T18:32:36.640Z"
   },
   {
    "duration": 8,
    "start_time": "2024-11-17T18:32:36.667Z"
   },
   {
    "duration": 35,
    "start_time": "2024-11-17T18:32:36.676Z"
   },
   {
    "duration": 22,
    "start_time": "2024-11-17T18:32:36.717Z"
   },
   {
    "duration": 591,
    "start_time": "2024-11-17T18:32:36.741Z"
   },
   {
    "duration": 12,
    "start_time": "2024-11-17T18:32:37.334Z"
   },
   {
    "duration": 19,
    "start_time": "2024-11-17T18:32:37.348Z"
   },
   {
    "duration": 41,
    "start_time": "2024-11-17T18:32:37.372Z"
   },
   {
    "duration": 712,
    "start_time": "2024-11-17T18:32:37.423Z"
   },
   {
    "duration": 611,
    "start_time": "2024-11-17T18:32:38.137Z"
   },
   {
    "duration": 516,
    "start_time": "2024-11-17T18:32:38.750Z"
   },
   {
    "duration": 10,
    "start_time": "2024-11-17T18:32:39.268Z"
   },
   {
    "duration": 491,
    "start_time": "2024-11-17T18:32:39.280Z"
   },
   {
    "duration": 6,
    "start_time": "2024-11-17T18:32:39.773Z"
   },
   {
    "duration": 17,
    "start_time": "2024-11-17T18:32:39.781Z"
   },
   {
    "duration": 15,
    "start_time": "2024-11-17T18:32:39.799Z"
   },
   {
    "duration": 825,
    "start_time": "2024-11-17T18:32:39.819Z"
   },
   {
    "duration": 15,
    "start_time": "2024-11-17T18:32:40.646Z"
   },
   {
    "duration": 54,
    "start_time": "2024-11-17T18:32:40.663Z"
   },
   {
    "duration": 28,
    "start_time": "2024-11-17T18:32:40.720Z"
   },
   {
    "duration": 9,
    "start_time": "2024-11-17T18:32:40.750Z"
   },
   {
    "duration": 924,
    "start_time": "2024-11-17T18:32:40.760Z"
   },
   {
    "duration": 895,
    "start_time": "2024-11-17T18:32:41.685Z"
   },
   {
    "duration": 800,
    "start_time": "2024-11-17T18:32:42.582Z"
   },
   {
    "duration": 225,
    "start_time": "2024-11-17T18:32:43.384Z"
   },
   {
    "duration": 291,
    "start_time": "2024-11-17T18:32:43.611Z"
   },
   {
    "duration": 346,
    "start_time": "2024-11-17T18:32:43.909Z"
   },
   {
    "duration": 9,
    "start_time": "2024-11-17T19:27:38.577Z"
   },
   {
    "duration": 341,
    "start_time": "2024-11-17T19:27:39.636Z"
   },
   {
    "duration": 31,
    "start_time": "2024-11-17T19:27:40.092Z"
   },
   {
    "duration": 25,
    "start_time": "2024-11-17T19:27:40.230Z"
   },
   {
    "duration": 86,
    "start_time": "2024-11-17T19:27:40.465Z"
   },
   {
    "duration": 7,
    "start_time": "2024-11-17T19:27:40.665Z"
   },
   {
    "duration": 7,
    "start_time": "2024-11-17T19:27:40.751Z"
   },
   {
    "duration": 3,
    "start_time": "2024-11-17T19:27:42.348Z"
   },
   {
    "duration": 44,
    "start_time": "2024-11-17T19:27:42.475Z"
   },
   {
    "duration": 13,
    "start_time": "2024-11-17T19:27:42.636Z"
   },
   {
    "duration": 627,
    "start_time": "2024-11-17T19:27:43.686Z"
   },
   {
    "duration": 12,
    "start_time": "2024-11-17T19:27:45.838Z"
   },
   {
    "duration": 40,
    "start_time": "2024-11-17T19:27:47.568Z"
   },
   {
    "duration": 8,
    "start_time": "2024-11-17T19:27:49.162Z"
   },
   {
    "duration": 505,
    "start_time": "2024-11-17T19:27:50.378Z"
   },
   {
    "duration": 673,
    "start_time": "2024-11-17T19:27:53.386Z"
   },
   {
    "duration": 439,
    "start_time": "2024-11-17T19:27:55.030Z"
   },
   {
    "duration": 11,
    "start_time": "2024-11-17T19:27:55.572Z"
   },
   {
    "duration": 456,
    "start_time": "2024-11-17T19:27:56.674Z"
   },
   {
    "duration": 10,
    "start_time": "2024-11-17T19:27:59.105Z"
   },
   {
    "duration": 10,
    "start_time": "2024-11-17T19:27:59.227Z"
   },
   {
    "duration": 7,
    "start_time": "2024-11-17T19:27:59.410Z"
   },
   {
    "duration": 603,
    "start_time": "2024-11-17T19:28:00.884Z"
   },
   {
    "duration": 58,
    "start_time": "2024-11-17T19:28:01.579Z"
   },
   {
    "duration": 49,
    "start_time": "2024-11-17T19:28:04.384Z"
   },
   {
    "duration": 0,
    "start_time": "2024-11-17T19:28:07.142Z"
   },
   {
    "duration": 0,
    "start_time": "2024-11-17T19:28:07.149Z"
   },
   {
    "duration": 0,
    "start_time": "2024-11-17T19:28:07.155Z"
   },
   {
    "duration": 0,
    "start_time": "2024-11-17T19:28:07.161Z"
   },
   {
    "duration": 0,
    "start_time": "2024-11-17T19:28:07.199Z"
   },
   {
    "duration": 0,
    "start_time": "2024-11-17T19:28:07.206Z"
   },
   {
    "duration": 0,
    "start_time": "2024-11-17T19:28:07.219Z"
   },
   {
    "duration": 0,
    "start_time": "2024-11-17T19:28:07.225Z"
   },
   {
    "duration": 0,
    "start_time": "2024-11-17T19:28:07.227Z"
   },
   {
    "duration": 0,
    "start_time": "2024-11-17T19:28:07.232Z"
   },
   {
    "duration": 0,
    "start_time": "2024-11-17T19:28:07.236Z"
   },
   {
    "duration": 0,
    "start_time": "2024-11-17T19:28:07.241Z"
   },
   {
    "duration": 3,
    "start_time": "2024-11-17T19:29:30.267Z"
   },
   {
    "duration": 378,
    "start_time": "2024-11-17T19:29:30.272Z"
   },
   {
    "duration": 30,
    "start_time": "2024-11-17T19:29:30.652Z"
   },
   {
    "duration": 38,
    "start_time": "2024-11-17T19:29:30.684Z"
   },
   {
    "duration": 105,
    "start_time": "2024-11-17T19:29:30.724Z"
   },
   {
    "duration": 3,
    "start_time": "2024-11-17T19:29:30.830Z"
   },
   {
    "duration": 12,
    "start_time": "2024-11-17T19:29:30.834Z"
   },
   {
    "duration": 2,
    "start_time": "2024-11-17T19:29:30.848Z"
   },
   {
    "duration": 176,
    "start_time": "2024-11-17T19:29:30.852Z"
   },
   {
    "duration": 14,
    "start_time": "2024-11-17T19:29:31.031Z"
   },
   {
    "duration": 504,
    "start_time": "2024-11-17T19:29:31.047Z"
   },
   {
    "duration": 10,
    "start_time": "2024-11-17T19:29:31.553Z"
   },
   {
    "duration": 15,
    "start_time": "2024-11-17T19:29:31.566Z"
   },
   {
    "duration": 11,
    "start_time": "2024-11-17T19:29:31.598Z"
   },
   {
    "duration": 508,
    "start_time": "2024-11-17T19:29:31.610Z"
   },
   {
    "duration": 503,
    "start_time": "2024-11-17T19:29:32.119Z"
   },
   {
    "duration": 568,
    "start_time": "2024-11-17T19:29:32.623Z"
   },
   {
    "duration": 21,
    "start_time": "2024-11-17T19:29:33.197Z"
   },
   {
    "duration": 468,
    "start_time": "2024-11-17T19:29:33.220Z"
   },
   {
    "duration": 15,
    "start_time": "2024-11-17T19:29:33.698Z"
   },
   {
    "duration": 14,
    "start_time": "2024-11-17T19:29:33.716Z"
   },
   {
    "duration": 7,
    "start_time": "2024-11-17T19:29:33.732Z"
   },
   {
    "duration": 652,
    "start_time": "2024-11-17T19:29:33.740Z"
   },
   {
    "duration": 21,
    "start_time": "2024-11-17T19:29:34.399Z"
   },
   {
    "duration": 41,
    "start_time": "2024-11-17T19:29:34.422Z"
   },
   {
    "duration": 55,
    "start_time": "2024-11-17T19:29:34.466Z"
   },
   {
    "duration": 5,
    "start_time": "2024-11-17T19:29:34.523Z"
   },
   {
    "duration": 880,
    "start_time": "2024-11-17T19:29:34.529Z"
   },
   {
    "duration": 872,
    "start_time": "2024-11-17T19:29:35.413Z"
   },
   {
    "duration": 806,
    "start_time": "2024-11-17T19:29:36.286Z"
   },
   {
    "duration": 206,
    "start_time": "2024-11-17T19:29:37.097Z"
   },
   {
    "duration": 503,
    "start_time": "2024-11-17T19:29:37.313Z"
   },
   {
    "duration": 8,
    "start_time": "2024-11-17T19:29:37.818Z"
   },
   {
    "duration": 259962,
    "start_time": "2024-11-17T19:29:37.829Z"
   },
   {
    "duration": 261842,
    "start_time": "2024-11-17T19:33:57.797Z"
   },
   {
    "duration": 23095,
    "start_time": "2024-11-17T19:38:19.641Z"
   },
   {
    "duration": 0,
    "start_time": "2024-11-17T19:38:42.737Z"
   },
   {
    "duration": 29489,
    "start_time": "2024-11-17T19:42:38.469Z"
   },
   {
    "duration": 51,
    "start_time": "2024-11-17T21:29:19.584Z"
   },
   {
    "duration": 0,
    "start_time": "2024-11-17T21:29:19.637Z"
   },
   {
    "duration": 1543,
    "start_time": "2024-11-17T21:30:05.528Z"
   },
   {
    "duration": 422,
    "start_time": "2024-11-17T21:30:07.073Z"
   },
   {
    "duration": 25,
    "start_time": "2024-11-17T21:30:07.496Z"
   },
   {
    "duration": 17,
    "start_time": "2024-11-17T21:30:07.522Z"
   },
   {
    "duration": 414,
    "start_time": "2024-11-17T21:30:07.541Z"
   },
   {
    "duration": 2,
    "start_time": "2024-11-17T21:30:07.957Z"
   },
   {
    "duration": 72,
    "start_time": "2024-11-17T21:30:07.961Z"
   },
   {
    "duration": 7,
    "start_time": "2024-11-17T21:30:08.034Z"
   },
   {
    "duration": 59,
    "start_time": "2024-11-17T21:30:08.042Z"
   },
   {
    "duration": 11,
    "start_time": "2024-11-17T21:30:08.102Z"
   },
   {
    "duration": 393,
    "start_time": "2024-11-17T21:30:08.114Z"
   },
   {
    "duration": 8,
    "start_time": "2024-11-17T21:30:08.508Z"
   },
   {
    "duration": 43,
    "start_time": "2024-11-17T21:30:08.517Z"
   },
   {
    "duration": 7,
    "start_time": "2024-11-17T21:30:08.563Z"
   },
   {
    "duration": 470,
    "start_time": "2024-11-17T21:30:08.571Z"
   },
   {
    "duration": 411,
    "start_time": "2024-11-17T21:30:09.042Z"
   },
   {
    "duration": 348,
    "start_time": "2024-11-17T21:30:09.454Z"
   },
   {
    "duration": 11,
    "start_time": "2024-11-17T21:30:09.804Z"
   },
   {
    "duration": 465,
    "start_time": "2024-11-17T21:30:09.816Z"
   },
   {
    "duration": 6,
    "start_time": "2024-11-17T21:30:10.282Z"
   },
   {
    "duration": 19,
    "start_time": "2024-11-17T21:30:10.290Z"
   },
   {
    "duration": 6,
    "start_time": "2024-11-17T21:30:10.311Z"
   },
   {
    "duration": 499,
    "start_time": "2024-11-17T21:30:10.318Z"
   },
   {
    "duration": 12,
    "start_time": "2024-11-17T21:30:10.818Z"
   },
   {
    "duration": 58,
    "start_time": "2024-11-17T21:30:10.832Z"
   },
   {
    "duration": 88,
    "start_time": "2024-11-17T21:30:10.891Z"
   },
   {
    "duration": 0,
    "start_time": "2024-11-17T21:30:10.980Z"
   },
   {
    "duration": 0,
    "start_time": "2024-11-17T21:30:10.981Z"
   },
   {
    "duration": 0,
    "start_time": "2024-11-17T21:30:10.982Z"
   },
   {
    "duration": 0,
    "start_time": "2024-11-17T21:30:10.983Z"
   },
   {
    "duration": 0,
    "start_time": "2024-11-17T21:30:10.984Z"
   },
   {
    "duration": 0,
    "start_time": "2024-11-17T21:30:10.985Z"
   },
   {
    "duration": 0,
    "start_time": "2024-11-17T21:30:10.985Z"
   },
   {
    "duration": 0,
    "start_time": "2024-11-17T21:30:10.986Z"
   },
   {
    "duration": 0,
    "start_time": "2024-11-17T21:30:10.987Z"
   },
   {
    "duration": 0,
    "start_time": "2024-11-17T21:30:10.988Z"
   },
   {
    "duration": 0,
    "start_time": "2024-11-17T21:30:10.989Z"
   },
   {
    "duration": 24,
    "start_time": "2024-11-17T21:30:58.253Z"
   },
   {
    "duration": 16,
    "start_time": "2024-11-17T21:31:09.546Z"
   },
   {
    "duration": 3,
    "start_time": "2024-11-17T21:31:14.911Z"
   },
   {
    "duration": 860,
    "start_time": "2024-11-17T21:31:14.916Z"
   },
   {
    "duration": 852,
    "start_time": "2024-11-17T21:31:15.777Z"
   },
   {
    "duration": 9,
    "start_time": "2024-11-17T21:31:16.631Z"
   },
   {
    "duration": 0,
    "start_time": "2024-11-17T21:31:16.642Z"
   },
   {
    "duration": 0,
    "start_time": "2024-11-17T21:31:16.643Z"
   },
   {
    "duration": 0,
    "start_time": "2024-11-17T21:31:16.644Z"
   },
   {
    "duration": 0,
    "start_time": "2024-11-17T21:31:16.645Z"
   },
   {
    "duration": 0,
    "start_time": "2024-11-17T21:31:16.646Z"
   },
   {
    "duration": 0,
    "start_time": "2024-11-17T21:31:16.647Z"
   },
   {
    "duration": 0,
    "start_time": "2024-11-17T21:31:16.648Z"
   },
   {
    "duration": 728,
    "start_time": "2024-11-17T21:31:54.994Z"
   },
   {
    "duration": 137,
    "start_time": "2024-11-17T21:32:03.771Z"
   },
   {
    "duration": 199,
    "start_time": "2024-11-17T21:32:03.910Z"
   },
   {
    "duration": 4,
    "start_time": "2024-11-17T21:32:04.111Z"
   },
   {
    "duration": 249351,
    "start_time": "2024-11-17T21:32:04.117Z"
   },
   {
    "duration": 254181,
    "start_time": "2024-11-17T21:36:13.470Z"
   },
   {
    "duration": 28130,
    "start_time": "2024-11-17T21:40:27.652Z"
   },
   {
    "duration": 41,
    "start_time": "2024-11-17T21:40:55.784Z"
   },
   {
    "duration": 249290,
    "start_time": "2024-11-17T21:48:26.908Z"
   },
   {
    "duration": 252173,
    "start_time": "2024-11-17T21:52:36.199Z"
   },
   {
    "duration": 28570,
    "start_time": "2024-11-17T21:56:48.374Z"
   },
   {
    "duration": 552,
    "start_time": "2024-11-17T21:57:16.946Z"
   },
   {
    "duration": 520,
    "start_time": "2024-11-17T21:58:46.372Z"
   },
   {
    "duration": 534,
    "start_time": "2024-11-17T21:58:57.997Z"
   },
   {
    "duration": 14,
    "start_time": "2024-11-17T22:00:24.190Z"
   },
   {
    "duration": 28,
    "start_time": "2024-11-17T22:00:50.100Z"
   },
   {
    "duration": 28,
    "start_time": "2024-11-17T22:01:03.529Z"
   },
   {
    "duration": 22,
    "start_time": "2024-11-17T22:01:28.808Z"
   },
   {
    "duration": 521,
    "start_time": "2024-11-17T22:07:54.379Z"
   },
   {
    "duration": 345,
    "start_time": "2024-11-17T22:08:05.101Z"
   },
   {
    "duration": 19,
    "start_time": "2024-11-17T22:08:32.805Z"
   },
   {
    "duration": 323,
    "start_time": "2024-11-17T22:09:10.817Z"
   },
   {
    "duration": 298,
    "start_time": "2024-11-17T22:09:23.444Z"
   },
   {
    "duration": 19,
    "start_time": "2024-11-17T22:09:35.783Z"
   },
   {
    "duration": 3,
    "start_time": "2024-11-17T22:10:15.280Z"
   },
   {
    "duration": 378,
    "start_time": "2024-11-17T22:10:15.285Z"
   },
   {
    "duration": 231,
    "start_time": "2024-11-17T22:10:15.664Z"
   },
   {
    "duration": 24,
    "start_time": "2024-11-17T22:10:15.897Z"
   },
   {
    "duration": 17,
    "start_time": "2024-11-17T22:10:15.922Z"
   },
   {
    "duration": 70,
    "start_time": "2024-11-17T22:10:15.940Z"
   },
   {
    "duration": 2,
    "start_time": "2024-11-17T22:10:16.011Z"
   },
   {
    "duration": 7,
    "start_time": "2024-11-17T22:10:16.015Z"
   },
   {
    "duration": 12,
    "start_time": "2024-11-17T22:10:16.023Z"
   },
   {
    "duration": 29,
    "start_time": "2024-11-17T22:10:16.037Z"
   },
   {
    "duration": 11,
    "start_time": "2024-11-17T22:10:16.067Z"
   },
   {
    "duration": 359,
    "start_time": "2024-11-17T22:10:16.079Z"
   },
   {
    "duration": 8,
    "start_time": "2024-11-17T22:10:16.439Z"
   },
   {
    "duration": 26,
    "start_time": "2024-11-17T22:10:16.448Z"
   },
   {
    "duration": 21,
    "start_time": "2024-11-17T22:10:16.475Z"
   },
   {
    "duration": 445,
    "start_time": "2024-11-17T22:10:16.498Z"
   },
   {
    "duration": 371,
    "start_time": "2024-11-17T22:10:16.944Z"
   },
   {
    "duration": 323,
    "start_time": "2024-11-17T22:10:17.316Z"
   },
   {
    "duration": 8,
    "start_time": "2024-11-17T22:10:17.640Z"
   },
   {
    "duration": 330,
    "start_time": "2024-11-17T22:10:17.649Z"
   },
   {
    "duration": 6,
    "start_time": "2024-11-17T22:10:17.980Z"
   },
   {
    "duration": 22,
    "start_time": "2024-11-17T22:10:17.988Z"
   },
   {
    "duration": 7,
    "start_time": "2024-11-17T22:10:18.012Z"
   },
   {
    "duration": 547,
    "start_time": "2024-11-17T22:10:18.020Z"
   },
   {
    "duration": 12,
    "start_time": "2024-11-17T22:10:18.568Z"
   },
   {
    "duration": 31,
    "start_time": "2024-11-17T22:10:18.581Z"
   },
   {
    "duration": 22,
    "start_time": "2024-11-17T22:10:18.613Z"
   },
   {
    "duration": 4,
    "start_time": "2024-11-17T22:10:18.639Z"
   },
   {
    "duration": 820,
    "start_time": "2024-11-17T22:10:18.644Z"
   },
   {
    "duration": 806,
    "start_time": "2024-11-17T22:10:19.465Z"
   },
   {
    "duration": 723,
    "start_time": "2024-11-17T22:10:20.273Z"
   },
   {
    "duration": 212,
    "start_time": "2024-11-17T22:10:20.997Z"
   },
   {
    "duration": 200,
    "start_time": "2024-11-17T22:10:21.211Z"
   },
   {
    "duration": 91,
    "start_time": "2024-11-17T22:10:21.417Z"
   },
   {
    "duration": 31,
    "start_time": "2024-11-17T22:19:16.964Z"
   },
   {
    "duration": 294,
    "start_time": "2024-11-17T22:19:18.247Z"
   },
   {
    "duration": 255,
    "start_time": "2024-11-17T22:19:19.306Z"
   },
   {
    "duration": 45,
    "start_time": "2024-11-17T22:19:19.663Z"
   },
   {
    "duration": 20,
    "start_time": "2024-11-17T22:19:19.901Z"
   },
   {
    "duration": 68,
    "start_time": "2024-11-17T22:19:20.144Z"
   },
   {
    "duration": 8,
    "start_time": "2024-11-17T22:19:20.289Z"
   },
   {
    "duration": 13,
    "start_time": "2024-11-17T22:19:20.425Z"
   },
   {
    "duration": 14,
    "start_time": "2024-11-17T22:19:20.476Z"
   },
   {
    "duration": 18,
    "start_time": "2024-11-17T22:19:20.561Z"
   },
   {
    "duration": 31,
    "start_time": "2024-11-17T22:19:20.985Z"
   },
   {
    "duration": 458,
    "start_time": "2024-11-17T22:19:21.915Z"
   },
   {
    "duration": 19,
    "start_time": "2024-11-17T22:19:22.415Z"
   },
   {
    "duration": 16,
    "start_time": "2024-11-17T22:19:22.498Z"
   },
   {
    "duration": 18,
    "start_time": "2024-11-17T22:19:22.934Z"
   },
   {
    "duration": 375,
    "start_time": "2024-11-17T22:19:24.199Z"
   },
   {
    "duration": 375,
    "start_time": "2024-11-17T22:19:25.851Z"
   },
   {
    "duration": 356,
    "start_time": "2024-11-17T22:19:27.040Z"
   },
   {
    "duration": 15,
    "start_time": "2024-11-17T22:19:27.763Z"
   },
   {
    "duration": 346,
    "start_time": "2024-11-17T22:19:28.632Z"
   },
   {
    "duration": 7,
    "start_time": "2024-11-17T22:19:29.039Z"
   },
   {
    "duration": 6,
    "start_time": "2024-11-17T22:19:29.077Z"
   },
   {
    "duration": 14,
    "start_time": "2024-11-17T22:19:29.582Z"
   },
   {
    "duration": 448,
    "start_time": "2024-11-17T22:19:30.612Z"
   },
   {
    "duration": 13,
    "start_time": "2024-11-17T22:19:31.144Z"
   },
   {
    "duration": 27,
    "start_time": "2024-11-17T22:19:31.246Z"
   },
   {
    "duration": 0,
    "start_time": "2024-11-17T22:19:31.423Z"
   },
   {
    "duration": 0,
    "start_time": "2024-11-17T22:19:31.426Z"
   },
   {
    "duration": 0,
    "start_time": "2024-11-17T22:19:31.431Z"
   },
   {
    "duration": 0,
    "start_time": "2024-11-17T22:19:31.434Z"
   },
   {
    "duration": 0,
    "start_time": "2024-11-17T22:19:31.440Z"
   },
   {
    "duration": 0,
    "start_time": "2024-11-17T22:19:31.444Z"
   },
   {
    "duration": 0,
    "start_time": "2024-11-17T22:19:31.449Z"
   },
   {
    "duration": 0,
    "start_time": "2024-11-17T22:19:31.454Z"
   },
   {
    "duration": 0,
    "start_time": "2024-11-17T22:19:31.510Z"
   },
   {
    "duration": 0,
    "start_time": "2024-11-17T22:19:31.516Z"
   },
   {
    "duration": 0,
    "start_time": "2024-11-17T22:19:31.522Z"
   },
   {
    "duration": 0,
    "start_time": "2024-11-17T22:19:31.523Z"
   },
   {
    "duration": 23,
    "start_time": "2024-11-17T22:20:12.471Z"
   },
   {
    "duration": 22,
    "start_time": "2024-11-17T22:20:12.497Z"
   },
   {
    "duration": 4,
    "start_time": "2024-11-17T22:20:12.521Z"
   },
   {
    "duration": 846,
    "start_time": "2024-11-17T22:20:12.526Z"
   },
   {
    "duration": 805,
    "start_time": "2024-11-17T22:20:13.374Z"
   },
   {
    "duration": 729,
    "start_time": "2024-11-17T22:20:14.181Z"
   },
   {
    "duration": 198,
    "start_time": "2024-11-17T22:20:14.912Z"
   },
   {
    "duration": 298,
    "start_time": "2024-11-17T22:20:15.111Z"
   },
   {
    "duration": 7,
    "start_time": "2024-11-17T22:20:15.410Z"
   },
   {
    "duration": 247356,
    "start_time": "2024-11-17T22:20:15.418Z"
   },
   {
    "duration": 248104,
    "start_time": "2024-11-17T22:24:22.775Z"
   },
   {
    "duration": 28267,
    "start_time": "2024-11-17T22:28:30.880Z"
   },
   {
    "duration": 13,
    "start_time": "2024-11-17T22:28:59.148Z"
   },
   {
    "duration": 12,
    "start_time": "2024-11-17T22:34:16.907Z"
   },
   {
    "duration": 12,
    "start_time": "2024-11-17T22:34:40.800Z"
   },
   {
    "duration": 18,
    "start_time": "2024-11-17T22:35:40.665Z"
   },
   {
    "duration": 3,
    "start_time": "2024-11-17T22:35:51.796Z"
   },
   {
    "duration": 312,
    "start_time": "2024-11-17T22:35:51.801Z"
   },
   {
    "duration": 231,
    "start_time": "2024-11-17T22:35:52.115Z"
   },
   {
    "duration": 22,
    "start_time": "2024-11-17T22:35:52.348Z"
   },
   {
    "duration": 18,
    "start_time": "2024-11-17T22:35:52.372Z"
   },
   {
    "duration": 69,
    "start_time": "2024-11-17T22:35:52.407Z"
   },
   {
    "duration": 2,
    "start_time": "2024-11-17T22:35:52.478Z"
   },
   {
    "duration": 8,
    "start_time": "2024-11-17T22:35:52.481Z"
   },
   {
    "duration": 29,
    "start_time": "2024-11-17T22:35:52.490Z"
   },
   {
    "duration": 22,
    "start_time": "2024-11-17T22:35:52.520Z"
   },
   {
    "duration": 12,
    "start_time": "2024-11-17T22:35:52.544Z"
   },
   {
    "duration": 372,
    "start_time": "2024-11-17T22:35:52.557Z"
   },
   {
    "duration": 8,
    "start_time": "2024-11-17T22:35:52.932Z"
   },
   {
    "duration": 25,
    "start_time": "2024-11-17T22:35:52.941Z"
   },
   {
    "duration": 14,
    "start_time": "2024-11-17T22:35:52.967Z"
   },
   {
    "duration": 378,
    "start_time": "2024-11-17T22:35:52.982Z"
   },
   {
    "duration": 379,
    "start_time": "2024-11-17T22:35:53.361Z"
   },
   {
    "duration": 398,
    "start_time": "2024-11-17T22:35:53.741Z"
   },
   {
    "duration": 8,
    "start_time": "2024-11-17T22:35:54.140Z"
   },
   {
    "duration": 351,
    "start_time": "2024-11-17T22:35:54.150Z"
   },
   {
    "duration": 8,
    "start_time": "2024-11-17T22:35:54.502Z"
   },
   {
    "duration": 6,
    "start_time": "2024-11-17T22:35:54.511Z"
   },
   {
    "duration": 11,
    "start_time": "2024-11-17T22:35:54.519Z"
   },
   {
    "duration": 485,
    "start_time": "2024-11-17T22:35:54.531Z"
   },
   {
    "duration": 12,
    "start_time": "2024-11-17T22:35:55.017Z"
   },
   {
    "duration": 17,
    "start_time": "2024-11-17T22:35:58.640Z"
   },
   {
    "duration": 12,
    "start_time": "2024-11-17T22:36:08.165Z"
   },
   {
    "duration": 18,
    "start_time": "2024-11-17T22:37:01.646Z"
   },
   {
    "duration": 17,
    "start_time": "2024-11-17T22:37:56.920Z"
   },
   {
    "duration": 3,
    "start_time": "2024-11-17T22:38:02.712Z"
   },
   {
    "duration": 309,
    "start_time": "2024-11-17T22:38:02.718Z"
   },
   {
    "duration": 218,
    "start_time": "2024-11-17T22:38:03.028Z"
   },
   {
    "duration": 25,
    "start_time": "2024-11-17T22:38:03.247Z"
   },
   {
    "duration": 44,
    "start_time": "2024-11-17T22:38:03.274Z"
   },
   {
    "duration": 88,
    "start_time": "2024-11-17T22:38:03.319Z"
   },
   {
    "duration": 3,
    "start_time": "2024-11-17T22:38:03.409Z"
   },
   {
    "duration": 52,
    "start_time": "2024-11-17T22:38:03.413Z"
   },
   {
    "duration": 36,
    "start_time": "2024-11-17T22:38:03.466Z"
   },
   {
    "duration": 75,
    "start_time": "2024-11-17T22:38:03.503Z"
   },
   {
    "duration": 33,
    "start_time": "2024-11-17T22:38:03.579Z"
   },
   {
    "duration": 463,
    "start_time": "2024-11-17T22:38:03.614Z"
   },
   {
    "duration": 8,
    "start_time": "2024-11-17T22:38:04.081Z"
   },
   {
    "duration": 62,
    "start_time": "2024-11-17T22:38:04.090Z"
   },
   {
    "duration": 33,
    "start_time": "2024-11-17T22:38:04.153Z"
   },
   {
    "duration": 394,
    "start_time": "2024-11-17T22:38:04.188Z"
   },
   {
    "duration": 396,
    "start_time": "2024-11-17T22:38:04.584Z"
   },
   {
    "duration": 382,
    "start_time": "2024-11-17T22:38:04.982Z"
   },
   {
    "duration": 9,
    "start_time": "2024-11-17T22:38:05.365Z"
   },
   {
    "duration": 452,
    "start_time": "2024-11-17T22:38:05.375Z"
   },
   {
    "duration": 6,
    "start_time": "2024-11-17T22:38:05.829Z"
   },
   {
    "duration": 68,
    "start_time": "2024-11-17T22:38:05.837Z"
   },
   {
    "duration": 14,
    "start_time": "2024-11-17T22:38:05.906Z"
   },
   {
    "duration": 456,
    "start_time": "2024-11-17T22:38:05.922Z"
   },
   {
    "duration": 12,
    "start_time": "2024-11-17T22:38:06.379Z"
   },
   {
    "duration": 18,
    "start_time": "2024-11-17T22:38:09.288Z"
   },
   {
    "duration": 18,
    "start_time": "2024-11-17T22:38:15.958Z"
   },
   {
    "duration": 11,
    "start_time": "2024-11-17T22:38:21.874Z"
   },
   {
    "duration": 8,
    "start_time": "2024-11-17T22:46:39.093Z"
   },
   {
    "duration": 8,
    "start_time": "2024-11-17T22:53:58.582Z"
   },
   {
    "duration": 3,
    "start_time": "2024-11-17T22:54:13.033Z"
   },
   {
    "duration": 9,
    "start_time": "2024-11-17T22:54:22.920Z"
   },
   {
    "duration": 11,
    "start_time": "2024-11-17T22:54:36.830Z"
   },
   {
    "duration": 9,
    "start_time": "2024-11-17T22:54:44.691Z"
   },
   {
    "duration": 210,
    "start_time": "2024-11-17T22:57:07.961Z"
   },
   {
    "duration": 212,
    "start_time": "2024-11-17T22:57:27.738Z"
   },
   {
    "duration": 223,
    "start_time": "2024-11-17T22:57:55.155Z"
   },
   {
    "duration": 77,
    "start_time": "2024-11-17T23:01:46.142Z"
   },
   {
    "duration": 4,
    "start_time": "2024-11-17T23:01:50.657Z"
   },
   {
    "duration": 4,
    "start_time": "2024-11-17T23:01:54.078Z"
   },
   {
    "duration": 3,
    "start_time": "2024-11-17T23:02:04.754Z"
   },
   {
    "duration": 4,
    "start_time": "2024-11-17T23:02:58.193Z"
   },
   {
    "duration": 338,
    "start_time": "2024-11-17T23:02:58.198Z"
   },
   {
    "duration": 266,
    "start_time": "2024-11-17T23:02:58.537Z"
   },
   {
    "duration": 24,
    "start_time": "2024-11-17T23:02:58.804Z"
   },
   {
    "duration": 28,
    "start_time": "2024-11-17T23:02:58.830Z"
   },
   {
    "duration": 76,
    "start_time": "2024-11-17T23:02:58.859Z"
   },
   {
    "duration": 2,
    "start_time": "2024-11-17T23:02:58.936Z"
   },
   {
    "duration": 5,
    "start_time": "2024-11-17T23:02:58.940Z"
   },
   {
    "duration": 8,
    "start_time": "2024-11-17T23:02:58.946Z"
   },
   {
    "duration": 24,
    "start_time": "2024-11-17T23:02:58.956Z"
   },
   {
    "duration": 11,
    "start_time": "2024-11-17T23:02:58.981Z"
   },
   {
    "duration": 378,
    "start_time": "2024-11-17T23:02:58.994Z"
   },
   {
    "duration": 7,
    "start_time": "2024-11-17T23:02:59.373Z"
   },
   {
    "duration": 12,
    "start_time": "2024-11-17T23:02:59.383Z"
   },
   {
    "duration": 16,
    "start_time": "2024-11-17T23:02:59.396Z"
   },
   {
    "duration": 471,
    "start_time": "2024-11-17T23:02:59.413Z"
   },
   {
    "duration": 399,
    "start_time": "2024-11-17T23:02:59.885Z"
   },
   {
    "duration": 365,
    "start_time": "2024-11-17T23:03:00.285Z"
   },
   {
    "duration": 9,
    "start_time": "2024-11-17T23:03:00.651Z"
   },
   {
    "duration": 451,
    "start_time": "2024-11-17T23:03:00.661Z"
   },
   {
    "duration": 6,
    "start_time": "2024-11-17T23:03:01.113Z"
   },
   {
    "duration": 7,
    "start_time": "2024-11-17T23:03:01.120Z"
   },
   {
    "duration": 23,
    "start_time": "2024-11-17T23:03:01.128Z"
   },
   {
    "duration": 496,
    "start_time": "2024-11-17T23:03:01.153Z"
   },
   {
    "duration": 12,
    "start_time": "2024-11-17T23:03:01.651Z"
   },
   {
    "duration": 55,
    "start_time": "2024-11-17T23:03:01.664Z"
   },
   {
    "duration": 38,
    "start_time": "2024-11-17T23:03:01.721Z"
   },
   {
    "duration": 29,
    "start_time": "2024-11-17T23:03:01.760Z"
   },
   {
    "duration": 873,
    "start_time": "2024-11-17T23:03:01.791Z"
   },
   {
    "duration": 855,
    "start_time": "2024-11-17T23:03:02.666Z"
   },
   {
    "duration": 744,
    "start_time": "2024-11-17T23:03:03.523Z"
   },
   {
    "duration": 146,
    "start_time": "2024-11-17T23:03:04.269Z"
   },
   {
    "duration": 200,
    "start_time": "2024-11-17T23:03:04.416Z"
   },
   {
    "duration": 4,
    "start_time": "2024-11-17T23:03:04.708Z"
   },
   {
    "duration": 248538,
    "start_time": "2024-11-17T23:03:04.713Z"
   },
   {
    "duration": 251995,
    "start_time": "2024-11-17T23:07:13.253Z"
   },
   {
    "duration": 28116,
    "start_time": "2024-11-17T23:11:25.250Z"
   },
   {
    "duration": 40,
    "start_time": "2024-11-17T23:11:53.368Z"
   },
   {
    "duration": 301,
    "start_time": "2024-11-17T23:11:53.410Z"
   },
   {
    "duration": 3,
    "start_time": "2024-11-17T23:15:52.927Z"
   },
   {
    "duration": 294,
    "start_time": "2024-11-17T23:15:52.932Z"
   },
   {
    "duration": 213,
    "start_time": "2024-11-17T23:15:53.227Z"
   },
   {
    "duration": 23,
    "start_time": "2024-11-17T23:15:53.442Z"
   },
   {
    "duration": 27,
    "start_time": "2024-11-17T23:15:53.466Z"
   },
   {
    "duration": 70,
    "start_time": "2024-11-17T23:15:53.495Z"
   },
   {
    "duration": 271,
    "start_time": "2024-11-17T23:15:53.566Z"
   },
   {
    "duration": 5,
    "start_time": "2024-11-17T23:15:53.839Z"
   },
   {
    "duration": 29,
    "start_time": "2024-11-17T23:15:53.846Z"
   },
   {
    "duration": 11,
    "start_time": "2024-11-17T23:15:53.878Z"
   },
   {
    "duration": 368,
    "start_time": "2024-11-17T23:15:53.891Z"
   },
   {
    "duration": 8,
    "start_time": "2024-11-17T23:15:54.261Z"
   },
   {
    "duration": 16,
    "start_time": "2024-11-17T23:15:54.270Z"
   },
   {
    "duration": 7,
    "start_time": "2024-11-17T23:15:54.287Z"
   },
   {
    "duration": 461,
    "start_time": "2024-11-17T23:15:54.307Z"
   },
   {
    "duration": 388,
    "start_time": "2024-11-17T23:15:54.769Z"
   },
   {
    "duration": 371,
    "start_time": "2024-11-17T23:15:55.159Z"
   },
   {
    "duration": 9,
    "start_time": "2024-11-17T23:15:55.531Z"
   },
   {
    "duration": 338,
    "start_time": "2024-11-17T23:15:55.541Z"
   },
   {
    "duration": 5,
    "start_time": "2024-11-17T23:15:55.880Z"
   },
   {
    "duration": 14,
    "start_time": "2024-11-17T23:15:55.887Z"
   },
   {
    "duration": 15,
    "start_time": "2024-11-17T23:15:55.906Z"
   },
   {
    "duration": 530,
    "start_time": "2024-11-17T23:15:55.922Z"
   },
   {
    "duration": 12,
    "start_time": "2024-11-17T23:15:56.454Z"
   },
   {
    "duration": 51,
    "start_time": "2024-11-17T23:15:56.468Z"
   },
   {
    "duration": 19,
    "start_time": "2024-11-17T23:15:56.521Z"
   },
   {
    "duration": 4,
    "start_time": "2024-11-17T23:15:56.541Z"
   },
   {
    "duration": 840,
    "start_time": "2024-11-17T23:15:56.548Z"
   },
   {
    "duration": 835,
    "start_time": "2024-11-17T23:15:57.390Z"
   },
   {
    "duration": 740,
    "start_time": "2024-11-17T23:15:58.227Z"
   },
   {
    "duration": 143,
    "start_time": "2024-11-17T23:15:58.968Z"
   },
   {
    "duration": 398,
    "start_time": "2024-11-17T23:15:59.112Z"
   },
   {
    "duration": 3,
    "start_time": "2024-11-17T23:16:09.125Z"
   },
   {
    "duration": 3298,
    "start_time": "2024-11-18T00:06:12.945Z"
   },
   {
    "duration": 408,
    "start_time": "2024-11-18T00:06:16.245Z"
   },
   {
    "duration": 302,
    "start_time": "2024-11-18T00:06:16.654Z"
   },
   {
    "duration": 44,
    "start_time": "2024-11-18T00:06:16.958Z"
   },
   {
    "duration": 20,
    "start_time": "2024-11-18T00:06:17.004Z"
   },
   {
    "duration": 99,
    "start_time": "2024-11-18T00:06:17.026Z"
   },
   {
    "duration": 419,
    "start_time": "2024-11-18T00:06:17.126Z"
   },
   {
    "duration": 7,
    "start_time": "2024-11-18T00:06:17.547Z"
   },
   {
    "duration": 30,
    "start_time": "2024-11-18T00:06:17.556Z"
   },
   {
    "duration": 15,
    "start_time": "2024-11-18T00:06:17.588Z"
   },
   {
    "duration": 481,
    "start_time": "2024-11-18T00:06:17.604Z"
   },
   {
    "duration": 16,
    "start_time": "2024-11-18T00:06:18.087Z"
   },
   {
    "duration": 18,
    "start_time": "2024-11-18T00:06:18.105Z"
   },
   {
    "duration": 10,
    "start_time": "2024-11-18T00:06:18.125Z"
   },
   {
    "duration": 581,
    "start_time": "2024-11-18T00:06:18.136Z"
   },
   {
    "duration": 487,
    "start_time": "2024-11-18T00:06:18.719Z"
   },
   {
    "duration": 421,
    "start_time": "2024-11-18T00:06:19.208Z"
   },
   {
    "duration": 11,
    "start_time": "2024-11-18T00:06:19.630Z"
   },
   {
    "duration": 541,
    "start_time": "2024-11-18T00:06:19.643Z"
   },
   {
    "duration": 7,
    "start_time": "2024-11-18T00:06:20.197Z"
   },
   {
    "duration": 18,
    "start_time": "2024-11-18T00:06:20.206Z"
   },
   {
    "duration": 16,
    "start_time": "2024-11-18T00:06:20.225Z"
   },
   {
    "duration": 560,
    "start_time": "2024-11-18T00:06:20.243Z"
   },
   {
    "duration": 14,
    "start_time": "2024-11-18T00:06:20.808Z"
   },
   {
    "duration": 24,
    "start_time": "2024-11-18T00:06:20.824Z"
   },
   {
    "duration": 27,
    "start_time": "2024-11-18T00:06:20.849Z"
   },
   {
    "duration": 4,
    "start_time": "2024-11-18T00:06:20.898Z"
   },
   {
    "duration": 825,
    "start_time": "2024-11-18T00:06:20.905Z"
   },
   {
    "duration": 824,
    "start_time": "2024-11-18T00:06:21.732Z"
   },
   {
    "duration": 778,
    "start_time": "2024-11-18T00:06:22.558Z"
   },
   {
    "duration": 266,
    "start_time": "2024-11-18T00:06:23.337Z"
   },
   {
    "duration": 295,
    "start_time": "2024-11-18T00:06:23.605Z"
   },
   {
    "duration": 6,
    "start_time": "2024-11-18T00:06:23.902Z"
   },
   {
    "duration": 245024,
    "start_time": "2024-11-18T00:06:23.997Z"
   },
   {
    "duration": 246353,
    "start_time": "2024-11-18T00:10:29.023Z"
   },
   {
    "duration": 27537,
    "start_time": "2024-11-18T00:14:35.379Z"
   },
   {
    "duration": 82,
    "start_time": "2024-11-18T00:15:02.918Z"
   },
   {
    "duration": 436,
    "start_time": "2024-11-18T00:15:03.003Z"
   },
   {
    "duration": 4,
    "start_time": "2024-11-18T00:17:12.982Z"
   },
   {
    "duration": 1624,
    "start_time": "2024-11-18T04:29:16.198Z"
   },
   {
    "duration": 613,
    "start_time": "2024-11-18T04:29:17.825Z"
   },
   {
    "duration": 449,
    "start_time": "2024-11-18T04:29:18.440Z"
   },
   {
    "duration": 30,
    "start_time": "2024-11-18T04:29:18.891Z"
   },
   {
    "duration": 19,
    "start_time": "2024-11-18T04:29:18.923Z"
   },
   {
    "duration": 443,
    "start_time": "2024-11-18T04:29:18.944Z"
   },
   {
    "duration": 413,
    "start_time": "2024-11-18T04:29:19.389Z"
   },
   {
    "duration": 7,
    "start_time": "2024-11-18T04:29:19.804Z"
   },
   {
    "duration": 51,
    "start_time": "2024-11-18T04:29:19.813Z"
   },
   {
    "duration": 15,
    "start_time": "2024-11-18T04:29:19.865Z"
   },
   {
    "duration": 4,
    "start_time": "2024-11-18T04:29:38.518Z"
   },
   {
    "duration": 429,
    "start_time": "2024-11-18T04:29:38.523Z"
   },
   {
    "duration": 312,
    "start_time": "2024-11-18T04:29:38.953Z"
   },
   {
    "duration": 27,
    "start_time": "2024-11-18T04:29:39.267Z"
   },
   {
    "duration": 19,
    "start_time": "2024-11-18T04:29:39.296Z"
   },
   {
    "duration": 99,
    "start_time": "2024-11-18T04:29:39.317Z"
   },
   {
    "duration": 418,
    "start_time": "2024-11-18T04:29:39.418Z"
   },
   {
    "duration": 6,
    "start_time": "2024-11-18T04:29:39.838Z"
   },
   {
    "duration": 34,
    "start_time": "2024-11-18T04:29:39.845Z"
   },
   {
    "duration": 15,
    "start_time": "2024-11-18T04:29:39.881Z"
   },
   {
    "duration": 490,
    "start_time": "2024-11-18T04:29:39.897Z"
   },
   {
    "duration": 525,
    "start_time": "2024-11-18T04:29:56.517Z"
   },
   {
    "duration": 464,
    "start_time": "2024-11-18T04:30:09.522Z"
   },
   {
    "duration": 439,
    "start_time": "2024-11-18T04:30:14.114Z"
   },
   {
    "duration": 514,
    "start_time": "2024-11-18T04:30:20.922Z"
   },
   {
    "duration": 111,
    "start_time": "2024-11-18T04:30:33.782Z"
   },
   {
    "duration": 4,
    "start_time": "2024-11-18T04:30:46.207Z"
   },
   {
    "duration": 425,
    "start_time": "2024-11-18T04:30:46.213Z"
   },
   {
    "duration": 306,
    "start_time": "2024-11-18T04:30:46.639Z"
   },
   {
    "duration": 28,
    "start_time": "2024-11-18T04:30:46.947Z"
   },
   {
    "duration": 20,
    "start_time": "2024-11-18T04:30:46.978Z"
   },
   {
    "duration": 96,
    "start_time": "2024-11-18T04:30:47.000Z"
   },
   {
    "duration": 408,
    "start_time": "2024-11-18T04:30:47.098Z"
   },
   {
    "duration": 8,
    "start_time": "2024-11-18T04:30:47.508Z"
   },
   {
    "duration": 21,
    "start_time": "2024-11-18T04:30:47.517Z"
   },
   {
    "duration": 12,
    "start_time": "2024-11-18T04:30:47.539Z"
   },
   {
    "duration": 436,
    "start_time": "2024-11-18T04:30:47.552Z"
   },
   {
    "duration": 9,
    "start_time": "2024-11-18T04:30:47.990Z"
   },
   {
    "duration": 17,
    "start_time": "2024-11-18T04:30:48.001Z"
   },
   {
    "duration": 28,
    "start_time": "2024-11-18T04:30:48.020Z"
   },
   {
    "duration": 443,
    "start_time": "2024-11-18T04:30:48.049Z"
   },
   {
    "duration": 616,
    "start_time": "2024-11-18T04:30:48.494Z"
   },
   {
    "duration": 401,
    "start_time": "2024-11-18T04:30:49.112Z"
   },
   {
    "duration": 10,
    "start_time": "2024-11-18T04:30:49.515Z"
   },
   {
    "duration": 16,
    "start_time": "2024-11-18T04:30:49.527Z"
   },
   {
    "duration": 6,
    "start_time": "2024-11-18T04:30:49.544Z"
   },
   {
    "duration": 8,
    "start_time": "2024-11-18T04:30:49.551Z"
   },
   {
    "duration": 523,
    "start_time": "2024-11-18T04:30:51.369Z"
   },
   {
    "duration": 70,
    "start_time": "2024-11-18T04:32:05.390Z"
   },
   {
    "duration": 15,
    "start_time": "2024-11-18T04:35:32.168Z"
   },
   {
    "duration": 14,
    "start_time": "2024-11-18T04:36:05.285Z"
   },
   {
    "duration": 19,
    "start_time": "2024-11-18T04:40:45.566Z"
   },
   {
    "duration": 16,
    "start_time": "2024-11-18T04:41:26.192Z"
   },
   {
    "duration": 702,
    "start_time": "2024-11-18T04:41:37.700Z"
   },
   {
    "duration": 835,
    "start_time": "2024-11-18T04:42:20.803Z"
   },
   {
    "duration": 937,
    "start_time": "2024-11-18T04:42:30.176Z"
   },
   {
    "duration": 877,
    "start_time": "2024-11-18T04:45:53.010Z"
   },
   {
    "duration": 796,
    "start_time": "2024-11-18T04:46:13.409Z"
   },
   {
    "duration": 937,
    "start_time": "2024-11-18T04:46:22.687Z"
   },
   {
    "duration": 11,
    "start_time": "2024-11-18T04:46:43.849Z"
   },
   {
    "duration": 819,
    "start_time": "2024-11-18T04:46:49.407Z"
   },
   {
    "duration": 11,
    "start_time": "2024-11-18T04:51:47.415Z"
   },
   {
    "duration": 414,
    "start_time": "2024-11-18T04:51:56.776Z"
   },
   {
    "duration": 800,
    "start_time": "2024-11-18T04:52:12.038Z"
   },
   {
    "duration": 476,
    "start_time": "2024-11-18T04:52:29.775Z"
   },
   {
    "duration": 394,
    "start_time": "2024-11-18T04:53:56.888Z"
   },
   {
    "duration": 354,
    "start_time": "2024-11-18T04:54:19.473Z"
   },
   {
    "duration": 18,
    "start_time": "2024-11-18T04:55:16.995Z"
   },
   {
    "duration": 395,
    "start_time": "2024-11-18T04:55:29.886Z"
   },
   {
    "duration": 404,
    "start_time": "2024-11-18T04:55:40.126Z"
   },
   {
    "duration": 406,
    "start_time": "2024-11-18T04:56:37.393Z"
   },
   {
    "duration": 406,
    "start_time": "2024-11-18T04:57:10.954Z"
   },
   {
    "duration": 362,
    "start_time": "2024-11-18T04:57:15.170Z"
   },
   {
    "duration": 19,
    "start_time": "2024-11-18T05:01:40.376Z"
   },
   {
    "duration": 427,
    "start_time": "2024-11-18T05:01:46.117Z"
   },
   {
    "duration": 10,
    "start_time": "2024-11-18T05:01:57.147Z"
   },
   {
    "duration": 7,
    "start_time": "2024-11-18T05:03:11.423Z"
   },
   {
    "duration": 8,
    "start_time": "2024-11-18T05:03:24.466Z"
   },
   {
    "duration": 7,
    "start_time": "2024-11-18T05:03:28.079Z"
   },
   {
    "duration": 6,
    "start_time": "2024-11-18T05:03:30.383Z"
   },
   {
    "duration": 6,
    "start_time": "2024-11-18T05:03:32.131Z"
   },
   {
    "duration": 574,
    "start_time": "2024-11-18T05:03:35.400Z"
   },
   {
    "duration": 8,
    "start_time": "2024-11-18T05:04:18.243Z"
   },
   {
    "duration": 926,
    "start_time": "2024-11-18T05:05:01.449Z"
   },
   {
    "duration": 4,
    "start_time": "2024-11-18T05:05:18.030Z"
   },
   {
    "duration": 420,
    "start_time": "2024-11-18T05:05:18.036Z"
   },
   {
    "duration": 319,
    "start_time": "2024-11-18T05:05:18.457Z"
   },
   {
    "duration": 30,
    "start_time": "2024-11-18T05:05:18.777Z"
   },
   {
    "duration": 41,
    "start_time": "2024-11-18T05:05:18.810Z"
   },
   {
    "duration": 98,
    "start_time": "2024-11-18T05:05:18.852Z"
   },
   {
    "duration": 434,
    "start_time": "2024-11-18T05:05:18.953Z"
   },
   {
    "duration": 6,
    "start_time": "2024-11-18T05:05:19.389Z"
   },
   {
    "duration": 68,
    "start_time": "2024-11-18T05:05:19.397Z"
   },
   {
    "duration": 23,
    "start_time": "2024-11-18T05:05:19.467Z"
   },
   {
    "duration": 445,
    "start_time": "2024-11-18T05:05:19.491Z"
   },
   {
    "duration": 11,
    "start_time": "2024-11-18T05:05:19.938Z"
   },
   {
    "duration": 34,
    "start_time": "2024-11-18T05:05:19.952Z"
   },
   {
    "duration": 9,
    "start_time": "2024-11-18T05:05:19.988Z"
   },
   {
    "duration": 484,
    "start_time": "2024-11-18T05:05:20.000Z"
   },
   {
    "duration": 522,
    "start_time": "2024-11-18T05:05:20.486Z"
   },
   {
    "duration": 639,
    "start_time": "2024-11-18T05:05:21.010Z"
   },
   {
    "duration": 10,
    "start_time": "2024-11-18T05:05:21.651Z"
   },
   {
    "duration": 5,
    "start_time": "2024-11-18T05:05:21.663Z"
   },
   {
    "duration": 7,
    "start_time": "2024-11-18T05:05:21.670Z"
   },
   {
    "duration": 6,
    "start_time": "2024-11-18T05:05:21.678Z"
   },
   {
    "duration": 5,
    "start_time": "2024-11-18T05:05:21.686Z"
   },
   {
    "duration": 723,
    "start_time": "2024-11-18T05:05:22.906Z"
   },
   {
    "duration": 68,
    "start_time": "2024-11-18T05:05:53.725Z"
   },
   {
    "duration": 11,
    "start_time": "2024-11-18T05:07:57.275Z"
   },
   {
    "duration": 4,
    "start_time": "2024-11-18T05:08:27.137Z"
   },
   {
    "duration": 409,
    "start_time": "2024-11-18T05:08:27.143Z"
   },
   {
    "duration": 294,
    "start_time": "2024-11-18T05:08:27.554Z"
   },
   {
    "duration": 27,
    "start_time": "2024-11-18T05:08:27.850Z"
   },
   {
    "duration": 131,
    "start_time": "2024-11-18T05:08:27.880Z"
   },
   {
    "duration": 79,
    "start_time": "2024-11-18T05:08:28.013Z"
   },
   {
    "duration": 399,
    "start_time": "2024-11-18T05:08:28.094Z"
   },
   {
    "duration": 7,
    "start_time": "2024-11-18T05:08:28.495Z"
   },
   {
    "duration": 57,
    "start_time": "2024-11-18T05:08:28.504Z"
   },
   {
    "duration": 14,
    "start_time": "2024-11-18T05:08:28.562Z"
   },
   {
    "duration": 465,
    "start_time": "2024-11-18T05:08:28.577Z"
   },
   {
    "duration": 11,
    "start_time": "2024-11-18T05:08:29.044Z"
   },
   {
    "duration": 14,
    "start_time": "2024-11-18T05:08:29.057Z"
   },
   {
    "duration": 9,
    "start_time": "2024-11-18T05:08:29.074Z"
   },
   {
    "duration": 470,
    "start_time": "2024-11-18T05:08:29.085Z"
   },
   {
    "duration": 738,
    "start_time": "2024-11-18T05:08:29.557Z"
   },
   {
    "duration": 454,
    "start_time": "2024-11-18T05:08:30.297Z"
   },
   {
    "duration": 11,
    "start_time": "2024-11-18T05:08:30.753Z"
   },
   {
    "duration": 29,
    "start_time": "2024-11-18T05:08:30.766Z"
   },
   {
    "duration": 21,
    "start_time": "2024-11-18T05:08:30.797Z"
   },
   {
    "duration": 40,
    "start_time": "2024-11-18T05:08:30.820Z"
   },
   {
    "duration": 53,
    "start_time": "2024-11-18T05:08:30.862Z"
   },
   {
    "duration": 788,
    "start_time": "2024-11-18T05:08:30.916Z"
   },
   {
    "duration": 7,
    "start_time": "2024-11-18T05:08:31.705Z"
   },
   {
    "duration": 54,
    "start_time": "2024-11-18T05:08:31.713Z"
   },
   {
    "duration": 43,
    "start_time": "2024-11-18T05:08:31.769Z"
   },
   {
    "duration": 9,
    "start_time": "2024-11-18T05:08:31.814Z"
   },
   {
    "duration": 14,
    "start_time": "2024-11-18T05:08:31.824Z"
   },
   {
    "duration": 132,
    "start_time": "2024-11-18T05:08:31.840Z"
   },
   {
    "duration": 71,
    "start_time": "2024-11-18T05:08:33.620Z"
   },
   {
    "duration": 9,
    "start_time": "2024-11-18T16:25:04.044Z"
   },
   {
    "duration": 1527,
    "start_time": "2024-11-18T16:25:07.877Z"
   },
   {
    "duration": 494,
    "start_time": "2024-11-18T16:25:09.406Z"
   },
   {
    "duration": 390,
    "start_time": "2024-11-18T16:25:09.902Z"
   },
   {
    "duration": 26,
    "start_time": "2024-11-18T16:25:10.293Z"
   },
   {
    "duration": 21,
    "start_time": "2024-11-18T16:25:10.321Z"
   },
   {
    "duration": 390,
    "start_time": "2024-11-18T16:25:10.343Z"
   },
   {
    "duration": 325,
    "start_time": "2024-11-18T16:25:10.735Z"
   },
   {
    "duration": 6,
    "start_time": "2024-11-18T16:25:11.062Z"
   },
   {
    "duration": 19,
    "start_time": "2024-11-18T16:25:11.069Z"
   },
   {
    "duration": 32,
    "start_time": "2024-11-18T16:25:11.089Z"
   },
   {
    "duration": 411,
    "start_time": "2024-11-18T16:25:11.123Z"
   },
   {
    "duration": 8,
    "start_time": "2024-11-18T16:25:11.535Z"
   },
   {
    "duration": 39,
    "start_time": "2024-11-18T16:25:11.544Z"
   },
   {
    "duration": 7,
    "start_time": "2024-11-18T16:25:11.586Z"
   },
   {
    "duration": 456,
    "start_time": "2024-11-18T16:25:11.594Z"
   },
   {
    "duration": 398,
    "start_time": "2024-11-18T16:25:12.052Z"
   },
   {
    "duration": 353,
    "start_time": "2024-11-18T16:25:12.451Z"
   },
   {
    "duration": 20,
    "start_time": "2024-11-18T16:25:12.806Z"
   },
   {
    "duration": 6,
    "start_time": "2024-11-18T16:25:12.828Z"
   },
   {
    "duration": 6,
    "start_time": "2024-11-18T16:25:12.836Z"
   },
   {
    "duration": 5,
    "start_time": "2024-11-18T16:25:12.843Z"
   },
   {
    "duration": 8,
    "start_time": "2024-11-18T16:25:12.850Z"
   },
   {
    "duration": 717,
    "start_time": "2024-11-18T16:25:12.859Z"
   },
   {
    "duration": 6,
    "start_time": "2024-11-18T16:25:13.577Z"
   },
   {
    "duration": 22,
    "start_time": "2024-11-18T16:25:13.585Z"
   },
   {
    "duration": 27,
    "start_time": "2024-11-18T16:25:13.608Z"
   },
   {
    "duration": 9,
    "start_time": "2024-11-18T16:25:13.636Z"
   },
   {
    "duration": 16,
    "start_time": "2024-11-18T16:25:13.647Z"
   },
   {
    "duration": 5,
    "start_time": "2024-11-18T16:25:16.725Z"
   },
   {
    "duration": 4,
    "start_time": "2024-11-18T16:25:50.684Z"
   },
   {
    "duration": 383,
    "start_time": "2024-11-18T16:25:52.894Z"
   },
   {
    "duration": 5,
    "start_time": "2024-11-18T16:26:50.323Z"
   },
   {
    "duration": 2819,
    "start_time": "2024-11-18T16:26:52.604Z"
   },
   {
    "duration": 2778,
    "start_time": "2024-11-18T16:27:46.405Z"
   },
   {
    "duration": 2891,
    "start_time": "2024-11-18T16:29:20.086Z"
   },
   {
    "duration": 2768,
    "start_time": "2024-11-18T16:29:33.675Z"
   },
   {
    "duration": 2733,
    "start_time": "2024-11-18T16:29:41.786Z"
   },
   {
    "duration": 2802,
    "start_time": "2024-11-18T16:30:32.165Z"
   },
   {
    "duration": 2763,
    "start_time": "2024-11-18T16:31:46.194Z"
   },
   {
    "duration": 2449,
    "start_time": "2024-11-18T16:31:56.345Z"
   },
   {
    "duration": 1986,
    "start_time": "2024-11-18T16:32:04.845Z"
   },
   {
    "duration": 766,
    "start_time": "2024-11-18T16:32:10.986Z"
   },
   {
    "duration": 6838,
    "start_time": "2024-11-18T16:32:18.845Z"
   },
   {
    "duration": 2855,
    "start_time": "2024-11-18T16:32:45.235Z"
   },
   {
    "duration": 1076,
    "start_time": "2024-11-18T16:33:03.325Z"
   },
   {
    "duration": 248,
    "start_time": "2024-11-18T16:34:50.276Z"
   },
   {
    "duration": 161,
    "start_time": "2024-11-18T16:35:15.873Z"
   },
   {
    "duration": 233,
    "start_time": "2024-11-18T16:35:17.885Z"
   },
   {
    "duration": 409,
    "start_time": "2024-11-18T16:35:47.805Z"
   },
   {
    "duration": 21,
    "start_time": "2024-11-18T16:35:49.726Z"
   },
   {
    "duration": 4,
    "start_time": "2024-11-18T16:35:51.046Z"
   },
   {
    "duration": 4,
    "start_time": "2024-11-18T16:36:16.136Z"
   },
   {
    "duration": 17,
    "start_time": "2024-11-18T16:44:17.866Z"
   },
   {
    "duration": 780,
    "start_time": "2024-11-18T16:44:29.187Z"
   },
   {
    "duration": 4,
    "start_time": "2024-11-18T16:45:44.067Z"
   },
   {
    "duration": 363,
    "start_time": "2024-11-18T16:45:44.072Z"
   },
   {
    "duration": 293,
    "start_time": "2024-11-18T16:45:44.436Z"
   },
   {
    "duration": 24,
    "start_time": "2024-11-18T16:45:44.732Z"
   },
   {
    "duration": 17,
    "start_time": "2024-11-18T16:45:44.758Z"
   },
   {
    "duration": 113,
    "start_time": "2024-11-18T16:45:44.776Z"
   },
   {
    "duration": 356,
    "start_time": "2024-11-18T16:45:44.890Z"
   },
   {
    "duration": 6,
    "start_time": "2024-11-18T16:45:45.247Z"
   },
   {
    "duration": 29,
    "start_time": "2024-11-18T16:45:45.254Z"
   },
   {
    "duration": 17,
    "start_time": "2024-11-18T16:45:45.285Z"
   },
   {
    "duration": 419,
    "start_time": "2024-11-18T16:45:45.304Z"
   },
   {
    "duration": 17,
    "start_time": "2024-11-18T16:45:45.724Z"
   },
   {
    "duration": 19,
    "start_time": "2024-11-18T16:45:45.743Z"
   },
   {
    "duration": 13,
    "start_time": "2024-11-18T16:45:45.765Z"
   },
   {
    "duration": 409,
    "start_time": "2024-11-18T16:45:45.780Z"
   },
   {
    "duration": 429,
    "start_time": "2024-11-18T16:45:46.190Z"
   },
   {
    "duration": 484,
    "start_time": "2024-11-18T16:45:46.622Z"
   },
   {
    "duration": 22,
    "start_time": "2024-11-18T16:45:47.113Z"
   },
   {
    "duration": 5,
    "start_time": "2024-11-18T16:45:47.137Z"
   },
   {
    "duration": 6,
    "start_time": "2024-11-18T16:45:47.144Z"
   },
   {
    "duration": 7,
    "start_time": "2024-11-18T16:45:47.151Z"
   },
   {
    "duration": 6,
    "start_time": "2024-11-18T16:45:47.159Z"
   },
   {
    "duration": 642,
    "start_time": "2024-11-18T16:45:47.166Z"
   },
   {
    "duration": 9,
    "start_time": "2024-11-18T16:45:47.814Z"
   },
   {
    "duration": 13,
    "start_time": "2024-11-18T16:45:47.825Z"
   },
   {
    "duration": 18,
    "start_time": "2024-11-18T16:45:47.839Z"
   },
   {
    "duration": 8,
    "start_time": "2024-11-18T16:45:47.858Z"
   },
   {
    "duration": 13,
    "start_time": "2024-11-18T16:45:47.868Z"
   },
   {
    "duration": 5,
    "start_time": "2024-11-18T16:45:47.914Z"
   },
   {
    "duration": 2840,
    "start_time": "2024-11-18T16:45:54.219Z"
   },
   {
    "duration": 812,
    "start_time": "2024-11-18T16:48:01.806Z"
   },
   {
    "duration": 18,
    "start_time": "2024-11-18T16:58:16.285Z"
   },
   {
    "duration": 19,
    "start_time": "2024-11-18T16:58:17.236Z"
   },
   {
    "duration": 9,
    "start_time": "2024-11-18T16:58:17.908Z"
   },
   {
    "duration": 4207,
    "start_time": "2024-11-18T17:00:18.422Z"
   },
   {
    "duration": 2856,
    "start_time": "2024-11-18T17:01:49.218Z"
   },
   {
    "duration": 2787,
    "start_time": "2024-11-18T17:02:23.477Z"
   },
   {
    "duration": 790,
    "start_time": "2024-11-18T17:03:58.646Z"
   },
   {
    "duration": 2811,
    "start_time": "2024-11-18T17:04:30.606Z"
   },
   {
    "duration": 2879,
    "start_time": "2024-11-18T17:06:19.062Z"
   },
   {
    "duration": 2842,
    "start_time": "2024-11-18T17:06:37.815Z"
   },
   {
    "duration": 2867,
    "start_time": "2024-11-18T17:07:10.193Z"
   },
   {
    "duration": 105,
    "start_time": "2024-11-18T17:09:30.554Z"
   },
   {
    "duration": 353,
    "start_time": "2024-11-18T17:10:04.794Z"
   },
   {
    "duration": 789,
    "start_time": "2024-11-18T17:10:12.934Z"
   },
   {
    "duration": 2872,
    "start_time": "2024-11-18T17:10:58.719Z"
   },
   {
    "duration": 3,
    "start_time": "2024-11-18T17:11:31.947Z"
   },
   {
    "duration": 357,
    "start_time": "2024-11-18T17:11:31.952Z"
   },
   {
    "duration": 265,
    "start_time": "2024-11-18T17:11:32.311Z"
   },
   {
    "duration": 24,
    "start_time": "2024-11-18T17:11:32.577Z"
   },
   {
    "duration": 28,
    "start_time": "2024-11-18T17:11:32.613Z"
   },
   {
    "duration": 80,
    "start_time": "2024-11-18T17:11:32.642Z"
   },
   {
    "duration": 386,
    "start_time": "2024-11-18T17:11:32.724Z"
   },
   {
    "duration": 6,
    "start_time": "2024-11-18T17:11:33.111Z"
   },
   {
    "duration": 32,
    "start_time": "2024-11-18T17:11:33.129Z"
   },
   {
    "duration": 11,
    "start_time": "2024-11-18T17:11:33.163Z"
   },
   {
    "duration": 390,
    "start_time": "2024-11-18T17:11:33.175Z"
   },
   {
    "duration": 8,
    "start_time": "2024-11-18T17:11:33.567Z"
   },
   {
    "duration": 16,
    "start_time": "2024-11-18T17:11:33.576Z"
   },
   {
    "duration": 24,
    "start_time": "2024-11-18T17:11:33.594Z"
   },
   {
    "duration": 486,
    "start_time": "2024-11-18T17:11:33.620Z"
   },
   {
    "duration": 474,
    "start_time": "2024-11-18T17:11:34.107Z"
   },
   {
    "duration": 408,
    "start_time": "2024-11-18T17:11:34.583Z"
   },
   {
    "duration": 29,
    "start_time": "2024-11-18T17:11:34.992Z"
   },
   {
    "duration": 6,
    "start_time": "2024-11-18T17:11:35.023Z"
   },
   {
    "duration": 8,
    "start_time": "2024-11-18T17:11:35.030Z"
   },
   {
    "duration": 12,
    "start_time": "2024-11-18T17:11:35.039Z"
   },
   {
    "duration": 21,
    "start_time": "2024-11-18T17:11:35.052Z"
   },
   {
    "duration": 621,
    "start_time": "2024-11-18T17:11:35.074Z"
   },
   {
    "duration": 6,
    "start_time": "2024-11-18T17:11:35.696Z"
   },
   {
    "duration": 32,
    "start_time": "2024-11-18T17:11:35.703Z"
   },
   {
    "duration": 35,
    "start_time": "2024-11-18T17:11:35.737Z"
   },
   {
    "duration": 21,
    "start_time": "2024-11-18T17:11:35.773Z"
   },
   {
    "duration": 112,
    "start_time": "2024-11-18T17:11:35.796Z"
   },
   {
    "duration": 15,
    "start_time": "2024-11-18T17:11:35.911Z"
   },
   {
    "duration": 2881,
    "start_time": "2024-11-18T17:11:38.184Z"
   },
   {
    "duration": 1337,
    "start_time": "2024-11-18T17:11:47.655Z"
   },
   {
    "duration": 2869,
    "start_time": "2024-11-18T17:11:56.715Z"
   },
   {
    "duration": 362,
    "start_time": "2024-11-18T17:12:19.085Z"
   },
   {
    "duration": 818,
    "start_time": "2024-11-18T17:12:26.565Z"
   },
   {
    "duration": 2828,
    "start_time": "2024-11-18T17:12:32.274Z"
   },
   {
    "duration": 3747,
    "start_time": "2024-11-18T17:13:50.575Z"
   },
   {
    "duration": 2134,
    "start_time": "2024-11-18T17:13:58.794Z"
   },
   {
    "duration": 2825,
    "start_time": "2024-11-18T17:14:12.684Z"
   },
   {
    "duration": 2854,
    "start_time": "2024-11-18T17:14:52.693Z"
   },
   {
    "duration": 14,
    "start_time": "2024-11-18T17:15:45.696Z"
   },
   {
    "duration": 2821,
    "start_time": "2024-11-18T17:15:49.538Z"
   },
   {
    "duration": 2830,
    "start_time": "2024-11-18T17:16:41.437Z"
   },
   {
    "duration": 1618,
    "start_time": "2024-11-18T19:50:29.902Z"
   },
   {
    "duration": 2216,
    "start_time": "2024-11-18T19:50:31.522Z"
   },
   {
    "duration": 1330,
    "start_time": "2024-11-18T19:50:33.740Z"
   },
   {
    "duration": 33,
    "start_time": "2024-11-18T19:50:35.072Z"
   },
   {
    "duration": 70,
    "start_time": "2024-11-18T19:50:35.106Z"
   },
   {
    "duration": 193,
    "start_time": "2024-11-18T19:50:35.178Z"
   },
   {
    "duration": 353,
    "start_time": "2024-11-18T19:50:35.373Z"
   },
   {
    "duration": 7,
    "start_time": "2024-11-18T19:50:35.727Z"
   },
   {
    "duration": 61,
    "start_time": "2024-11-18T19:50:35.736Z"
   },
   {
    "duration": 14,
    "start_time": "2024-11-18T19:50:35.798Z"
   },
   {
    "duration": 480,
    "start_time": "2024-11-18T19:50:35.813Z"
   },
   {
    "duration": 9,
    "start_time": "2024-11-18T19:50:36.295Z"
   },
   {
    "duration": 33,
    "start_time": "2024-11-18T19:50:36.305Z"
   },
   {
    "duration": 19,
    "start_time": "2024-11-18T19:50:36.344Z"
   },
   {
    "duration": 486,
    "start_time": "2024-11-18T19:50:36.365Z"
   },
   {
    "duration": 490,
    "start_time": "2024-11-18T19:50:36.853Z"
   },
   {
    "duration": 491,
    "start_time": "2024-11-18T19:50:37.346Z"
   },
   {
    "duration": 11,
    "start_time": "2024-11-18T19:50:37.838Z"
   },
   {
    "duration": 6,
    "start_time": "2024-11-18T19:50:37.851Z"
   },
   {
    "duration": 6,
    "start_time": "2024-11-18T19:50:37.859Z"
   },
   {
    "duration": 7,
    "start_time": "2024-11-18T19:50:37.867Z"
   },
   {
    "duration": 6,
    "start_time": "2024-11-18T19:50:37.876Z"
   },
   {
    "duration": 775,
    "start_time": "2024-11-18T19:50:37.884Z"
   },
   {
    "duration": 7,
    "start_time": "2024-11-18T19:50:38.661Z"
   },
   {
    "duration": 13,
    "start_time": "2024-11-18T19:50:38.669Z"
   },
   {
    "duration": 37,
    "start_time": "2024-11-18T19:50:38.684Z"
   },
   {
    "duration": 14,
    "start_time": "2024-11-18T19:50:38.722Z"
   },
   {
    "duration": 17,
    "start_time": "2024-11-18T19:50:38.737Z"
   },
   {
    "duration": 60,
    "start_time": "2024-11-18T19:50:38.755Z"
   },
   {
    "duration": 2667,
    "start_time": "2024-11-18T19:50:40.541Z"
   },
   {
    "duration": 2626,
    "start_time": "2024-11-18T19:51:32.925Z"
   },
   {
    "duration": 710,
    "start_time": "2024-11-18T19:53:54.311Z"
   },
   {
    "duration": 160,
    "start_time": "2024-11-18T19:54:20.763Z"
   },
   {
    "duration": 313,
    "start_time": "2024-11-18T19:54:21.608Z"
   },
   {
    "duration": 4,
    "start_time": "2024-11-18T19:54:22.408Z"
   },
   {
    "duration": 6,
    "start_time": "2024-11-18T20:00:37.967Z"
   },
   {
    "duration": 4,
    "start_time": "2024-11-18T20:02:47.370Z"
   },
   {
    "duration": 474,
    "start_time": "2024-11-18T20:02:47.375Z"
   },
   {
    "duration": 280,
    "start_time": "2024-11-18T20:02:47.851Z"
   },
   {
    "duration": 26,
    "start_time": "2024-11-18T20:02:48.132Z"
   },
   {
    "duration": 17,
    "start_time": "2024-11-18T20:02:48.160Z"
   },
   {
    "duration": 95,
    "start_time": "2024-11-18T20:02:48.179Z"
   },
   {
    "duration": 376,
    "start_time": "2024-11-18T20:02:48.276Z"
   },
   {
    "duration": 6,
    "start_time": "2024-11-18T20:02:48.653Z"
   },
   {
    "duration": 19,
    "start_time": "2024-11-18T20:02:48.661Z"
   },
   {
    "duration": 18,
    "start_time": "2024-11-18T20:02:48.682Z"
   },
   {
    "duration": 390,
    "start_time": "2024-11-18T20:02:48.703Z"
   },
   {
    "duration": 9,
    "start_time": "2024-11-18T20:02:49.094Z"
   },
   {
    "duration": 25,
    "start_time": "2024-11-18T20:02:49.104Z"
   },
   {
    "duration": 7,
    "start_time": "2024-11-18T20:02:49.131Z"
   },
   {
    "duration": 450,
    "start_time": "2024-11-18T20:02:49.139Z"
   },
   {
    "duration": 420,
    "start_time": "2024-11-18T20:02:49.591Z"
   },
   {
    "duration": 482,
    "start_time": "2024-11-18T20:02:50.020Z"
   },
   {
    "duration": 17,
    "start_time": "2024-11-18T20:02:50.504Z"
   },
   {
    "duration": 5,
    "start_time": "2024-11-18T20:02:50.522Z"
   },
   {
    "duration": 23,
    "start_time": "2024-11-18T20:02:50.528Z"
   },
   {
    "duration": 5,
    "start_time": "2024-11-18T20:02:50.553Z"
   },
   {
    "duration": 25,
    "start_time": "2024-11-18T20:02:50.559Z"
   },
   {
    "duration": 630,
    "start_time": "2024-11-18T20:02:50.585Z"
   },
   {
    "duration": 6,
    "start_time": "2024-11-18T20:02:51.220Z"
   },
   {
    "duration": 36,
    "start_time": "2024-11-18T20:02:51.228Z"
   },
   {
    "duration": 35,
    "start_time": "2024-11-18T20:02:51.266Z"
   },
   {
    "duration": 12,
    "start_time": "2024-11-18T20:02:51.302Z"
   },
   {
    "duration": 40,
    "start_time": "2024-11-18T20:02:51.316Z"
   },
   {
    "duration": 109,
    "start_time": "2024-11-18T20:02:51.358Z"
   },
   {
    "duration": 2677,
    "start_time": "2024-11-18T20:02:51.469Z"
   },
   {
    "duration": 86,
    "start_time": "2024-11-18T20:02:54.148Z"
   },
   {
    "duration": 300,
    "start_time": "2024-11-18T20:02:54.322Z"
   },
   {
    "duration": 5,
    "start_time": "2024-11-18T20:02:54.624Z"
   },
   {
    "duration": 4,
    "start_time": "2024-11-18T20:10:48.586Z"
   },
   {
    "duration": 6,
    "start_time": "2024-11-18T20:12:37.516Z"
   },
   {
    "duration": 392,
    "start_time": "2024-11-18T20:12:37.524Z"
   },
   {
    "duration": 257,
    "start_time": "2024-11-18T20:12:37.918Z"
   },
   {
    "duration": 26,
    "start_time": "2024-11-18T20:12:38.177Z"
   },
   {
    "duration": 31,
    "start_time": "2024-11-18T20:12:38.204Z"
   },
   {
    "duration": 82,
    "start_time": "2024-11-18T20:12:38.236Z"
   },
   {
    "duration": 372,
    "start_time": "2024-11-18T20:12:38.319Z"
   },
   {
    "duration": 7,
    "start_time": "2024-11-18T20:12:38.692Z"
   },
   {
    "duration": 20,
    "start_time": "2024-11-18T20:12:38.702Z"
   },
   {
    "duration": 12,
    "start_time": "2024-11-18T20:12:38.723Z"
   },
   {
    "duration": 418,
    "start_time": "2024-11-18T20:12:38.736Z"
   },
   {
    "duration": 8,
    "start_time": "2024-11-18T20:12:39.155Z"
   },
   {
    "duration": 65,
    "start_time": "2024-11-18T20:12:39.165Z"
   },
   {
    "duration": 12,
    "start_time": "2024-11-18T20:12:39.231Z"
   },
   {
    "duration": 528,
    "start_time": "2024-11-18T20:12:39.245Z"
   },
   {
    "duration": 428,
    "start_time": "2024-11-18T20:12:39.774Z"
   },
   {
    "duration": 404,
    "start_time": "2024-11-18T20:12:40.203Z"
   },
   {
    "duration": 15,
    "start_time": "2024-11-18T20:12:40.608Z"
   },
   {
    "duration": 6,
    "start_time": "2024-11-18T20:12:40.625Z"
   },
   {
    "duration": 12,
    "start_time": "2024-11-18T20:12:40.632Z"
   },
   {
    "duration": 9,
    "start_time": "2024-11-18T20:12:40.645Z"
   },
   {
    "duration": 10,
    "start_time": "2024-11-18T20:12:40.656Z"
   },
   {
    "duration": 637,
    "start_time": "2024-11-18T20:12:40.667Z"
   },
   {
    "duration": 14,
    "start_time": "2024-11-18T20:12:41.307Z"
   },
   {
    "duration": 11,
    "start_time": "2024-11-18T20:12:41.322Z"
   },
   {
    "duration": 17,
    "start_time": "2024-11-18T20:12:41.335Z"
   },
   {
    "duration": 8,
    "start_time": "2024-11-18T20:12:41.353Z"
   },
   {
    "duration": 131,
    "start_time": "2024-11-18T20:12:41.362Z"
   },
   {
    "duration": 27,
    "start_time": "2024-11-18T20:12:41.494Z"
   },
   {
    "duration": 2654,
    "start_time": "2024-11-18T20:12:41.522Z"
   },
   {
    "duration": 244,
    "start_time": "2024-11-18T20:12:44.177Z"
   },
   {
    "duration": 206,
    "start_time": "2024-11-18T20:12:44.423Z"
   },
   {
    "duration": 5,
    "start_time": "2024-11-18T20:12:46.320Z"
   },
   {
    "duration": 464837,
    "start_time": "2024-11-18T20:12:55.426Z"
   },
   {
    "duration": 67,
    "start_time": "2024-11-18T20:27:00.000Z"
   },
   {
    "duration": 1742,
    "start_time": "2024-11-19T11:20:19.295Z"
   },
   {
    "duration": 1899,
    "start_time": "2024-11-19T11:20:21.039Z"
   },
   {
    "duration": 1371,
    "start_time": "2024-11-19T11:20:22.940Z"
   },
   {
    "duration": 31,
    "start_time": "2024-11-19T11:20:24.312Z"
   },
   {
    "duration": 18,
    "start_time": "2024-11-19T11:20:24.345Z"
   },
   {
    "duration": 191,
    "start_time": "2024-11-19T11:20:24.369Z"
   },
   {
    "duration": 365,
    "start_time": "2024-11-19T11:20:24.562Z"
   },
   {
    "duration": 8,
    "start_time": "2024-11-19T11:20:24.928Z"
   },
   {
    "duration": 55,
    "start_time": "2024-11-19T11:20:24.937Z"
   },
   {
    "duration": 13,
    "start_time": "2024-11-19T11:20:24.994Z"
   },
   {
    "duration": 451,
    "start_time": "2024-11-19T11:20:25.009Z"
   },
   {
    "duration": 9,
    "start_time": "2024-11-19T11:20:25.469Z"
   },
   {
    "duration": 22,
    "start_time": "2024-11-19T11:20:25.480Z"
   },
   {
    "duration": 7,
    "start_time": "2024-11-19T11:20:25.505Z"
   },
   {
    "duration": 516,
    "start_time": "2024-11-19T11:20:25.513Z"
   },
   {
    "duration": 450,
    "start_time": "2024-11-19T11:20:26.032Z"
   },
   {
    "duration": 388,
    "start_time": "2024-11-19T11:20:26.484Z"
   },
   {
    "duration": 11,
    "start_time": "2024-11-19T11:20:26.874Z"
   },
   {
    "duration": 5,
    "start_time": "2024-11-19T11:20:26.886Z"
   },
   {
    "duration": 5,
    "start_time": "2024-11-19T11:20:26.893Z"
   },
   {
    "duration": 6,
    "start_time": "2024-11-19T11:20:26.899Z"
   },
   {
    "duration": 65,
    "start_time": "2024-11-19T11:20:26.906Z"
   },
   {
    "duration": 770,
    "start_time": "2024-11-19T11:20:26.973Z"
   },
   {
    "duration": 126,
    "start_time": "2024-11-19T11:20:40.616Z"
   },
   {
    "duration": 12,
    "start_time": "2024-11-19T11:20:55.412Z"
   },
   {
    "duration": 9,
    "start_time": "2024-11-19T11:21:15.756Z"
   },
   {
    "duration": 11,
    "start_time": "2024-11-19T11:21:52.188Z"
   },
   {
    "duration": 14,
    "start_time": "2024-11-19T11:23:01.638Z"
   },
   {
    "duration": 3,
    "start_time": "2024-11-19T11:23:06.234Z"
   },
   {
    "duration": 400,
    "start_time": "2024-11-19T11:23:06.239Z"
   },
   {
    "duration": 284,
    "start_time": "2024-11-19T11:23:06.641Z"
   },
   {
    "duration": 29,
    "start_time": "2024-11-19T11:23:06.928Z"
   },
   {
    "duration": 28,
    "start_time": "2024-11-19T11:23:06.958Z"
   },
   {
    "duration": 95,
    "start_time": "2024-11-19T11:23:06.987Z"
   },
   {
    "duration": 399,
    "start_time": "2024-11-19T11:23:07.083Z"
   },
   {
    "duration": 7,
    "start_time": "2024-11-19T11:23:07.484Z"
   },
   {
    "duration": 22,
    "start_time": "2024-11-19T11:23:07.493Z"
   },
   {
    "duration": 15,
    "start_time": "2024-11-19T11:23:07.517Z"
   },
   {
    "duration": 460,
    "start_time": "2024-11-19T11:23:07.534Z"
   },
   {
    "duration": 9,
    "start_time": "2024-11-19T11:23:07.996Z"
   },
   {
    "duration": 50,
    "start_time": "2024-11-19T11:23:08.007Z"
   },
   {
    "duration": 10,
    "start_time": "2024-11-19T11:23:08.058Z"
   },
   {
    "duration": 480,
    "start_time": "2024-11-19T11:23:08.070Z"
   },
   {
    "duration": 453,
    "start_time": "2024-11-19T11:23:08.551Z"
   },
   {
    "duration": 569,
    "start_time": "2024-11-19T11:23:09.005Z"
   },
   {
    "duration": 11,
    "start_time": "2024-11-19T11:23:09.575Z"
   },
   {
    "duration": 5,
    "start_time": "2024-11-19T11:23:09.588Z"
   },
   {
    "duration": 6,
    "start_time": "2024-11-19T11:23:09.595Z"
   },
   {
    "duration": 7,
    "start_time": "2024-11-19T11:23:09.602Z"
   },
   {
    "duration": 14,
    "start_time": "2024-11-19T11:23:09.610Z"
   },
   {
    "duration": 717,
    "start_time": "2024-11-19T11:23:09.626Z"
   },
   {
    "duration": 8,
    "start_time": "2024-11-19T11:23:10.346Z"
   },
   {
    "duration": 22,
    "start_time": "2024-11-19T11:23:10.356Z"
   },
   {
    "duration": 20,
    "start_time": "2024-11-19T11:23:10.380Z"
   },
   {
    "duration": 11,
    "start_time": "2024-11-19T11:23:10.401Z"
   },
   {
    "duration": 15,
    "start_time": "2024-11-19T11:23:11.339Z"
   },
   {
    "duration": 4,
    "start_time": "2024-11-19T11:23:15.540Z"
   },
   {
    "duration": 78,
    "start_time": "2024-11-19T11:23:22.997Z"
   },
   {
    "duration": 14,
    "start_time": "2024-11-19T11:24:33.339Z"
   },
   {
    "duration": 4,
    "start_time": "2024-11-19T11:24:35.311Z"
   },
   {
    "duration": 2799,
    "start_time": "2024-11-19T11:24:37.951Z"
   },
   {
    "duration": 24,
    "start_time": "2024-11-19T11:35:38.139Z"
   },
   {
    "duration": 23,
    "start_time": "2024-11-19T11:36:22.386Z"
   },
   {
    "duration": 14,
    "start_time": "2024-11-19T11:39:38.669Z"
   },
   {
    "duration": 4,
    "start_time": "2024-11-19T11:39:41.830Z"
   },
   {
    "duration": 2745,
    "start_time": "2024-11-19T11:39:44.310Z"
   },
   {
    "duration": 18,
    "start_time": "2024-11-19T12:16:53.573Z"
   },
   {
    "duration": 4,
    "start_time": "2024-11-19T12:16:57.990Z"
   },
   {
    "duration": 446,
    "start_time": "2024-11-19T12:16:57.996Z"
   },
   {
    "duration": 300,
    "start_time": "2024-11-19T12:16:58.444Z"
   },
   {
    "duration": 35,
    "start_time": "2024-11-19T12:16:58.746Z"
   },
   {
    "duration": 19,
    "start_time": "2024-11-19T12:16:58.782Z"
   },
   {
    "duration": 86,
    "start_time": "2024-11-19T12:16:58.802Z"
   },
   {
    "duration": 382,
    "start_time": "2024-11-19T12:16:58.889Z"
   },
   {
    "duration": 6,
    "start_time": "2024-11-19T12:16:59.273Z"
   },
   {
    "duration": 28,
    "start_time": "2024-11-19T12:16:59.281Z"
   },
   {
    "duration": 18,
    "start_time": "2024-11-19T12:16:59.311Z"
   },
   {
    "duration": 453,
    "start_time": "2024-11-19T12:16:59.331Z"
   },
   {
    "duration": 8,
    "start_time": "2024-11-19T12:16:59.786Z"
   },
   {
    "duration": 14,
    "start_time": "2024-11-19T12:16:59.795Z"
   },
   {
    "duration": 8,
    "start_time": "2024-11-19T12:16:59.811Z"
   },
   {
    "duration": 577,
    "start_time": "2024-11-19T12:16:59.820Z"
   },
   {
    "duration": 509,
    "start_time": "2024-11-19T12:17:00.399Z"
   },
   {
    "duration": 506,
    "start_time": "2024-11-19T12:17:00.910Z"
   },
   {
    "duration": 11,
    "start_time": "2024-11-19T12:17:01.418Z"
   },
   {
    "duration": 13,
    "start_time": "2024-11-19T12:17:01.430Z"
   },
   {
    "duration": 7,
    "start_time": "2024-11-19T12:17:01.445Z"
   },
   {
    "duration": 10,
    "start_time": "2024-11-19T12:17:01.469Z"
   },
   {
    "duration": 22,
    "start_time": "2024-11-19T12:17:01.480Z"
   },
   {
    "duration": 671,
    "start_time": "2024-11-19T12:17:01.503Z"
   },
   {
    "duration": 19,
    "start_time": "2024-11-19T12:17:02.179Z"
   },
   {
    "duration": 76,
    "start_time": "2024-11-19T12:17:02.199Z"
   },
   {
    "duration": 40,
    "start_time": "2024-11-19T12:17:02.276Z"
   },
   {
    "duration": 39,
    "start_time": "2024-11-19T12:17:02.319Z"
   },
   {
    "duration": 144,
    "start_time": "2024-11-19T12:17:02.359Z"
   },
   {
    "duration": 27,
    "start_time": "2024-11-19T12:17:02.505Z"
   },
   {
    "duration": 2791,
    "start_time": "2024-11-19T12:17:02.534Z"
   },
   {
    "duration": 147,
    "start_time": "2024-11-19T12:17:05.327Z"
   },
   {
    "duration": 201,
    "start_time": "2024-11-19T12:17:05.476Z"
   },
   {
    "duration": 5,
    "start_time": "2024-11-19T12:17:05.770Z"
   },
   {
    "duration": 482706,
    "start_time": "2024-11-19T12:17:05.777Z"
   },
   {
    "duration": 86,
    "start_time": "2024-11-19T12:25:08.484Z"
   },
   {
    "duration": 331,
    "start_time": "2024-11-19T12:25:08.573Z"
   },
   {
    "duration": 14,
    "start_time": "2024-11-19T12:50:13.087Z"
   },
   {
    "duration": 5,
    "start_time": "2024-11-19T12:50:42.755Z"
   },
   {
    "duration": 389,
    "start_time": "2024-11-19T12:50:42.761Z"
   },
   {
    "duration": 297,
    "start_time": "2024-11-19T12:50:43.152Z"
   },
   {
    "duration": 43,
    "start_time": "2024-11-19T12:50:43.451Z"
   },
   {
    "duration": 19,
    "start_time": "2024-11-19T12:50:43.496Z"
   },
   {
    "duration": 109,
    "start_time": "2024-11-19T12:50:43.517Z"
   },
   {
    "duration": 430,
    "start_time": "2024-11-19T12:50:43.628Z"
   },
   {
    "duration": 7,
    "start_time": "2024-11-19T12:50:44.059Z"
   },
   {
    "duration": 29,
    "start_time": "2024-11-19T12:50:44.068Z"
   },
   {
    "duration": 15,
    "start_time": "2024-11-19T12:50:44.098Z"
   },
   {
    "duration": 516,
    "start_time": "2024-11-19T12:50:44.115Z"
   },
   {
    "duration": 8,
    "start_time": "2024-11-19T12:50:44.632Z"
   },
   {
    "duration": 34,
    "start_time": "2024-11-19T12:50:44.642Z"
   },
   {
    "duration": 14,
    "start_time": "2024-11-19T12:50:44.678Z"
   },
   {
    "duration": 14,
    "start_time": "2024-11-19T12:50:44.694Z"
   },
   {
    "duration": 476,
    "start_time": "2024-11-19T12:50:44.710Z"
   },
   {
    "duration": 463,
    "start_time": "2024-11-19T12:50:45.188Z"
   },
   {
    "duration": 461,
    "start_time": "2024-11-19T12:50:45.653Z"
   },
   {
    "duration": 12,
    "start_time": "2024-11-19T12:50:46.116Z"
   },
   {
    "duration": 67,
    "start_time": "2024-11-19T12:50:46.129Z"
   },
   {
    "duration": 9,
    "start_time": "2024-11-19T12:50:46.198Z"
   },
   {
    "duration": 10,
    "start_time": "2024-11-19T12:50:46.209Z"
   },
   {
    "duration": 9,
    "start_time": "2024-11-19T12:50:46.221Z"
   },
   {
    "duration": 866,
    "start_time": "2024-11-19T12:50:46.234Z"
   },
   {
    "duration": 18,
    "start_time": "2024-11-19T12:50:47.102Z"
   },
   {
    "duration": 18,
    "start_time": "2024-11-19T12:50:47.122Z"
   },
   {
    "duration": 34,
    "start_time": "2024-11-19T12:50:47.141Z"
   },
   {
    "duration": 16,
    "start_time": "2024-11-19T12:50:47.176Z"
   },
   {
    "duration": 16,
    "start_time": "2024-11-19T12:50:47.194Z"
   },
   {
    "duration": 74,
    "start_time": "2024-11-19T12:50:47.212Z"
   },
   {
    "duration": 2861,
    "start_time": "2024-11-19T12:50:47.288Z"
   },
   {
    "duration": 232,
    "start_time": "2024-11-19T12:50:50.151Z"
   },
   {
    "duration": 603,
    "start_time": "2024-11-19T12:50:50.469Z"
   },
   {
    "duration": 6,
    "start_time": "2024-11-19T12:50:51.074Z"
   },
   {
    "duration": 4,
    "start_time": "2024-11-19T12:51:16.756Z"
   },
   {
    "duration": 499069,
    "start_time": "2024-11-19T12:51:16.762Z"
   },
   {
    "duration": 50,
    "start_time": "2024-11-19T12:59:35.833Z"
   },
   {
    "duration": 373,
    "start_time": "2024-11-19T12:59:35.887Z"
   },
   {
    "duration": 4,
    "start_time": "2024-11-19T13:24:02.608Z"
   },
   {
    "duration": 381,
    "start_time": "2024-11-19T13:24:02.613Z"
   },
   {
    "duration": 298,
    "start_time": "2024-11-19T13:24:02.996Z"
   },
   {
    "duration": 27,
    "start_time": "2024-11-19T13:24:03.295Z"
   },
   {
    "duration": 36,
    "start_time": "2024-11-19T13:24:03.324Z"
   },
   {
    "duration": 81,
    "start_time": "2024-11-19T13:24:03.361Z"
   },
   {
    "duration": 415,
    "start_time": "2024-11-19T13:24:03.443Z"
   },
   {
    "duration": 6,
    "start_time": "2024-11-19T13:24:03.859Z"
   },
   {
    "duration": 23,
    "start_time": "2024-11-19T13:24:03.866Z"
   },
   {
    "duration": 19,
    "start_time": "2024-11-19T13:24:03.891Z"
   },
   {
    "duration": 475,
    "start_time": "2024-11-19T13:24:03.912Z"
   },
   {
    "duration": 10,
    "start_time": "2024-11-19T13:24:04.389Z"
   },
   {
    "duration": 34,
    "start_time": "2024-11-19T13:24:04.401Z"
   },
   {
    "duration": 17,
    "start_time": "2024-11-19T13:24:04.439Z"
   },
   {
    "duration": 13,
    "start_time": "2024-11-19T13:24:04.458Z"
   },
   {
    "duration": 590,
    "start_time": "2024-11-19T13:24:04.473Z"
   },
   {
    "duration": 480,
    "start_time": "2024-11-19T13:24:05.064Z"
   },
   {
    "duration": 625,
    "start_time": "2024-11-19T13:24:05.546Z"
   },
   {
    "duration": 11,
    "start_time": "2024-11-19T13:24:06.173Z"
   },
   {
    "duration": 9,
    "start_time": "2024-11-19T13:24:06.186Z"
   },
   {
    "duration": 5,
    "start_time": "2024-11-19T13:24:06.197Z"
   },
   {
    "duration": 5,
    "start_time": "2024-11-19T13:24:06.204Z"
   },
   {
    "duration": 6,
    "start_time": "2024-11-19T13:24:06.211Z"
   },
   {
    "duration": 740,
    "start_time": "2024-11-19T13:24:06.218Z"
   },
   {
    "duration": 23,
    "start_time": "2024-11-19T13:24:06.960Z"
   },
   {
    "duration": 13,
    "start_time": "2024-11-19T13:24:06.985Z"
   },
   {
    "duration": 28,
    "start_time": "2024-11-19T13:24:07.000Z"
   },
   {
    "duration": 9,
    "start_time": "2024-11-19T13:24:07.030Z"
   },
   {
    "duration": 32,
    "start_time": "2024-11-19T13:24:07.041Z"
   },
   {
    "duration": 4,
    "start_time": "2024-11-19T13:24:07.075Z"
   },
   {
    "duration": 2693,
    "start_time": "2024-11-19T13:24:07.081Z"
   },
   {
    "duration": 195,
    "start_time": "2024-11-19T13:24:09.776Z"
   },
   {
    "duration": 396,
    "start_time": "2024-11-19T13:24:09.974Z"
   },
   {
    "duration": 5,
    "start_time": "2024-11-19T13:24:10.373Z"
   },
   {
    "duration": 480442,
    "start_time": "2024-11-19T13:24:10.380Z"
   },
   {
    "duration": 51,
    "start_time": "2024-11-19T13:32:10.824Z"
   },
   {
    "duration": 406,
    "start_time": "2024-11-19T13:32:10.878Z"
   },
   {
    "duration": 236,
    "start_time": "2024-11-19T13:32:11.288Z"
   },
   {
    "duration": 4,
    "start_time": "2024-11-19T13:32:21.688Z"
   },
   {
    "duration": 376,
    "start_time": "2024-11-19T13:32:21.694Z"
   },
   {
    "duration": 308,
    "start_time": "2024-11-19T13:32:22.071Z"
   },
   {
    "duration": 29,
    "start_time": "2024-11-19T13:32:22.382Z"
   },
   {
    "duration": 159,
    "start_time": "2024-11-19T13:32:22.413Z"
   },
   {
    "duration": 89,
    "start_time": "2024-11-19T13:32:22.574Z"
   },
   {
    "duration": 397,
    "start_time": "2024-11-19T13:32:22.665Z"
   },
   {
    "duration": 6,
    "start_time": "2024-11-19T13:32:23.064Z"
   },
   {
    "duration": 21,
    "start_time": "2024-11-19T13:32:23.071Z"
   },
   {
    "duration": 13,
    "start_time": "2024-11-19T13:32:23.094Z"
   },
   {
    "duration": 450,
    "start_time": "2024-11-19T13:32:23.108Z"
   },
   {
    "duration": 13,
    "start_time": "2024-11-19T13:32:23.560Z"
   },
   {
    "duration": 20,
    "start_time": "2024-11-19T13:32:23.575Z"
   },
   {
    "duration": 15,
    "start_time": "2024-11-19T13:32:23.596Z"
   },
   {
    "duration": 29,
    "start_time": "2024-11-19T13:32:23.613Z"
   },
   {
    "duration": 430,
    "start_time": "2024-11-19T13:32:23.644Z"
   },
   {
    "duration": 452,
    "start_time": "2024-11-19T13:32:24.075Z"
   },
   {
    "duration": 439,
    "start_time": "2024-11-19T13:32:24.529Z"
   },
   {
    "duration": 11,
    "start_time": "2024-11-19T13:32:24.970Z"
   },
   {
    "duration": 6,
    "start_time": "2024-11-19T13:32:24.982Z"
   },
   {
    "duration": 6,
    "start_time": "2024-11-19T13:32:24.990Z"
   },
   {
    "duration": 6,
    "start_time": "2024-11-19T13:32:24.998Z"
   },
   {
    "duration": 7,
    "start_time": "2024-11-19T13:32:25.005Z"
   },
   {
    "duration": 820,
    "start_time": "2024-11-19T13:32:25.013Z"
   },
   {
    "duration": 18,
    "start_time": "2024-11-19T13:32:25.834Z"
   },
   {
    "duration": 22,
    "start_time": "2024-11-19T13:32:25.853Z"
   },
   {
    "duration": 20,
    "start_time": "2024-11-19T13:32:25.877Z"
   },
   {
    "duration": 8,
    "start_time": "2024-11-19T13:32:25.899Z"
   },
   {
    "duration": 15,
    "start_time": "2024-11-19T13:32:25.909Z"
   },
   {
    "duration": 4,
    "start_time": "2024-11-19T13:32:25.925Z"
   },
   {
    "duration": 2698,
    "start_time": "2024-11-19T13:32:25.931Z"
   },
   {
    "duration": 240,
    "start_time": "2024-11-19T13:32:28.630Z"
   },
   {
    "duration": 297,
    "start_time": "2024-11-19T13:32:28.873Z"
   },
   {
    "duration": 4,
    "start_time": "2024-11-19T13:32:29.173Z"
   },
   {
    "duration": 489754,
    "start_time": "2024-11-19T13:32:29.180Z"
   },
   {
    "duration": 48,
    "start_time": "2024-11-19T13:40:38.936Z"
   },
   {
    "duration": 326,
    "start_time": "2024-11-19T13:40:39.075Z"
   },
   {
    "duration": 54,
    "start_time": "2024-11-20T11:16:39.371Z"
   },
   {
    "duration": 1914,
    "start_time": "2024-11-20T11:16:43.941Z"
   },
   {
    "duration": 1813,
    "start_time": "2024-11-20T11:16:45.857Z"
   },
   {
    "duration": 1339,
    "start_time": "2024-11-20T11:16:47.672Z"
   },
   {
    "duration": 33,
    "start_time": "2024-11-20T11:16:49.013Z"
   },
   {
    "duration": 20,
    "start_time": "2024-11-20T11:16:49.047Z"
   },
   {
    "duration": 188,
    "start_time": "2024-11-20T11:16:49.068Z"
   },
   {
    "duration": 391,
    "start_time": "2024-11-20T11:16:49.258Z"
   },
   {
    "duration": 7,
    "start_time": "2024-11-20T11:16:49.652Z"
   },
   {
    "duration": 25,
    "start_time": "2024-11-20T11:16:49.661Z"
   },
   {
    "duration": 13,
    "start_time": "2024-11-20T11:16:49.688Z"
   },
   {
    "duration": 502,
    "start_time": "2024-11-20T11:16:49.702Z"
   },
   {
    "duration": 9,
    "start_time": "2024-11-20T11:16:50.205Z"
   },
   {
    "duration": 47,
    "start_time": "2024-11-20T11:16:50.216Z"
   },
   {
    "duration": 7,
    "start_time": "2024-11-20T11:16:50.265Z"
   },
   {
    "duration": 25,
    "start_time": "2024-11-20T11:16:50.274Z"
   },
   {
    "duration": 673,
    "start_time": "2024-11-20T11:16:50.301Z"
   },
   {
    "duration": 479,
    "start_time": "2024-11-20T11:16:50.976Z"
   },
   {
    "duration": 437,
    "start_time": "2024-11-20T11:16:53.808Z"
   },
   {
    "duration": 521,
    "start_time": "2024-11-20T11:17:09.724Z"
   },
   {
    "duration": 488,
    "start_time": "2024-11-20T11:17:16.225Z"
   },
   {
    "duration": 491,
    "start_time": "2024-11-20T11:20:46.625Z"
   },
   {
    "duration": 11,
    "start_time": "2024-11-20T11:22:05.331Z"
   },
   {
    "duration": 4,
    "start_time": "2024-11-20T11:26:41.145Z"
   },
   {
    "duration": 437,
    "start_time": "2024-11-20T11:26:41.151Z"
   },
   {
    "duration": 315,
    "start_time": "2024-11-20T11:26:41.591Z"
   },
   {
    "duration": 30,
    "start_time": "2024-11-20T11:26:41.908Z"
   },
   {
    "duration": 22,
    "start_time": "2024-11-20T11:26:41.953Z"
   },
   {
    "duration": 100,
    "start_time": "2024-11-20T11:26:41.977Z"
   },
   {
    "duration": 446,
    "start_time": "2024-11-20T11:26:42.078Z"
   },
   {
    "duration": 7,
    "start_time": "2024-11-20T11:26:42.526Z"
   },
   {
    "duration": 28,
    "start_time": "2024-11-20T11:26:42.535Z"
   },
   {
    "duration": 14,
    "start_time": "2024-11-20T11:26:42.564Z"
   },
   {
    "duration": 581,
    "start_time": "2024-11-20T11:26:42.581Z"
   },
   {
    "duration": 9,
    "start_time": "2024-11-20T11:26:43.164Z"
   },
   {
    "duration": 20,
    "start_time": "2024-11-20T11:26:43.174Z"
   },
   {
    "duration": 22,
    "start_time": "2024-11-20T11:26:43.196Z"
   },
   {
    "duration": 15,
    "start_time": "2024-11-20T11:26:43.219Z"
   },
   {
    "duration": 482,
    "start_time": "2024-11-20T11:26:43.236Z"
   },
   {
    "duration": 521,
    "start_time": "2024-11-20T11:26:43.721Z"
   },
   {
    "duration": 473,
    "start_time": "2024-11-20T11:26:44.244Z"
   },
   {
    "duration": 11,
    "start_time": "2024-11-20T11:26:44.719Z"
   },
   {
    "duration": 456,
    "start_time": "2024-11-20T11:26:44.732Z"
   },
   {
    "duration": 11,
    "start_time": "2024-11-20T11:26:45.189Z"
   },
   {
    "duration": 48,
    "start_time": "2024-11-20T11:26:45.201Z"
   },
   {
    "duration": 51,
    "start_time": "2024-11-20T11:26:45.251Z"
   },
   {
    "duration": 63,
    "start_time": "2024-11-20T11:26:45.304Z"
   },
   {
    "duration": 46,
    "start_time": "2024-11-20T11:26:45.368Z"
   },
   {
    "duration": 860,
    "start_time": "2024-11-20T11:26:45.416Z"
   },
   {
    "duration": 19,
    "start_time": "2024-11-20T11:26:46.278Z"
   },
   {
    "duration": 10,
    "start_time": "2024-11-20T11:26:46.298Z"
   },
   {
    "duration": 47,
    "start_time": "2024-11-20T11:26:46.313Z"
   },
   {
    "duration": 10,
    "start_time": "2024-11-20T11:26:46.361Z"
   },
   {
    "duration": 18,
    "start_time": "2024-11-20T11:26:46.373Z"
   },
   {
    "duration": 5,
    "start_time": "2024-11-20T11:26:46.392Z"
   },
   {
    "duration": 2828,
    "start_time": "2024-11-20T11:26:46.399Z"
   },
   {
    "duration": 324,
    "start_time": "2024-11-20T11:26:49.229Z"
   },
   {
    "duration": 205,
    "start_time": "2024-11-20T11:26:49.555Z"
   },
   {
    "duration": 90,
    "start_time": "2024-11-20T11:26:49.763Z"
   },
   {
    "duration": 512417,
    "start_time": "2024-11-20T11:26:49.855Z"
   },
   {
    "duration": 13,
    "start_time": "2024-11-20T11:35:22.274Z"
   },
   {
    "duration": 401,
    "start_time": "2024-11-20T11:35:22.289Z"
   },
   {
    "duration": 3,
    "start_time": "2024-11-20T11:35:38.950Z"
   },
   {
    "duration": 440,
    "start_time": "2024-11-20T11:35:38.955Z"
   },
   {
    "duration": 297,
    "start_time": "2024-11-20T11:35:39.397Z"
   },
   {
    "duration": 30,
    "start_time": "2024-11-20T11:35:39.696Z"
   },
   {
    "duration": 38,
    "start_time": "2024-11-20T11:35:39.727Z"
   },
   {
    "duration": 93,
    "start_time": "2024-11-20T11:35:39.767Z"
   },
   {
    "duration": 429,
    "start_time": "2024-11-20T11:35:39.861Z"
   },
   {
    "duration": 8,
    "start_time": "2024-11-20T11:35:40.292Z"
   },
   {
    "duration": 55,
    "start_time": "2024-11-20T11:35:40.303Z"
   },
   {
    "duration": 15,
    "start_time": "2024-11-20T11:35:40.360Z"
   },
   {
    "duration": 478,
    "start_time": "2024-11-20T11:35:40.377Z"
   },
   {
    "duration": 10,
    "start_time": "2024-11-20T11:35:40.857Z"
   },
   {
    "duration": 35,
    "start_time": "2024-11-20T11:35:40.869Z"
   },
   {
    "duration": 19,
    "start_time": "2024-11-20T11:35:40.906Z"
   },
   {
    "duration": 25,
    "start_time": "2024-11-20T11:35:40.927Z"
   },
   {
    "duration": 576,
    "start_time": "2024-11-20T11:35:40.954Z"
   },
   {
    "duration": 493,
    "start_time": "2024-11-20T11:35:41.532Z"
   },
   {
    "duration": 475,
    "start_time": "2024-11-20T11:35:42.027Z"
   },
   {
    "duration": 10,
    "start_time": "2024-11-20T11:35:42.504Z"
   },
   {
    "duration": 453,
    "start_time": "2024-11-20T11:35:42.516Z"
   },
   {
    "duration": 11,
    "start_time": "2024-11-20T11:35:42.970Z"
   },
   {
    "duration": 21,
    "start_time": "2024-11-20T11:35:42.982Z"
   },
   {
    "duration": 7,
    "start_time": "2024-11-20T11:35:43.005Z"
   },
   {
    "duration": 11,
    "start_time": "2024-11-20T11:35:43.015Z"
   },
   {
    "duration": 7,
    "start_time": "2024-11-20T11:35:43.028Z"
   },
   {
    "duration": 839,
    "start_time": "2024-11-20T11:35:43.053Z"
   },
   {
    "duration": 28,
    "start_time": "2024-11-20T11:35:43.895Z"
   },
   {
    "duration": 49,
    "start_time": "2024-11-20T11:35:43.925Z"
   },
   {
    "duration": 37,
    "start_time": "2024-11-20T11:35:43.976Z"
   },
   {
    "duration": 10,
    "start_time": "2024-11-20T11:35:44.014Z"
   },
   {
    "duration": 15,
    "start_time": "2024-11-20T11:35:44.025Z"
   },
   {
    "duration": 9,
    "start_time": "2024-11-20T11:35:44.042Z"
   },
   {
    "duration": 2779,
    "start_time": "2024-11-20T11:35:44.053Z"
   },
   {
    "duration": 123,
    "start_time": "2024-11-20T11:35:46.834Z"
   },
   {
    "duration": 397,
    "start_time": "2024-11-20T11:35:46.960Z"
   },
   {
    "duration": 95,
    "start_time": "2024-11-20T11:35:47.360Z"
   }
  ],
  "celltoolbar": "Отсутствует",
  "kernelspec": {
   "display_name": "Python 3 (ipykernel)",
   "language": "python",
   "name": "python3"
  },
  "language_info": {
   "codemirror_mode": {
    "name": "ipython",
    "version": 3
   },
   "file_extension": ".py",
   "mimetype": "text/x-python",
   "name": "python",
   "nbconvert_exporter": "python",
   "pygments_lexer": "ipython3",
   "version": "3.13.0"
  },
  "toc": {
   "base_numbering": 1,
   "nav_menu": {},
   "number_sections": true,
   "sideBar": true,
   "skip_h1_title": true,
   "title_cell": "Содержание",
   "title_sidebar": "Contents",
   "toc_cell": true,
   "toc_position": {
    "height": "calc(100% - 180px)",
    "left": "10px",
    "top": "150px",
    "width": "165px"
   },
   "toc_section_display": true,
   "toc_window_display": true
  }
 },
 "nbformat": 4,
 "nbformat_minor": 4
}
